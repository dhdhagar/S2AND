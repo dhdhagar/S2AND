{
 "cells": [
  {
   "cell_type": "code",
   "execution_count": 1,
   "id": "bea866bd",
   "metadata": {},
   "outputs": [],
   "source": [
    "import pickle\n",
    "import math\n",
    "import numpy as np\n",
    "import matplotlib.pyplot as plt\n",
    "%matplotlib inline"
   ]
  },
  {
   "cell_type": "code",
   "execution_count": 2,
   "id": "e5348b6e",
   "metadata": {},
   "outputs": [
    {
     "ename": "RuntimeError",
     "evalue": "module compiled against API version 0xe but this version of numpy is 0xd",
     "output_type": "error",
     "traceback": [
      "\u001b[0;31m---------------------------------------------------------------------------\u001b[0m",
      "\u001b[0;31mRuntimeError\u001b[0m                              Traceback (most recent call last)",
      "\u001b[0;31mRuntimeError\u001b[0m: module compiled against API version 0xe but this version of numpy is 0xd"
     ]
    },
    {
     "name": "stderr",
     "output_type": "stream",
     "text": [
      "2022-10-16 05:46:40,451 - s2and - WARNING - You haven't set `main_data_dir` in data/path_config.json! Using data/ as default data directory.\n",
      "Warning : `load_model` does not return WordVectorModel or SupervisedModel any more, but a `FastText` object which is very similar.\n"
     ]
    }
   ],
   "source": [
    "# load s2and production model -> Clusterer obj\n",
    "with open(\"data/production_model.pickle\", \"rb\") as _pkl_file:\n",
    "    prod_model = pickle.load(_pkl_file)\n",
    "    clusterer = prod_model['clusterer']"
   ]
  },
  {
   "cell_type": "code",
   "execution_count": 3,
   "id": "5be7f509",
   "metadata": {},
   "outputs": [],
   "source": [
    "from os.path import join\n",
    "from s2and.data import ANDData"
   ]
  },
  {
   "cell_type": "code",
   "execution_count": 16,
   "id": "7307bb67",
   "metadata": {},
   "outputs": [
    {
     "name": "stderr",
     "output_type": "stream",
     "text": [
      "2022-10-16 00:37:04,635 - s2and - INFO - loading papers\n",
      "2022-10-16 00:37:06,116 - s2and - INFO - loaded papers\n",
      "2022-10-16 00:37:06,117 - s2and - INFO - loading signatures\n",
      "2022-10-16 00:37:06,441 - s2and - INFO - loaded signatures\n",
      "2022-10-16 00:37:06,442 - s2and - INFO - loading clusters\n",
      "2022-10-16 00:37:06,442 - s2and - INFO - loaded clusters, loading specter\n",
      "2022-10-16 00:37:06,684 - s2and - INFO - loaded specter, loading cluster seeds\n",
      "2022-10-16 00:37:06,685 - s2and - INFO - loaded cluster seeds\n",
      "2022-10-16 00:37:06,686 - s2and - INFO - loading name counts\n",
      "2022-10-16 00:37:27,237 - s2and - INFO - loaded name counts\n",
      "2022-10-16 00:37:27,444 - s2and - INFO - preprocessing papers\n",
      "Preprocessing papers 1/2: 100%|█████████████████████████████████████████████████████████████████| 53959/53959 [00:08<00:00, 6259.95it/s]\n",
      "Preprocessing papers 2/2: 100%|█████████████████████████████████████████████████████████████████| 53959/53959 [00:16<00:00, 3184.63it/s]\n",
      "2022-10-16 00:37:53,930 - s2and - INFO - preprocessed papers\n",
      "2022-10-16 00:37:53,931 - s2and - INFO - preprocessing signatures\n",
      "Preprocessing signatures: 100%|███████████████████████████████████████████████████████████████████| 7144/7144 [00:01<00:00, 6512.06it/s]\n",
      "2022-10-16 00:37:55,033 - s2and - INFO - preprocessed signatures\n"
     ]
    }
   ],
   "source": [
    "# load the \"arnetminer\" dataset in inference mode and verify S2AND README instructions\n",
    "\n",
    "dataset_name = \"arnetminer\"\n",
    "parent_dir = f\"data/{dataset_name}\"\n",
    "dataset = ANDData(\n",
    "    signatures=join(parent_dir, f\"{dataset_name}_signatures.json\"),\n",
    "    papers=join(parent_dir, f\"{dataset_name}_papers.json\"),\n",
    "    mode=\"inference\",\n",
    "    specter_embeddings=join(parent_dir, f\"{dataset_name}_specter.pickle\"),\n",
    "    block_type=\"s2\",\n",
    "    name=dataset_name,\n",
    ")\n",
    "#     clusters=join(parent_dir, f\"{dataset_name}_clusters.json\"),\n",
    "#     train_pairs_size=100000,\n",
    "#     val_pairs_size=10000,\n",
    "#     test_pairs_size=10000,\n",
    "#     n_jobs=8,\n",
    "# )"
   ]
  },
  {
   "cell_type": "code",
   "execution_count": 18,
   "id": "98656860",
   "metadata": {},
   "outputs": [
    {
     "name": "stderr",
     "output_type": "stream",
     "text": [
      "2022-10-16 00:40:55,733 - s2and - INFO - Making 130 distance matrices\n",
      "2022-10-16 00:40:55,735 - s2and - INFO - Initializing pairwise_probas\n",
      "2022-10-16 00:40:55,738 - s2and - INFO - Pairwise probas initialized, starting making all pairs\n",
      "2022-10-16 00:40:55,739 - s2and - INFO - Featurizing batch 0/1\n",
      "2022-10-16 00:40:55,740 - s2and - INFO - Getting constraints\n",
      "2022-10-16 00:40:58,365 - s2and - INFO - Loading cache...\n",
      "2022-10-16 00:40:58,377 - s2and - INFO - Cache initiated.\n",
      "2022-10-16 00:40:58,454 - s2and - INFO - Creating 530735 pieces of work\n",
      "Creating work: 530735it [00:00, 811561.29it/s]\n",
      "2022-10-16 00:40:59,111 - s2and - INFO - Created pieces of work\n",
      "2022-10-16 00:40:59,112 - s2and - INFO - Cached changed, doing 497000 work in parallel\n",
      "Doing work: 100%|█████████████████████████████████████████████████████████████████████████████| 497000/497000 [04:50<00:00, 1710.31it/s]\n",
      "2022-10-16 00:45:52,251 - s2and - INFO - Work completed\n",
      "2022-10-16 00:45:52,252 - s2and - INFO - Writing to on disk cache\n",
      "2022-10-16 00:46:19,713 - s2and - INFO - Cache written with 497000 keys.\n",
      "2022-10-16 00:46:19,718 - s2and - INFO - Writing to in memory cache\n",
      "2022-10-16 00:46:19,720 - s2and - INFO - In memory cache written\n",
      "2022-10-16 00:46:19,722 - s2and - INFO - Making numpy arrays for features and labels\n",
      "2022-10-16 00:46:20,244 - s2and - INFO - Numpy arrays made\n",
      "2022-10-16 00:46:20,288 - s2and - INFO - Making predict flags\n",
      "2022-10-16 00:46:20,349 - s2and - INFO - Pairwise classification\n",
      "2022-10-16 00:49:01,659 - s2and - INFO - Starting to make matrices\n",
      "Writing matrices: 100%|█████████████████████████████████████████████████████████████████████| 530735/530735 [00:01<00:00, 374762.91it/s]\n",
      "2022-10-16 00:49:03,093 - s2and - INFO - 130 distance matrices made\n",
      "From version 0.24, get_params will raise an AttributeError if a parameter cannot be retrieved as an instance attribute. Previously it would return None.\n",
      "From version 0.24, get_params will raise an AttributeError if a parameter cannot be retrieved as an instance attribute. Previously it would return None.\n",
      "From version 0.24, get_params will raise an AttributeError if a parameter cannot be retrieved as an instance attribute. Previously it would return None.\n",
      "From version 0.24, get_params will raise an AttributeError if a parameter cannot be retrieved as an instance attribute. Previously it would return None.\n",
      "From version 0.24, get_params will raise an AttributeError if a parameter cannot be retrieved as an instance attribute. Previously it would return None.\n",
      "From version 0.24, get_params will raise an AttributeError if a parameter cannot be retrieved as an instance attribute. Previously it would return None.\n",
      "From version 0.24, get_params will raise an AttributeError if a parameter cannot be retrieved as an instance attribute. Previously it would return None.\n",
      "From version 0.24, get_params will raise an AttributeError if a parameter cannot be retrieved as an instance attribute. Previously it would return None.\n",
      "From version 0.24, get_params will raise an AttributeError if a parameter cannot be retrieved as an instance attribute. Previously it would return None.\n",
      "From version 0.24, get_params will raise an AttributeError if a parameter cannot be retrieved as an instance attribute. Previously it would return None.\n",
      "From version 0.24, get_params will raise an AttributeError if a parameter cannot be retrieved as an instance attribute. Previously it would return None.\n",
      "From version 0.24, get_params will raise an AttributeError if a parameter cannot be retrieved as an instance attribute. Previously it would return None.\n",
      "From version 0.24, get_params will raise an AttributeError if a parameter cannot be retrieved as an instance attribute. Previously it would return None.\n",
      "From version 0.24, get_params will raise an AttributeError if a parameter cannot be retrieved as an instance attribute. Previously it would return None.\n",
      "From version 0.24, get_params will raise an AttributeError if a parameter cannot be retrieved as an instance attribute. Previously it would return None.\n",
      "From version 0.24, get_params will raise an AttributeError if a parameter cannot be retrieved as an instance attribute. Previously it would return None.\n",
      "From version 0.24, get_params will raise an AttributeError if a parameter cannot be retrieved as an instance attribute. Previously it would return None.\n",
      "From version 0.24, get_params will raise an AttributeError if a parameter cannot be retrieved as an instance attribute. Previously it would return None.\n",
      "From version 0.24, get_params will raise an AttributeError if a parameter cannot be retrieved as an instance attribute. Previously it would return None.\n",
      "From version 0.24, get_params will raise an AttributeError if a parameter cannot be retrieved as an instance attribute. Previously it would return None.\n",
      "From version 0.24, get_params will raise an AttributeError if a parameter cannot be retrieved as an instance attribute. Previously it would return None.\n",
      "From version 0.24, get_params will raise an AttributeError if a parameter cannot be retrieved as an instance attribute. Previously it would return None.\n",
      "From version 0.24, get_params will raise an AttributeError if a parameter cannot be retrieved as an instance attribute. Previously it would return None.\n",
      "From version 0.24, get_params will raise an AttributeError if a parameter cannot be retrieved as an instance attribute. Previously it would return None.\n",
      "From version 0.24, get_params will raise an AttributeError if a parameter cannot be retrieved as an instance attribute. Previously it would return None.\n",
      "From version 0.24, get_params will raise an AttributeError if a parameter cannot be retrieved as an instance attribute. Previously it would return None.\n",
      "From version 0.24, get_params will raise an AttributeError if a parameter cannot be retrieved as an instance attribute. Previously it would return None.\n",
      "From version 0.24, get_params will raise an AttributeError if a parameter cannot be retrieved as an instance attribute. Previously it would return None.\n",
      "From version 0.24, get_params will raise an AttributeError if a parameter cannot be retrieved as an instance attribute. Previously it would return None.\n",
      "From version 0.24, get_params will raise an AttributeError if a parameter cannot be retrieved as an instance attribute. Previously it would return None.\n",
      "From version 0.24, get_params will raise an AttributeError if a parameter cannot be retrieved as an instance attribute. Previously it would return None.\n",
      "From version 0.24, get_params will raise an AttributeError if a parameter cannot be retrieved as an instance attribute. Previously it would return None.\n",
      "From version 0.24, get_params will raise an AttributeError if a parameter cannot be retrieved as an instance attribute. Previously it would return None.\n",
      "From version 0.24, get_params will raise an AttributeError if a parameter cannot be retrieved as an instance attribute. Previously it would return None.\n",
      "From version 0.24, get_params will raise an AttributeError if a parameter cannot be retrieved as an instance attribute. Previously it would return None.\n",
      "From version 0.24, get_params will raise an AttributeError if a parameter cannot be retrieved as an instance attribute. Previously it would return None.\n",
      "From version 0.24, get_params will raise an AttributeError if a parameter cannot be retrieved as an instance attribute. Previously it would return None.\n",
      "From version 0.24, get_params will raise an AttributeError if a parameter cannot be retrieved as an instance attribute. Previously it would return None.\n",
      "From version 0.24, get_params will raise an AttributeError if a parameter cannot be retrieved as an instance attribute. Previously it would return None.\n",
      "From version 0.24, get_params will raise an AttributeError if a parameter cannot be retrieved as an instance attribute. Previously it would return None.\n",
      "From version 0.24, get_params will raise an AttributeError if a parameter cannot be retrieved as an instance attribute. Previously it would return None.\n",
      "From version 0.24, get_params will raise an AttributeError if a parameter cannot be retrieved as an instance attribute. Previously it would return None.\n",
      "From version 0.24, get_params will raise an AttributeError if a parameter cannot be retrieved as an instance attribute. Previously it would return None.\n",
      "From version 0.24, get_params will raise an AttributeError if a parameter cannot be retrieved as an instance attribute. Previously it would return None.\n",
      "From version 0.24, get_params will raise an AttributeError if a parameter cannot be retrieved as an instance attribute. Previously it would return None.\n",
      "From version 0.24, get_params will raise an AttributeError if a parameter cannot be retrieved as an instance attribute. Previously it would return None.\n",
      "From version 0.24, get_params will raise an AttributeError if a parameter cannot be retrieved as an instance attribute. Previously it would return None.\n",
      "From version 0.24, get_params will raise an AttributeError if a parameter cannot be retrieved as an instance attribute. Previously it would return None.\n",
      "From version 0.24, get_params will raise an AttributeError if a parameter cannot be retrieved as an instance attribute. Previously it would return None.\n",
      "From version 0.24, get_params will raise an AttributeError if a parameter cannot be retrieved as an instance attribute. Previously it would return None.\n",
      "From version 0.24, get_params will raise an AttributeError if a parameter cannot be retrieved as an instance attribute. Previously it would return None.\n",
      "From version 0.24, get_params will raise an AttributeError if a parameter cannot be retrieved as an instance attribute. Previously it would return None.\n",
      "From version 0.24, get_params will raise an AttributeError if a parameter cannot be retrieved as an instance attribute. Previously it would return None.\n",
      "From version 0.24, get_params will raise an AttributeError if a parameter cannot be retrieved as an instance attribute. Previously it would return None.\n",
      "From version 0.24, get_params will raise an AttributeError if a parameter cannot be retrieved as an instance attribute. Previously it would return None.\n",
      "From version 0.24, get_params will raise an AttributeError if a parameter cannot be retrieved as an instance attribute. Previously it would return None.\n",
      "From version 0.24, get_params will raise an AttributeError if a parameter cannot be retrieved as an instance attribute. Previously it would return None.\n",
      "From version 0.24, get_params will raise an AttributeError if a parameter cannot be retrieved as an instance attribute. Previously it would return None.\n",
      "From version 0.24, get_params will raise an AttributeError if a parameter cannot be retrieved as an instance attribute. Previously it would return None.\n",
      "From version 0.24, get_params will raise an AttributeError if a parameter cannot be retrieved as an instance attribute. Previously it would return None.\n",
      "From version 0.24, get_params will raise an AttributeError if a parameter cannot be retrieved as an instance attribute. Previously it would return None.\n",
      "From version 0.24, get_params will raise an AttributeError if a parameter cannot be retrieved as an instance attribute. Previously it would return None.\n",
      "From version 0.24, get_params will raise an AttributeError if a parameter cannot be retrieved as an instance attribute. Previously it would return None.\n",
      "From version 0.24, get_params will raise an AttributeError if a parameter cannot be retrieved as an instance attribute. Previously it would return None.\n",
      "From version 0.24, get_params will raise an AttributeError if a parameter cannot be retrieved as an instance attribute. Previously it would return None.\n",
      "From version 0.24, get_params will raise an AttributeError if a parameter cannot be retrieved as an instance attribute. Previously it would return None.\n",
      "From version 0.24, get_params will raise an AttributeError if a parameter cannot be retrieved as an instance attribute. Previously it would return None.\n",
      "From version 0.24, get_params will raise an AttributeError if a parameter cannot be retrieved as an instance attribute. Previously it would return None.\n",
      "From version 0.24, get_params will raise an AttributeError if a parameter cannot be retrieved as an instance attribute. Previously it would return None.\n",
      "From version 0.24, get_params will raise an AttributeError if a parameter cannot be retrieved as an instance attribute. Previously it would return None.\n",
      "From version 0.24, get_params will raise an AttributeError if a parameter cannot be retrieved as an instance attribute. Previously it would return None.\n",
      "From version 0.24, get_params will raise an AttributeError if a parameter cannot be retrieved as an instance attribute. Previously it would return None.\n"
     ]
    },
    {
     "name": "stderr",
     "output_type": "stream",
     "text": [
      "From version 0.24, get_params will raise an AttributeError if a parameter cannot be retrieved as an instance attribute. Previously it would return None.\n",
      "From version 0.24, get_params will raise an AttributeError if a parameter cannot be retrieved as an instance attribute. Previously it would return None.\n",
      "From version 0.24, get_params will raise an AttributeError if a parameter cannot be retrieved as an instance attribute. Previously it would return None.\n",
      "From version 0.24, get_params will raise an AttributeError if a parameter cannot be retrieved as an instance attribute. Previously it would return None.\n",
      "From version 0.24, get_params will raise an AttributeError if a parameter cannot be retrieved as an instance attribute. Previously it would return None.\n",
      "From version 0.24, get_params will raise an AttributeError if a parameter cannot be retrieved as an instance attribute. Previously it would return None.\n",
      "From version 0.24, get_params will raise an AttributeError if a parameter cannot be retrieved as an instance attribute. Previously it would return None.\n",
      "From version 0.24, get_params will raise an AttributeError if a parameter cannot be retrieved as an instance attribute. Previously it would return None.\n",
      "From version 0.24, get_params will raise an AttributeError if a parameter cannot be retrieved as an instance attribute. Previously it would return None.\n",
      "From version 0.24, get_params will raise an AttributeError if a parameter cannot be retrieved as an instance attribute. Previously it would return None.\n",
      "From version 0.24, get_params will raise an AttributeError if a parameter cannot be retrieved as an instance attribute. Previously it would return None.\n",
      "From version 0.24, get_params will raise an AttributeError if a parameter cannot be retrieved as an instance attribute. Previously it would return None.\n",
      "From version 0.24, get_params will raise an AttributeError if a parameter cannot be retrieved as an instance attribute. Previously it would return None.\n",
      "From version 0.24, get_params will raise an AttributeError if a parameter cannot be retrieved as an instance attribute. Previously it would return None.\n",
      "From version 0.24, get_params will raise an AttributeError if a parameter cannot be retrieved as an instance attribute. Previously it would return None.\n",
      "From version 0.24, get_params will raise an AttributeError if a parameter cannot be retrieved as an instance attribute. Previously it would return None.\n",
      "From version 0.24, get_params will raise an AttributeError if a parameter cannot be retrieved as an instance attribute. Previously it would return None.\n",
      "From version 0.24, get_params will raise an AttributeError if a parameter cannot be retrieved as an instance attribute. Previously it would return None.\n",
      "From version 0.24, get_params will raise an AttributeError if a parameter cannot be retrieved as an instance attribute. Previously it would return None.\n",
      "From version 0.24, get_params will raise an AttributeError if a parameter cannot be retrieved as an instance attribute. Previously it would return None.\n",
      "From version 0.24, get_params will raise an AttributeError if a parameter cannot be retrieved as an instance attribute. Previously it would return None.\n",
      "From version 0.24, get_params will raise an AttributeError if a parameter cannot be retrieved as an instance attribute. Previously it would return None.\n",
      "From version 0.24, get_params will raise an AttributeError if a parameter cannot be retrieved as an instance attribute. Previously it would return None.\n",
      "From version 0.24, get_params will raise an AttributeError if a parameter cannot be retrieved as an instance attribute. Previously it would return None.\n",
      "From version 0.24, get_params will raise an AttributeError if a parameter cannot be retrieved as an instance attribute. Previously it would return None.\n",
      "From version 0.24, get_params will raise an AttributeError if a parameter cannot be retrieved as an instance attribute. Previously it would return None.\n",
      "From version 0.24, get_params will raise an AttributeError if a parameter cannot be retrieved as an instance attribute. Previously it would return None.\n",
      "From version 0.24, get_params will raise an AttributeError if a parameter cannot be retrieved as an instance attribute. Previously it would return None.\n",
      "From version 0.24, get_params will raise an AttributeError if a parameter cannot be retrieved as an instance attribute. Previously it would return None.\n",
      "From version 0.24, get_params will raise an AttributeError if a parameter cannot be retrieved as an instance attribute. Previously it would return None.\n",
      "From version 0.24, get_params will raise an AttributeError if a parameter cannot be retrieved as an instance attribute. Previously it would return None.\n",
      "From version 0.24, get_params will raise an AttributeError if a parameter cannot be retrieved as an instance attribute. Previously it would return None.\n",
      "From version 0.24, get_params will raise an AttributeError if a parameter cannot be retrieved as an instance attribute. Previously it would return None.\n",
      "From version 0.24, get_params will raise an AttributeError if a parameter cannot be retrieved as an instance attribute. Previously it would return None.\n",
      "From version 0.24, get_params will raise an AttributeError if a parameter cannot be retrieved as an instance attribute. Previously it would return None.\n",
      "From version 0.24, get_params will raise an AttributeError if a parameter cannot be retrieved as an instance attribute. Previously it would return None.\n",
      "From version 0.24, get_params will raise an AttributeError if a parameter cannot be retrieved as an instance attribute. Previously it would return None.\n"
     ]
    }
   ],
   "source": [
    "# Make predictions using the prod model\n",
    "pred_clusters, pred_distance_matrices = clusterer.predict(dataset.get_blocks(), dataset)"
   ]
  },
  {
   "cell_type": "code",
   "execution_count": 25,
   "id": "e1951737",
   "metadata": {
    "scrolled": true
   },
   "outputs": [
    {
     "name": "stdout",
     "output_type": "stream",
     "text": [
      "Collecting git+https://github.com/microsoft/hummingbird.git@mainterl/fine-tune-trees\n",
      "  Cloning https://github.com/microsoft/hummingbird.git (to revision mainterl/fine-tune-trees) to /scratch/cpu008/3679532/pip-req-build-j_e01feo\n",
      "  Running command git clone --filter=blob:none --quiet https://github.com/microsoft/hummingbird.git /scratch/cpu008/3679532/pip-req-build-j_e01feo\n",
      "  Running command git checkout -b mainterl/fine-tune-trees --track origin/mainterl/fine-tune-trees\n",
      "  Switched to a new branch 'mainterl/fine-tune-trees'\n",
      "  Branch 'mainterl/fine-tune-trees' set up to track remote branch 'mainterl/fine-tune-trees' from 'origin'.\n",
      "  Resolved https://github.com/microsoft/hummingbird.git to commit 9d16d38f66c35ec18c95a9ce72f0acd9d7080c30\n",
      "  Installing build dependencies ... \u001b[?25ldone\n",
      "\u001b[?25h  Getting requirements to build wheel ... \u001b[?25ldone\n",
      "\u001b[?25h  Preparing metadata (pyproject.toml) ... \u001b[?25ldone\n",
      "\u001b[?25hRequirement already satisfied: scikit-learn<=0.23.2,>=0.21.3 in /work/dagarwal_umass_edu/.conda/envs/s2and/lib/python3.7/site-packages (from hummingbird-ml==0.3.1) (0.23.2)\n",
      "Requirement already satisfied: psutil in /work/dagarwal_umass_edu/.conda/envs/s2and/lib/python3.7/site-packages (from hummingbird-ml==0.3.1) (5.9.0)\n",
      "Collecting dill\n",
      "  Using cached dill-0.3.5.1-py2.py3-none-any.whl (95 kB)\n",
      "Collecting onnxconverter-common<=1.7.0,>=1.6.0\n",
      "  Using cached onnxconverter_common-1.7.0-py2.py3-none-any.whl (64 kB)\n",
      "Requirement already satisfied: torch<=1.8.1,>=1.4.* in /work/dagarwal_umass_edu/.conda/envs/s2and/lib/python3.7/site-packages (from hummingbird-ml==0.3.1) (1.8.1)\n",
      "Requirement already satisfied: numpy<=1.20.*,>=1.15 in /work/dagarwal_umass_edu/.conda/envs/s2and/lib/python3.7/site-packages (from hummingbird-ml==0.3.1) (1.19.2)\n",
      "Requirement already satisfied: scipy<=1.5.4 in /work/dagarwal_umass_edu/.conda/envs/s2and/lib/python3.7/site-packages (from hummingbird-ml==0.3.1) (1.5.4)\n",
      "Collecting protobuf\n",
      "  Using cached protobuf-4.21.7-cp37-abi3-manylinux2014_x86_64.whl (408 kB)\n",
      "Collecting onnx\n",
      "  Using cached onnx-1.12.0-cp37-cp37m-manylinux_2_17_x86_64.manylinux2014_x86_64.whl (13.1 MB)\n",
      "Requirement already satisfied: threadpoolctl>=2.0.0 in /work/dagarwal_umass_edu/.conda/envs/s2and/lib/python3.7/site-packages (from scikit-learn<=0.23.2,>=0.21.3->hummingbird-ml==0.3.1) (3.1.0)\n",
      "Requirement already satisfied: joblib>=0.11 in /work/dagarwal_umass_edu/.conda/envs/s2and/lib/python3.7/site-packages (from scikit-learn<=0.23.2,>=0.21.3->hummingbird-ml==0.3.1) (1.2.0)\n",
      "Requirement already satisfied: typing-extensions in /work/dagarwal_umass_edu/.conda/envs/s2and/lib/python3.7/site-packages (from torch<=1.8.1,>=1.4.*->hummingbird-ml==0.3.1) (4.4.0)\n",
      "Collecting protobuf\n",
      "  Using cached protobuf-3.20.1-cp37-cp37m-manylinux_2_5_x86_64.manylinux1_x86_64.whl (1.0 MB)\n",
      "Building wheels for collected packages: hummingbird-ml\n",
      "  Building wheel for hummingbird-ml (pyproject.toml) ... \u001b[?25ldone\n",
      "\u001b[?25h  Created wheel for hummingbird-ml: filename=hummingbird_ml-0.3.1-py2.py3-none-any.whl size=149386 sha256=1622b61760b768a80586097507f919c6c2ee07a71c15303c76dd6f5211e23116\n",
      "  Stored in directory: /scratch/cpu008/3679532/pip-ephem-wheel-cache-ebzb5g5x/wheels/54/f2/5f/3a888a9fea1e1becaf0d647c00e84966953a2f5f5efec1eb5c\n",
      "Successfully built hummingbird-ml\n",
      "Installing collected packages: protobuf, dill, onnx, onnxconverter-common, hummingbird-ml\n",
      "Successfully installed dill-0.3.5.1 hummingbird-ml-0.3.1 onnx-1.12.0 onnxconverter-common-1.7.0 protobuf-3.20.1\n"
     ]
    }
   ],
   "source": [
    "# Install microsoft/hummingbird\n",
    "!pip install git+https://github.com/microsoft/hummingbird.git@mainterl/fine-tune-trees"
   ]
  },
  {
   "cell_type": "code",
   "execution_count": 4,
   "id": "97e7d8c0",
   "metadata": {},
   "outputs": [],
   "source": [
    "import hummingbird.ml\n",
    "from hummingbird.ml import constants\n",
    "import torch\n",
    "import lightgbm as lgb"
   ]
  },
  {
   "cell_type": "code",
   "execution_count": 56,
   "id": "80df41d5",
   "metadata": {},
   "outputs": [
    {
     "data": {
      "text/plain": [
       "LGBMClassifier(colsample_bytree=0.9476923894333807,\n",
       "               learning_rate=0.09140456060593606, max_depth=45, metric='auc',\n",
       "               min_child_samples=1779, min_child_weight=1.4729203134152992e-06,\n",
       "               min_split_gain=1.184108047915407,\n",
       "               monotone_constraints='1,1,1,0,0,0,0,1,1,1,0,1,0,-1,1,1,1,1,1,1,1,1,0,0,0,0,0,0,-1,-1,-1,0,-1,0,0,0,0,0,0',\n",
       "               monotone_constraints_method='advanced',\n",
       "               monotone_penalty=1.009268715649836, n_estimators=1796, n_jobs=16,\n",
       "               num_leaves=55, objective='binary', random_state=42,\n",
       "               reg_alpha=7.44123492799962e-05,\n",
       "               reg_lambda=1.8145145831930983e-05, subsample=0.7930734824387159,\n",
       "               tree_learner='data', verbose=-1)"
      ]
     },
     "execution_count": 56,
     "metadata": {},
     "output_type": "execute_result"
    }
   ],
   "source": [
    "clusterer.classifier"
   ]
  },
  {
   "cell_type": "code",
   "execution_count": 61,
   "id": "7385561e",
   "metadata": {},
   "outputs": [
    {
     "name": "stdout",
     "output_type": "stream",
     "text": [
      "Finished loading model, total used 259 iterations\n"
     ]
    }
   ],
   "source": [
    "# Convert the S2 LGBM classifier to torch\n",
    "def convert_gbdt_to_torch(classifier_model, test_input=None, dropout=0.1):\n",
    "    humming = hummingbird.ml.convert(classifier_model, \"torch\", test_input=test_input,\n",
    "                                     extra_config={constants.FINE_TUNE: True,\n",
    "                                                   constants.FINE_TUNE_DROPOUT_PROB: dropout})\n",
    "    return humming.model\n",
    "\n",
    "hm_model = convert_gbdt_to_torch(clusterer.classifier)"
   ]
  },
  {
   "cell_type": "code",
   "execution_count": 6,
   "id": "109b7cb5",
   "metadata": {},
   "outputs": [
    {
     "data": {
      "text/plain": [
       "1357419"
      ]
     },
     "execution_count": 6,
     "metadata": {},
     "output_type": "execute_result"
    }
   ],
   "source": [
    "# Parameter count for the converted model\n",
    "sum(p.numel() for p in hm_model.parameters() if p.requires_grad)"
   ]
  },
  {
   "cell_type": "code",
   "execution_count": 6,
   "id": "ba2920de",
   "metadata": {},
   "outputs": [
    {
     "name": "stderr",
     "output_type": "stream",
     "text": [
      "2022-10-16 05:47:04,455 - s2and - INFO - loading papers\n",
      "2022-10-16 05:47:05,828 - s2and - INFO - loaded papers\n",
      "2022-10-16 05:47:05,829 - s2and - INFO - loading signatures\n",
      "2022-10-16 05:47:05,973 - s2and - INFO - loaded signatures\n",
      "2022-10-16 05:47:05,976 - s2and - INFO - loading clusters\n",
      "2022-10-16 05:47:06,148 - s2and - INFO - loaded clusters, loading specter\n",
      "2022-10-16 05:47:06,489 - s2and - INFO - loaded specter, loading cluster seeds\n",
      "2022-10-16 05:47:06,490 - s2and - INFO - loaded cluster seeds\n",
      "2022-10-16 05:47:06,492 - s2and - INFO - making signature to cluster id\n",
      "2022-10-16 05:47:06,495 - s2and - INFO - made signature to cluster id\n",
      "2022-10-16 05:47:06,496 - s2and - INFO - loading name counts\n",
      "2022-10-16 05:47:28,797 - s2and - INFO - loaded name counts\n",
      "2022-10-16 05:47:29,010 - s2and - INFO - preprocessing papers\n",
      "Preprocessing papers 1/2: 100%|█████████████████████████████████████████████████████████████████| 53959/53959 [00:11<00:00, 4833.89it/s]\n",
      "Preprocessing papers 2/2: 100%|█████████████████████████████████████████████████████████████████| 53959/53959 [00:23<00:00, 2342.50it/s]\n",
      "2022-10-16 05:48:05,548 - s2and - INFO - preprocessed papers\n",
      "2022-10-16 05:48:05,549 - s2and - INFO - preprocessing signatures\n",
      "Preprocessing signatures: 100%|███████████████████████████████████████████████████████████████████| 7144/7144 [00:00<00:00, 7150.99it/s]\n",
      "2022-10-16 05:48:06,552 - s2and - INFO - preprocessed signatures\n",
      "2022-10-16 05:48:07,345 - s2and - INFO - featurizing train\n",
      "2022-10-16 05:48:07,346 - s2and - INFO - Loading cache...\n",
      "2022-10-16 05:48:08,875 - s2and - INFO - Cache loaded with 120000 keys\n",
      "2022-10-16 05:48:08,900 - s2and - INFO - Creating 100000 pieces of work\n",
      "2022-10-16 05:48:09,398 - s2and - INFO - Created pieces of work\n",
      "2022-10-16 05:48:09,399 - s2and - INFO - Writing to in memory cache\n",
      "2022-10-16 05:48:09,399 - s2and - INFO - In memory cache written\n",
      "2022-10-16 05:48:09,402 - s2and - INFO - Making numpy arrays for features and labels\n",
      "2022-10-16 05:48:09,460 - s2and - INFO - Numpy arrays made\n",
      "2022-10-16 05:48:09,460 - s2and - INFO - featurized train, featurizing val\n",
      "2022-10-16 05:48:09,463 - s2and - INFO - Loading cache...\n",
      "2022-10-16 05:48:09,465 - s2and - INFO - Creating 10000 pieces of work\n",
      "2022-10-16 05:48:09,516 - s2and - INFO - Created pieces of work\n",
      "2022-10-16 05:48:09,516 - s2and - INFO - Writing to in memory cache\n",
      "2022-10-16 05:48:09,517 - s2and - INFO - In memory cache written\n",
      "2022-10-16 05:48:09,517 - s2and - INFO - Making numpy arrays for features and labels\n",
      "2022-10-16 05:48:09,521 - s2and - INFO - Numpy arrays made\n",
      "2022-10-16 05:48:09,522 - s2and - INFO - featurized val, featurizing test\n",
      "2022-10-16 05:48:09,522 - s2and - INFO - Loading cache...\n",
      "2022-10-16 05:48:09,524 - s2and - INFO - Creating 10000 pieces of work\n",
      "2022-10-16 05:48:09,577 - s2and - INFO - Created pieces of work\n",
      "2022-10-16 05:48:09,578 - s2and - INFO - Writing to in memory cache\n",
      "2022-10-16 05:48:09,578 - s2and - INFO - In memory cache written\n",
      "2022-10-16 05:48:09,579 - s2and - INFO - Making numpy arrays for features and labels\n",
      "2022-10-16 05:48:09,583 - s2and - INFO - Numpy arrays made\n",
      "2022-10-16 05:48:09,583 - s2and - INFO - featurized test\n"
     ]
    }
   ],
   "source": [
    "# load dataset in \"train\" mode\n",
    "\n",
    "from s2and.model import PairwiseModeler\n",
    "from s2and.featurizer import FeaturizationInfo, featurize\n",
    "from s2and.eval import pairwise_eval\n",
    "\n",
    "dataset_name = \"arnetminer\"\n",
    "parent_dir = f\"data/{dataset_name}\"\n",
    "dataset = ANDData(\n",
    "    signatures=join(parent_dir, f\"{dataset_name}_signatures.json\"),\n",
    "    papers=join(parent_dir, f\"{dataset_name}_papers.json\"),\n",
    "    mode=\"train\",\n",
    "    specter_embeddings=join(parent_dir, f\"{dataset_name}_specter.pickle\"),\n",
    "    clusters=join(parent_dir, f\"{dataset_name}_clusters.json\"),\n",
    "    block_type=\"s2\",\n",
    "    train_pairs_size=100000,\n",
    "    val_pairs_size=10000,\n",
    "    test_pairs_size=10000,\n",
    "    name=dataset_name,\n",
    "    n_jobs=8,\n",
    ")\n",
    "\n",
    "featurization_info = FeaturizationInfo()\n",
    "# the cache will make it faster to train multiple times - it stores the features on disk for you\n",
    "train, val, test = featurize(dataset, featurization_info, n_jobs=8, use_cache=True)"
   ]
  },
  {
   "cell_type": "code",
   "execution_count": 7,
   "id": "fdf96a57",
   "metadata": {},
   "outputs": [],
   "source": [
    "X_train, y_train, _ = train\n",
    "X_val, y_val, _ = val\n",
    "X_test, y_test, _ = test"
   ]
  },
  {
   "cell_type": "code",
   "execution_count": 84,
   "id": "c9c5ee3c",
   "metadata": {},
   "outputs": [
    {
     "name": "stdout",
     "output_type": "stream",
     "text": [
      "100%|████████████████████████████████████████████████████████████████| 25/25 [15:28<00:00, 37.12s/trial, best loss: -0.9573554850856976]\n"
     ]
    },
    {
     "data": {
      "text/plain": [
       "<hyperopt.base.Trials at 0x7fd245312b38>"
      ]
     },
     "execution_count": 84,
     "metadata": {},
     "output_type": "execute_result"
    }
   ],
   "source": [
    "# Verify S2AND pairwise classifier training instructions\n",
    "\n",
    "pairwise_model = PairwiseModeler(\n",
    "    n_iter=25, monotone_constraints=featurization_info.lightgbm_monotone_constraints\n",
    ")  # calibrate=True, --> threw \"unexpected keyword argument error\"\n",
    "\n",
    "pairwise_model.fit(X_train, y_train, X_val, y_val)"
   ]
  },
  {
   "cell_type": "code",
   "execution_count": 53,
   "id": "0713d5ba",
   "metadata": {},
   "outputs": [],
   "source": [
    "# Converting NANs to -1 to allow torch to process data; check if this makes sense\n",
    "\n",
    "def get_tensors(X_train, y_train, X_val, y_val, X_test, y_test):\n",
    "    X_train_tensor = torch.tensor(X_train); X_train_tensor = torch.nan_to_num(X_train_tensor, -1)\n",
    "    y_train_tensor = torch.tensor(y_train)\n",
    "\n",
    "    X_val_tensor = torch.tensor(X_val); X_val_tensor = torch.nan_to_num(X_val_tensor, -1)\n",
    "    y_val_tensor = torch.tensor(y_val)\n",
    "\n",
    "    X_test_tensor = torch.tensor(X_test); X_test_tensor = torch.nan_to_num(X_test_tensor, -1)\n",
    "    y_test_tensor = torch.tensor(y_test)\n",
    "    \n",
    "    return X_train_tensor, y_train_tensor, X_val_tensor, y_val_tensor, X_test_tensor, y_test_tensor\n",
    "\n",
    "X_train_tensor, y_train_tensor, \\\n",
    "X_val_tensor, y_val_tensor, \\\n",
    "X_test_tensor, y_test_tensor = get_tensors(X_train, y_train, X_val, y_val, X_test, y_test)"
   ]
  },
  {
   "cell_type": "code",
   "execution_count": 21,
   "id": "5e17e743",
   "metadata": {},
   "outputs": [
    {
     "name": "stdout",
     "output_type": "stream",
     "text": [
      "tensor([30908, 77783, 96986, 69385, 94517, 45145, 10119, 56252, 82921, 56919])\n",
      "tensor([0., 0., 0., 1., 0., 0., 0., 0., 0., 1.], dtype=torch.float64)\n",
      "tensor([0, 0, 0, 1, 0, 0, 0, 0, 0, 0])\n"
     ]
    }
   ],
   "source": [
    "# Check the converted model's output\n",
    "hm_model.eval()\n",
    "rand_indices = torch.randint(0, len(X_train_tensor), (10,))\n",
    "print(rand_indices)\n",
    "with torch.no_grad():\n",
    "    pred = hm_model(X_train_tensor[rand_indices])\n",
    "print(y_train_tensor[rand_indices])\n",
    "print(pred[0])"
   ]
  },
  {
   "cell_type": "code",
   "execution_count": 11,
   "id": "c2d60506",
   "metadata": {},
   "outputs": [
    {
     "name": "stdout",
     "output_type": "stream",
     "text": [
      "Using device=cuda\n"
     ]
    }
   ],
   "source": [
    "device = torch.device(\n",
    "    \"cuda\" if torch.cuda.is_available() else \"cpu\"\n",
    ")\n",
    "print(f\"Using device={device}\")"
   ]
  },
  {
   "cell_type": "code",
   "execution_count": 62,
   "id": "a5b7cacc",
   "metadata": {},
   "outputs": [],
   "source": [
    "# Try and release memory\n",
    "\n",
    "hm_model = None\n",
    "X_train_tensor = None\n",
    "y_train_tensor = None\n",
    "X_val_tensor = None\n",
    "y_val_tensor = None\n",
    "X_test_tensor = None\n",
    "y_test_tensor = None\n",
    "torch.cuda.empty_cache()"
   ]
  },
  {
   "cell_type": "code",
   "execution_count": 63,
   "id": "dacf1669",
   "metadata": {},
   "outputs": [],
   "source": [
    "# Get tensors\n",
    "\n",
    "X_train_tensor, y_train_tensor, \\\n",
    "X_val_tensor, y_val_tensor, \\\n",
    "X_test_tensor, y_test_tensor = get_tensors(X_train, y_train, X_val, y_val, X_test, y_test)"
   ]
  },
  {
   "cell_type": "code",
   "execution_count": 68,
   "id": "3bdd8067",
   "metadata": {},
   "outputs": [
    {
     "name": "stdout",
     "output_type": "stream",
     "text": [
      "Finished loading model, total used 259 iterations\n",
      "\n",
      "Starting fine-tuning:\n",
      "\n",
      "Initial dev accuracy: 33.559998869895935 %\n",
      "\tBatch [0:20000] : 8.698726654052734\n",
      "\tBatch [20000:40000] : 1.9178091287612915\n",
      "\tBatch [40000:60000] : 2.9061832427978516\n",
      "\tBatch [60000:80000] : 3.585233211517334\n",
      "\tBatch [80000:100000] : 3.0692758560180664\n",
      "Epoch 1 : Dev accuracy: 33.149999380111694 %\n",
      "\tBatch [0:20000] : 1.868175745010376\n",
      "\tBatch [20000:40000] : 1.2286325693130493\n",
      "\tBatch [40000:60000] : 1.807142972946167\n",
      "\tBatch [60000:80000] : 2.308483600616455\n",
      "\tBatch [80000:100000] : 1.534917950630188\n",
      "Epoch 2 : Dev accuracy: 80.35999536514282 %\n",
      "\tBatch [0:20000] : 0.8463166952133179\n",
      "\tBatch [20000:40000] : 0.9828970432281494\n",
      "\tBatch [40000:60000] : 1.2617058753967285\n",
      "\tBatch [60000:80000] : 1.3068169355392456\n",
      "\tBatch [80000:100000] : 1.0712077617645264\n",
      "Epoch 3 : Dev accuracy: 37.209999561309814 %\n",
      "\tBatch [0:20000] : 0.70876145362854\n",
      "\tBatch [20000:40000] : 0.6016663908958435\n",
      "\tBatch [40000:60000] : 1.0703462362289429\n",
      "\tBatch [60000:80000] : 0.9733837842941284\n",
      "\tBatch [80000:100000] : 0.5631533265113831\n",
      "Epoch 4 : Dev accuracy: 93.15999746322632 %\n",
      "\tBatch [0:20000] : 0.6604682803153992\n",
      "\tBatch [20000:40000] : 0.8553820848464966\n",
      "\tBatch [40000:60000] : 0.8706573843955994\n",
      "\tBatch [60000:80000] : 0.6843105554580688\n",
      "\tBatch [80000:100000] : 0.5268991589546204\n",
      "Epoch 5 : Dev accuracy: 37.199997901916504 %\n",
      "\tBatch [0:20000] : 0.6657298803329468\n",
      "\tBatch [20000:40000] : 0.7537402510643005\n",
      "\tBatch [40000:60000] : 0.5731549859046936\n",
      "\tBatch [60000:80000] : 0.5112440586090088\n",
      "\tBatch [80000:100000] : 0.6008008718490601\n",
      "Epoch 6 : Dev accuracy: 37.16999888420105 %\n",
      "\tBatch [0:20000] : 0.6212459802627563\n",
      "\tBatch [20000:40000] : 0.5118233561515808\n",
      "\tBatch [40000:60000] : 0.46086210012435913\n",
      "\tBatch [60000:80000] : 0.5426154136657715\n",
      "\tBatch [80000:100000] : 0.5354087948799133\n",
      "Epoch 7 : Dev accuracy: 92.38999485969543 %\n",
      "\tBatch [0:20000] : 0.44302165508270264\n",
      "\tBatch [20000:40000] : 0.44567903876304626\n",
      "\tBatch [40000:60000] : 0.49171483516693115\n",
      "\tBatch [60000:80000] : 0.4701034128665924\n",
      "\tBatch [80000:100000] : 0.4160725474357605\n",
      "Epoch 8 : Dev accuracy: 92.35999584197998 %\n",
      "\tBatch [0:20000] : 0.4382449984550476\n",
      "\tBatch [20000:40000] : 0.46908271312713623\n",
      "\tBatch [40000:60000] : 0.4223194718360901\n",
      "\tBatch [60000:80000] : 0.41297513246536255\n",
      "\tBatch [80000:100000] : 0.4362749755382538\n",
      "Epoch 9 : Dev accuracy: 37.16999888420105 %\n",
      "\tBatch [0:20000] : 0.41434481739997864\n",
      "\tBatch [20000:40000] : 0.3930891156196594\n",
      "\tBatch [40000:60000] : 0.4318434000015259\n",
      "\tBatch [60000:80000] : 0.4160618185997009\n",
      "\tBatch [80000:100000] : 0.38573721051216125\n",
      "Epoch 10 : Dev accuracy: 92.36999750137329 %\n",
      "\tBatch [0:20000] : 0.40340378880500793\n",
      "\tBatch [20000:40000] : 0.3948182463645935\n",
      "\tBatch [40000:60000] : 0.38643670082092285\n",
      "\tBatch [60000:80000] : 0.4056130647659302\n",
      "\tBatch [80000:100000] : 0.39417165517807007\n",
      "Epoch 11 : Dev accuracy: 92.35000014305115 %\n",
      "\tBatch [0:20000] : 0.3780442476272583\n",
      "\tBatch [20000:40000] : 0.38419193029403687\n",
      "\tBatch [40000:60000] : 0.3833374083042145\n",
      "\tBatch [60000:80000] : 0.37913334369659424\n",
      "\tBatch [80000:100000] : 0.38360798358917236\n",
      "Epoch 12 : Dev accuracy: 92.35000014305115 %\n",
      "\tBatch [0:20000] : 0.3770384192466736\n",
      "\tBatch [20000:40000] : 0.370254248380661\n",
      "\tBatch [40000:60000] : 0.3765052258968353\n",
      "\tBatch [60000:80000] : 0.3739572763442993\n",
      "\tBatch [80000:100000] : 0.370318204164505\n",
      "Epoch 13 : Dev accuracy: 92.35000014305115 %\n",
      "\tBatch [0:20000] : 0.37555596232414246\n",
      "\tBatch [20000:40000] : 0.373603492975235\n",
      "\tBatch [40000:60000] : 0.3737865686416626\n",
      "\tBatch [60000:80000] : 0.37271586060523987\n",
      "\tBatch [80000:100000] : 0.36617258191108704\n",
      "Epoch 14 : Dev accuracy: 93.12999844551086 %\n",
      "\tBatch [0:20000] : 0.36809706687927246\n",
      "\tBatch [20000:40000] : 0.37263384461402893\n",
      "\tBatch [40000:60000] : 0.3718951940536499\n",
      "\tBatch [60000:80000] : 0.3669799268245697\n",
      "\tBatch [80000:100000] : 0.36262571811676025\n",
      "Epoch 15 : Dev accuracy: 93.07999610900879 %\n",
      "\tBatch [0:20000] : 0.3621819317340851\n",
      "\tBatch [20000:40000] : 0.3658261001110077\n",
      "\tBatch [40000:60000] : 0.37024495005607605\n",
      "\tBatch [60000:80000] : 0.3633195459842682\n",
      "\tBatch [80000:100000] : 0.3593641221523285\n",
      "Epoch 16 : Dev accuracy: 93.0899977684021 %\n",
      "\tBatch [0:20000] : 0.35912513732910156\n",
      "\tBatch [20000:40000] : 0.3618316650390625\n",
      "\tBatch [40000:60000] : 0.36775341629981995\n",
      "\tBatch [60000:80000] : 0.36134299635887146\n",
      "\tBatch [80000:100000] : 0.3567841649055481\n",
      "Epoch 17 : Dev accuracy: 93.12999844551086 %\n",
      "\tBatch [0:20000] : 0.35736721754074097\n",
      "\tBatch [20000:40000] : 0.35894960165023804\n",
      "\tBatch [40000:60000] : 0.3637267053127289\n",
      "\tBatch [60000:80000] : 0.358690083026886\n",
      "\tBatch [80000:100000] : 0.3541937470436096\n",
      "Epoch 18 : Dev accuracy: 93.0899977684021 %\n",
      "\tBatch [0:20000] : 0.35532325506210327\n",
      "\tBatch [20000:40000] : 0.35652512311935425\n",
      "\tBatch [40000:60000] : 0.36083248257637024\n",
      "\tBatch [60000:80000] : 0.35626113414764404\n",
      "\tBatch [80000:100000] : 0.35227736830711365\n",
      "Epoch 19 : Dev accuracy: 93.0899977684021 %\n",
      "\tBatch [0:20000] : 0.3539320230484009\n",
      "\tBatch [20000:40000] : 0.35496458411216736\n",
      "\tBatch [40000:60000] : 0.3589096665382385\n",
      "\tBatch [60000:80000] : 0.3546973168849945\n",
      "\tBatch [80000:100000] : 0.3506644070148468\n",
      "Epoch 20 : Dev accuracy: 93.12999844551086 %\n",
      "----------------\n",
      "Test accuracy: 93.70999932289124 %\n",
      "----------------\n"
     ]
    }
   ],
   "source": [
    "# Fine tune torch model\n",
    "hm_model = convert_gbdt_to_torch(clusterer.classifier, test_input=X_train_tensor.numpy())\n",
    "hm_model.to(device)\n",
    "\n",
    "y_train_tensor = y_train_tensor.float()  # Converting to keep output and prediction dtypes consistent\n",
    "\n",
    "loss_fn = torch.nn.BCELoss()\n",
    "loss = None\n",
    "\n",
    "def predict_proba(model, input):\n",
    "    return model(input)[1][:, 1]\n",
    "def evaluate(model, input, output):\n",
    "    return (sum(model(input)[0] == output) / len(input)).item()\n",
    "\n",
    "optimizer = torch.optim.AdamW(hm_model.parameters(), lr=1e-3, weight_decay=5e-4)\n",
    "print(\"\\nStarting fine-tuning:\\n\")\n",
    "with torch.no_grad():\n",
    "    hm_model.eval()\n",
    "    print(\"Initial dev accuracy:\", evaluate(hm_model, X_val_tensor.to(device), y_val_tensor.to(device))*100, \"%\")\n",
    "hm_model.train()\n",
    "\n",
    "batch_size = 20000\n",
    "for i in range(20):  # epoch\n",
    "    for j in range(0, len(X_train_tensor), batch_size):  # batch\n",
    "        X_batch = X_train_tensor[j:j+batch_size].to(device)\n",
    "        y_batch = y_train_tensor[j:j+batch_size].to(device)\n",
    "        \n",
    "        optimizer.zero_grad()\n",
    "        y_ = predict_proba(hm_model, X_batch)\n",
    "        assert y_.requires_grad\n",
    "        \n",
    "        loss = loss_fn(y_, y_batch)\n",
    "        loss.backward()\n",
    "        optimizer.step()\n",
    "        \n",
    "        # Print batch loss\n",
    "        with torch.no_grad():\n",
    "            hm_model.eval()\n",
    "            print(\"\\tBatch\", f\"[{j}:{j+batch_size}]\", \":\", loss_fn(predict_proba(hm_model, X_batch), y_batch).item())\n",
    "        hm_model.train()\n",
    "            \n",
    "    # Print epoch validation accuracy\n",
    "    with torch.no_grad():\n",
    "        hm_model.eval()\n",
    "        print(\"Epoch\", i+1, \":\", \"Dev accuracy:\", evaluate(hm_model, X_val_tensor.to(device), y_val_tensor.to(device))*100, \"%\")\n",
    "    hm_model.train()\n",
    "\n",
    "with torch.no_grad():\n",
    "    hm_model.eval()\n",
    "    print(\"----------------\")\n",
    "    print(\"Test accuracy:\", evaluate(hm_model, X_test_tensor.to(device), y_test_tensor.to(device))*100, \"%\")\n",
    "    print(\"----------------\")"
   ]
  },
  {
   "cell_type": "code",
   "execution_count": null,
   "id": "8355ad82",
   "metadata": {},
   "outputs": [],
   "source": []
  }
 ],
 "metadata": {
  "kernelspec": {
   "display_name": "Python 3 (ipykernel)",
   "language": "python",
   "name": "python3"
  },
  "language_info": {
   "codemirror_mode": {
    "name": "ipython",
    "version": 3
   },
   "file_extension": ".py",
   "mimetype": "text/x-python",
   "name": "python",
   "nbconvert_exporter": "python",
   "pygments_lexer": "ipython3",
   "version": "3.7.0"
  }
 },
 "nbformat": 4,
 "nbformat_minor": 5
}
