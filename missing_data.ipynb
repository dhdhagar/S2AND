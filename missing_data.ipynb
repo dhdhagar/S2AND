{
 "cells": [
  {
   "cell_type": "code",
   "execution_count": 2,
   "id": "af7890fb",
   "metadata": {},
   "outputs": [
    {
     "name": "stderr",
     "output_type": "stream",
     "text": [
      "2022-11-04 13:17:55,015 - s2and - WARNING - You haven't set `main_data_dir` in data/path_config.json! Using data/ as default data directory.\n",
      "Warning : `load_model` does not return WordVectorModel or SupervisedModel any more, but a `FastText` object which is very similar.\n"
     ]
    }
   ],
   "source": [
    "import pickle\n",
    "import math\n",
    "import numpy as np\n",
    "import matplotlib.pyplot as plt\n",
    "from os.path import join\n",
    "from s2and.data import ANDData\n",
    "%matplotlib inline"
   ]
  },
  {
   "cell_type": "code",
   "execution_count": 6,
   "id": "8d6b7906",
   "metadata": {},
   "outputs": [],
   "source": [
    "from tqdm import tqdm"
   ]
  },
  {
   "cell_type": "code",
   "execution_count": 2,
   "id": "6d1bb233",
   "metadata": {},
   "outputs": [
    {
     "ename": "RuntimeError",
     "evalue": "module compiled against API version 0xe but this version of numpy is 0xd",
     "output_type": "error",
     "traceback": [
      "\u001b[0;31m---------------------------------------------------------------------------\u001b[0m",
      "\u001b[0;31mRuntimeError\u001b[0m                              Traceback (most recent call last)",
      "\u001b[0;31mRuntimeError\u001b[0m: module compiled against API version 0xe but this version of numpy is 0xd"
     ]
    }
   ],
   "source": [
    "# load s2and production model -> Clusterer obj\n",
    "with open(\"data/production_model.pickle\", \"rb\") as _pkl_file:\n",
    "    prod_model = pickle.load(_pkl_file)\n",
    "    clusterer = prod_model['clusterer']"
   ]
  },
  {
   "cell_type": "code",
   "execution_count": 3,
   "id": "123ae61b",
   "metadata": {},
   "outputs": [],
   "source": [
    "def create_model_and_eval(X_train, y_train, X_val, y_val):\n",
    "    pairwise_model = PairwiseModeler(\n",
    "        n_iter=25, monotone_constraints=featurization_info.lightgbm_monotone_constraints\n",
    "    )\n",
    "    pairwise_model.fit(X_train, y_train, X_val, y_val)\n",
    "    y_pred = pairwise_model.predict_proba(X_val)\n",
    "    acc = np.sum((y_pred[:, 1]>0.5).astype(int) == y_val) / len(y_pred)\n",
    "    return acc"
   ]
  },
  {
   "cell_type": "code",
   "execution_count": 3,
   "id": "344c65fd",
   "metadata": {},
   "outputs": [
    {
     "ename": "RuntimeError",
     "evalue": "module compiled against API version 0xe but this version of numpy is 0xd",
     "output_type": "error",
     "traceback": [
      "\u001b[0;31m---------------------------------------------------------------------------\u001b[0m",
      "\u001b[0;31mRuntimeError\u001b[0m                              Traceback (most recent call last)",
      "\u001b[0;31mRuntimeError\u001b[0m: module compiled against API version 0xe but this version of numpy is 0xd"
     ]
    }
   ],
   "source": [
    "# load dataset in \"train\" mode\n",
    "\n",
    "from s2and.model import PairwiseModeler\n",
    "from s2and.featurizer import FeaturizationInfo, featurize\n",
    "from s2and.eval import pairwise_eval"
   ]
  },
  {
   "cell_type": "code",
   "execution_count": 8,
   "id": "03e0e8f7",
   "metadata": {},
   "outputs": [],
   "source": [
    "# Strategy 1: Impute to 0\n",
    "\n",
    "def strategy1(train, val):\n",
    "    X_train, y_train, _ = train\n",
    "    X_val, y_val, _ = val\n",
    "\n",
    "    X_train = np.nan_to_num(X_train)\n",
    "    X_val = np.nan_to_num(X_val)\n",
    "\n",
    "    acc = create_model_and_eval(X_train, y_train, X_val, y_val)\n",
    "    return acc"
   ]
  },
  {
   "cell_type": "code",
   "execution_count": 9,
   "id": "6a5af544",
   "metadata": {},
   "outputs": [],
   "source": [
    "# Strategy 2: Impute to -1\n",
    "\n",
    "def strategy2(train, val):\n",
    "    X_train, y_train, _ = train\n",
    "    X_val, y_val, _ = val\n",
    "\n",
    "    X_train = np.nan_to_num(X_train, nan=-1)\n",
    "    X_val = np.nan_to_num(X_val, nan=-1)\n",
    "\n",
    "    acc = create_model_and_eval(X_train, y_train, X_val, y_val)\n",
    "    return acc"
   ]
  },
  {
   "cell_type": "code",
   "execution_count": 10,
   "id": "41b4a9d1",
   "metadata": {},
   "outputs": [],
   "source": [
    "# Strategy 3: Do not impute; skip in split decisions\n",
    "\n",
    "def strategy3(train, val):\n",
    "    X_train, y_train, _ = train\n",
    "    X_val, y_val, _ = val\n",
    "\n",
    "    acc = create_model_and_eval(X_train, y_train, X_val, y_val)\n",
    "    return acc"
   ]
  },
  {
   "cell_type": "code",
   "execution_count": 11,
   "id": "67afacdb",
   "metadata": {},
   "outputs": [],
   "source": [
    "# Strategy 4: Set to large negative value\n",
    "\n",
    "def strategy4(train, val):\n",
    "    X_train, y_train, _ = train\n",
    "    X_val, y_val, _ = val\n",
    "\n",
    "    X_train = np.nan_to_num(X_train, nan=-10000)\n",
    "    X_val = np.nan_to_num(X_val, nan=-10000)\n",
    "\n",
    "    acc = create_model_and_eval(X_train, y_train, X_val, y_val)\n",
    "    return acc"
   ]
  },
  {
   "cell_type": "code",
   "execution_count": 12,
   "id": "0872f20d",
   "metadata": {},
   "outputs": [],
   "source": [
    "# Strategy 5: Mean imputation\n",
    "\n",
    "def strategy5(train, val):\n",
    "    X_train, y_train, _ = train\n",
    "    X_val, y_val, _ = val\n",
    "\n",
    "    col_mean = np.nanmean(X_train, axis=0)\n",
    "    inds = np.where(np.isnan(X_train))\n",
    "    X_train[inds] = np.take(col_mean, inds[1])\n",
    "    inds = np.where(np.isnan(X_val))\n",
    "    X_val[inds] = np.take(col_mean, inds[1])\n",
    "\n",
    "    acc = create_model_and_eval(X_train, y_train, X_val, y_val)\n",
    "    return acc"
   ]
  },
  {
   "cell_type": "code",
   "execution_count": 15,
   "id": "7b804593",
   "metadata": {},
   "outputs": [
    {
     "name": "stderr",
     "output_type": "stream",
     "text": [
      "2022-11-01 15:51:38,969 - s2and - INFO - loading papers\n"
     ]
    },
    {
     "name": "stdout",
     "output_type": "stream",
     "text": [
      "Evaluating over pubmed:\n",
      "\n"
     ]
    },
    {
     "name": "stderr",
     "output_type": "stream",
     "text": [
      "2022-11-01 15:51:41,146 - s2and - INFO - loaded papers\n",
      "2022-11-01 15:51:41,147 - s2and - INFO - loading signatures\n",
      "2022-11-01 15:51:42,588 - s2and - INFO - loaded signatures\n",
      "2022-11-01 15:51:42,589 - s2and - INFO - loading clusters\n",
      "2022-11-01 15:51:42,593 - s2and - INFO - loaded clusters, loading specter\n",
      "2022-11-01 15:51:42,617 - s2and - INFO - loaded specter, loading cluster seeds\n",
      "2022-11-01 15:51:42,618 - s2and - INFO - loaded cluster seeds\n",
      "2022-11-01 15:51:42,619 - s2and - INFO - making signature to cluster id\n",
      "2022-11-01 15:51:42,622 - s2and - INFO - made signature to cluster id\n",
      "2022-11-01 15:51:42,622 - s2and - INFO - loading name counts\n",
      "2022-11-01 15:51:58,313 - s2and - INFO - loaded name counts\n",
      "2022-11-01 15:51:58,721 - s2and - INFO - preprocessing papers\n",
      "Preprocessing papers 1/2: 100%|████████████████████████████| 134623/134623 [00:24<00:00, 5548.88it/s]\n",
      "Preprocessing papers 2/2: 100%|████████████████████████████| 134623/134623 [00:47<00:00, 2816.45it/s]\n",
      "2022-11-01 15:53:14,574 - s2and - INFO - preprocessed papers\n",
      "2022-11-01 15:53:14,575 - s2and - INFO - preprocessing signatures\n",
      "Preprocessing signatures: 100%|████████████████████████████████| 2871/2871 [00:00<00:00, 3567.95it/s]\n",
      "2022-11-01 15:53:15,385 - s2and - INFO - preprocessed signatures\n",
      "2022-11-01 15:53:18,354 - s2and - INFO - featurizing train\n",
      "2022-11-01 15:53:18,355 - s2and - INFO - Loading cache...\n",
      "2022-11-01 15:53:19,266 - s2and - INFO - Cache loaded with 118599 keys\n",
      "2022-11-01 15:53:19,273 - s2and - INFO - Creating 100000 pieces of work\n",
      "2022-11-01 15:53:19,751 - s2and - INFO - Created pieces of work\n",
      "2022-11-01 15:53:19,752 - s2and - INFO - Writing to in memory cache\n",
      "2022-11-01 15:53:19,754 - s2and - INFO - In memory cache written\n",
      "2022-11-01 15:53:19,755 - s2and - INFO - Making numpy arrays for features and labels\n",
      "2022-11-01 15:53:19,799 - s2and - INFO - Numpy arrays made\n",
      "2022-11-01 15:53:19,799 - s2and - INFO - featurized train, featurizing val\n",
      "2022-11-01 15:53:19,800 - s2and - INFO - Loading cache...\n",
      "2022-11-01 15:53:19,802 - s2and - INFO - Creating 8599 pieces of work\n",
      "2022-11-01 15:53:19,846 - s2and - INFO - Created pieces of work\n",
      "2022-11-01 15:53:19,846 - s2and - INFO - Writing to in memory cache\n",
      "2022-11-01 15:53:19,847 - s2and - INFO - In memory cache written\n",
      "2022-11-01 15:53:19,847 - s2and - INFO - Making numpy arrays for features and labels\n",
      "2022-11-01 15:53:19,850 - s2and - INFO - Numpy arrays made\n",
      "2022-11-01 15:53:19,851 - s2and - INFO - featurized val, featurizing test\n",
      "2022-11-01 15:53:19,851 - s2and - INFO - Loading cache...\n",
      "2022-11-01 15:53:19,853 - s2and - INFO - Creating 10000 pieces of work\n",
      "2022-11-01 15:53:19,904 - s2and - INFO - Created pieces of work\n",
      "2022-11-01 15:53:19,905 - s2and - INFO - Writing to in memory cache\n",
      "2022-11-01 15:53:19,905 - s2and - INFO - In memory cache written\n",
      "2022-11-01 15:53:19,906 - s2and - INFO - Making numpy arrays for features and labels\n",
      "2022-11-01 15:53:19,909 - s2and - INFO - Numpy arrays made\n",
      "2022-11-01 15:53:19,910 - s2and - INFO - featurized test\n",
      "0it [00:00, ?it/s]"
     ]
    },
    {
     "name": "stdout",
     "output_type": "stream",
     "text": [
      "\n",
      "  0%|                                                         | 0/25 [00:00<?, ?trial/s, best loss=?]\u001b[A\n",
      "  4%|█▎                              | 1/25 [00:45<18:11, 45.49s/trial, best loss: -0.99978438881883]\u001b[A\n",
      "  8%|██▍                           | 2/25 [01:03<14:16, 37.22s/trial, best loss: -0.9998516009462936]\u001b[A\n",
      " 12%|███▌                          | 3/25 [01:23<11:42, 31.93s/trial, best loss: -0.9998516009462936]\u001b[A\n",
      " 16%|████▊                         | 4/25 [01:34<09:02, 25.85s/trial, best loss: -0.9998516009462936]\u001b[A\n",
      " 20%|██████                        | 5/25 [02:04<09:01, 27.06s/trial, best loss: -0.9998516009462936]\u001b[A\n",
      " 24%|███████▏                      | 6/25 [02:29<08:22, 26.46s/trial, best loss: -0.9998516009462936]\u001b[A\n",
      " 28%|████████▍                     | 7/25 [02:46<07:03, 23.53s/trial, best loss: -0.9998516009462936]\u001b[A\n",
      " 32%|█████████▌                    | 8/25 [02:56<05:34, 19.66s/trial, best loss: -0.9998516009462936]\u001b[A\n",
      " 36%|██████████▊                   | 9/25 [03:33<06:36, 24.78s/trial, best loss: -0.9998516009462936]\u001b[A\n",
      " 40%|███████████▌                 | 10/25 [03:59<06:17, 25.14s/trial, best loss: -0.9998516009462936]\u001b[A\n",
      " 44%|████████████▊                | 11/25 [04:17<05:21, 22.97s/trial, best loss: -0.9998516009462936]\u001b[A\n",
      " 48%|█████████████▉               | 12/25 [04:48<05:30, 25.42s/trial, best loss: -0.9998516009462936]\u001b[A\n",
      " 52%|███████████████              | 13/25 [04:57<04:06, 20.52s/trial, best loss: -0.9998516009462936]\u001b[A\n",
      " 56%|████████████████▏            | 14/25 [05:14<03:31, 19.24s/trial, best loss: -0.9998516009462936]\u001b[A\n",
      " 60%|█████████████████▍           | 15/25 [05:21<02:38, 15.81s/trial, best loss: -0.9998516009462936]\u001b[A\n",
      " 64%|██████████████████▌          | 16/25 [05:29<02:00, 13.41s/trial, best loss: -0.9998516009462936]\u001b[A\n",
      " 68%|███████████████████▋         | 17/25 [05:53<02:13, 16.68s/trial, best loss: -0.9998516009462936]\u001b[A\n",
      " 72%|████████████████████▉        | 18/25 [06:04<01:44, 14.99s/trial, best loss: -0.9998516009462936]\u001b[A\n",
      " 76%|██████████████████████       | 19/25 [06:21<01:33, 15.54s/trial, best loss: -0.9998516009462936]\u001b[A\n",
      " 80%|███████████████████████▏     | 20/25 [06:52<01:40, 20.18s/trial, best loss: -0.9998516009462936]\u001b[A\n",
      "\u001b[A                                                                                                  [LightGBM] [Warning] \n",
      "\n",
      " 80%|███████████████████████▏     | 20/25 [06:52<01:40, 20.18s/trial, best loss: -0.9998516009462936]\u001b[A\n",
      "\u001b[A                                                                                                  Monotone penalty greater than tree depth. Monotone features won't be used.\n",
      "\n",
      " 80%|███████████████████████▏     | 20/25 [06:52<01:40, 20.18s/trial, best loss: -0.9998516009462936]\u001b[A\n",
      " 84%|████████████████████████▎    | 21/25 [06:59<01:04, 16.21s/trial, best loss: -0.9998516009462936]\u001b[A\n",
      " 88%|█████████████████████████▌   | 22/25 [07:24<00:56, 18.88s/trial, best loss: -0.9998516009462936]\u001b[A\n",
      "\u001b[A                                                                                                  [LightGBM] [Warning] \n",
      "\n",
      " 88%|█████████████████████████▌   | 22/25 [07:24<00:56, 18.88s/trial, best loss: -0.9998516009462936]\u001b[A\n",
      "\u001b[A                                                                                                  Monotone penalty greater than tree depth. Monotone features won't be used.\n",
      "\n",
      " 88%|█████████████████████████▌   | 22/25 [07:24<00:56, 18.88s/trial, best loss: -0.9998516009462936]\u001b[A\n",
      " 92%|██████████████████████████▋  | 23/25 [07:31<00:30, 15.33s/trial, best loss: -0.9998516009462936]\u001b[A\n",
      " 96%|███████████████████████████▊ | 24/25 [08:37<00:30, 30.54s/trial, best loss: -0.9998516009462936]\u001b[A\n",
      "100%|█████████████████████████████| 25/25 [09:09<00:00, 21.96s/trial, best loss: -0.9998516009462936]\u001b[A\n"
     ]
    },
    {
     "name": "stderr",
     "output_type": "stream",
     "text": [
      "\r",
      "1it [09:27, 567.05s/it]"
     ]
    },
    {
     "name": "stdout",
     "output_type": "stream",
     "text": [
      "\n",
      "  0%|                                                         | 0/25 [00:00<?, ?trial/s, best loss=?]\u001b[A\n",
      "  4%|█▏                            | 1/25 [00:47<19:05, 47.71s/trial, best loss: -0.9997817269523959]\u001b[A\n",
      "  8%|██▍                           | 2/25 [01:12<15:37, 40.75s/trial, best loss: -0.9998772214107227]\u001b[A\n",
      " 12%|███▌                          | 3/25 [01:33<12:47, 34.90s/trial, best loss: -0.9998772214107227]\u001b[A\n",
      " 16%|████▊                         | 4/25 [01:45<09:48, 28.05s/trial, best loss: -0.9998772214107227]\u001b[A\n",
      " 20%|██████                        | 5/25 [02:17<09:46, 29.33s/trial, best loss: -0.9998772214107227]\u001b[A\n",
      " 24%|███████▏                      | 6/25 [02:45<09:05, 28.71s/trial, best loss: -0.9998772214107227]\u001b[A\n",
      " 28%|████████▍                     | 7/25 [03:02<07:36, 25.35s/trial, best loss: -0.9998772214107227]\u001b[A\n",
      " 32%|█████████▌                    | 8/25 [03:13<05:58, 21.11s/trial, best loss: -0.9998772214107227]\u001b[A\n",
      " 36%|██████████▊                   | 9/25 [03:52<07:03, 26.48s/trial, best loss: -0.9998772214107227]\u001b[A\n",
      " 40%|███████████▌                 | 10/25 [04:18<06:34, 26.30s/trial, best loss: -0.9998772214107227]\u001b[A\n",
      " 44%|████████████▊                | 11/25 [04:40<05:47, 24.81s/trial, best loss: -0.9998772214107227]\u001b[A\n",
      " 48%|█████████████▉               | 12/25 [05:14<05:59, 27.65s/trial, best loss: -0.9998772214107227]\u001b[A\n",
      " 52%|███████████████              | 13/25 [05:24<04:28, 22.37s/trial, best loss: -0.9998772214107227]\u001b[A\n",
      " 56%|████████████████▏            | 14/25 [05:37<03:37, 19.75s/trial, best loss: -0.9998772214107227]\u001b[A\n",
      " 60%|█████████████████▍           | 15/25 [05:46<02:43, 16.31s/trial, best loss: -0.9998772214107227]\u001b[A\n",
      " 64%|██████████████████▌          | 16/25 [05:54<02:05, 13.97s/trial, best loss: -0.9998772214107227]\u001b[A\n",
      " 68%|███████████████████▋         | 17/25 [06:21<02:21, 17.70s/trial, best loss: -0.9998772214107227]\u001b[A\n",
      " 72%|████████████████████▉        | 18/25 [06:33<01:52, 16.01s/trial, best loss: -0.9998772214107227]\u001b[A\n",
      " 76%|██████████████████████       | 19/25 [06:51<01:39, 16.66s/trial, best loss: -0.9998772214107227]\u001b[A\n",
      " 80%|███████████████████████▏     | 20/25 [07:25<01:48, 21.76s/trial, best loss: -0.9998772214107227]\u001b[A\n",
      " 84%|████████████████████████▎    | 21/25 [07:43<01:22, 20.66s/trial, best loss: -0.9998772214107227]\u001b[A\n",
      " 88%|█████████████████████████▌   | 22/25 [08:01<00:59, 19.87s/trial, best loss: -0.9998772214107227]\u001b[A\n",
      " 92%|██████████████████████████▋  | 23/25 [08:31<00:46, 23.09s/trial, best loss: -0.9998772214107227]\u001b[A\n",
      " 96%|███████████████████████████▊ | 24/25 [09:02<00:25, 25.39s/trial, best loss: -0.9998772214107227]\u001b[A\n",
      "100%|█████████████████████████████| 25/25 [09:33<00:00, 22.93s/trial, best loss: -0.9998772214107227]\u001b[A\n"
     ]
    },
    {
     "name": "stderr",
     "output_type": "stream",
     "text": [
      "\r",
      "2it [19:25, 576.35s/it]"
     ]
    },
    {
     "name": "stdout",
     "output_type": "stream",
     "text": [
      "\n",
      "  0%|                                                         | 0/25 [00:00<?, ?trial/s, best loss=?]\u001b[A\n",
      "  4%|█▏                            | 1/25 [00:50<20:14, 50.59s/trial, best loss: -0.9998898652762851]\u001b[A\n",
      "  8%|██▍                            | 2/25 [01:15<16:28, 43.00s/trial, best loss: -0.999929793272798]\u001b[A\n",
      " 12%|███▋                           | 3/25 [01:37<13:24, 36.59s/trial, best loss: -0.999929793272798]\u001b[A\n",
      " 16%|████▉                          | 4/25 [01:50<10:18, 29.46s/trial, best loss: -0.999929793272798]\u001b[A\n",
      " 20%|██████▏                        | 5/25 [02:23<10:13, 30.67s/trial, best loss: -0.999929793272798]\u001b[A\n",
      " 24%|███████▍                       | 6/25 [02:51<09:23, 29.65s/trial, best loss: -0.999929793272798]\u001b[A\n",
      " 28%|████████▋                      | 7/25 [03:09<07:54, 26.36s/trial, best loss: -0.999929793272798]\u001b[A\n",
      " 32%|█████████▉                     | 8/25 [03:20<06:10, 21.79s/trial, best loss: -0.999929793272798]\u001b[A\n",
      " 36%|███████████▏                   | 9/25 [04:02<07:21, 27.58s/trial, best loss: -0.999929793272798]\u001b[A\n",
      " 40%|████████████                  | 10/25 [04:27<06:42, 26.80s/trial, best loss: -0.999929793272798]\u001b[A\n",
      " 44%|█████████████▏                | 11/25 [04:47<05:50, 25.02s/trial, best loss: -0.999929793272798]\u001b[A\n",
      " 48%|██████████████▍               | 12/25 [05:22<06:02, 27.88s/trial, best loss: -0.999929793272798]\u001b[A\n",
      " 52%|███████████████▌              | 13/25 [05:32<04:30, 22.51s/trial, best loss: -0.999929793272798]\u001b[A\n",
      " 56%|████████████████▊             | 14/25 [05:46<03:38, 19.85s/trial, best loss: -0.999929793272798]\u001b[A\n",
      " 60%|██████████████████            | 15/25 [05:54<02:43, 16.37s/trial, best loss: -0.999929793272798]\u001b[A\n",
      " 64%|███████████████████▏          | 16/25 [06:02<02:06, 14.03s/trial, best loss: -0.999929793272798]\u001b[A\n",
      " 68%|████████████████████▍         | 17/25 [06:31<02:26, 18.35s/trial, best loss: -0.999929793272798]\u001b[A\n",
      " 72%|█████████████████████▌        | 18/25 [06:43<01:54, 16.41s/trial, best loss: -0.999929793272798]\u001b[A\n",
      " 76%|██████████████████████       | 19/25 [07:03<01:44, 17.44s/trial, best loss: -0.9999437680715776]\u001b[A\n",
      " 80%|███████████████████████▏     | 20/25 [07:38<01:54, 22.85s/trial, best loss: -0.9999437680715776]\u001b[A\n",
      " 84%|████████████████████████▎    | 21/25 [07:52<01:21, 20.25s/trial, best loss: -0.9999437680715776]\u001b[A\n",
      " 88%|█████████████████████████▌   | 22/25 [08:16<01:03, 21.31s/trial, best loss: -0.9999437680715776]\u001b[A\n",
      " 92%|██████████████████████████▋  | 23/25 [10:44<01:58, 59.40s/trial, best loss: -0.9999437680715776]\u001b[A\n",
      " 96%|███████████████████████████▊ | 24/25 [11:43<00:59, 59.25s/trial, best loss: -0.9999437680715776]\u001b[A\n",
      "100%|█████████████████████████████| 25/25 [12:08<00:00, 29.12s/trial, best loss: -0.9999437680715776]\u001b[A\n"
     ]
    },
    {
     "name": "stderr",
     "output_type": "stream",
     "text": [
      "\r",
      "3it [31:52, 627.56s/it]"
     ]
    },
    {
     "name": "stdout",
     "output_type": "stream",
     "text": [
      "\n",
      "  0%|                                                         | 0/25 [00:00<?, ?trial/s, best loss=?]\u001b[A\n",
      "  4%|█▏                            | 1/25 [00:47<19:07, 47.80s/trial, best loss: -0.9997817269523959]\u001b[A\n",
      "  8%|██▍                           | 2/25 [01:12<15:41, 40.94s/trial, best loss: -0.9998772214107227]\u001b[A\n",
      " 12%|███▌                          | 3/25 [01:34<12:51, 35.06s/trial, best loss: -0.9998772214107227]\u001b[A\n",
      " 16%|████▊                         | 4/25 [01:46<09:51, 28.17s/trial, best loss: -0.9998772214107227]\u001b[A\n",
      " 20%|██████                        | 5/25 [02:18<09:49, 29.47s/trial, best loss: -0.9998772214107227]\u001b[A\n",
      " 24%|███████▏                      | 6/25 [02:45<09:07, 28.80s/trial, best loss: -0.9998772214107227]\u001b[A\n",
      " 28%|████████▍                     | 7/25 [03:03<07:36, 25.37s/trial, best loss: -0.9998772214107227]\u001b[A\n",
      " 32%|█████████▌                    | 8/25 [03:14<05:58, 21.10s/trial, best loss: -0.9998772214107227]\u001b[A\n",
      " 36%|██████████▊                   | 9/25 [03:52<06:58, 26.14s/trial, best loss: -0.9998772214107227]\u001b[A\n",
      " 40%|███████████▌                 | 10/25 [04:18<06:31, 26.07s/trial, best loss: -0.9998772214107227]\u001b[A\n",
      " 44%|████████████▊                | 11/25 [04:39<05:43, 24.56s/trial, best loss: -0.9998772214107227]\u001b[A\n",
      " 48%|█████████████▉               | 12/25 [05:13<05:55, 27.32s/trial, best loss: -0.9998772214107227]\u001b[A\n",
      " 52%|███████████████              | 13/25 [05:22<04:25, 22.08s/trial, best loss: -0.9998772214107227]\u001b[A\n",
      " 56%|████████████████▏            | 14/25 [05:36<03:34, 19.54s/trial, best loss: -0.9998772214107227]\u001b[A\n",
      " 60%|█████████████████▍           | 15/25 [05:44<02:41, 16.15s/trial, best loss: -0.9998772214107227]\u001b[A\n",
      " 64%|██████████████████▌          | 16/25 [05:53<02:04, 13.89s/trial, best loss: -0.9998772214107227]\u001b[A\n",
      " 68%|███████████████████▋         | 17/25 [06:20<02:24, 18.02s/trial, best loss: -0.9998772214107227]\u001b[A\n",
      " 72%|████████████████████▉        | 18/25 [06:32<01:53, 16.16s/trial, best loss: -0.9998772214107227]\u001b[A\n",
      " 76%|██████████████████████       | 19/25 [06:50<01:40, 16.74s/trial, best loss: -0.9998772214107227]\u001b[A\n",
      " 80%|███████████████████████▏     | 20/25 [07:23<01:48, 21.62s/trial, best loss: -0.9998772214107227]\u001b[A\n",
      " 84%|████████████████████████▎    | 21/25 [07:41<01:22, 20.53s/trial, best loss: -0.9998772214107227]\u001b[A\n",
      " 88%|█████████████████████████▌   | 22/25 [08:00<00:59, 19.81s/trial, best loss: -0.9998772214107227]\u001b[A\n",
      " 92%|██████████████████████████▋  | 23/25 [08:30<00:45, 22.92s/trial, best loss: -0.9998772214107227]\u001b[A\n",
      " 96%|███████████████████████████▊ | 24/25 [09:00<00:25, 25.12s/trial, best loss: -0.9998772214107227]\u001b[A\n",
      "100%|█████████████████████████████| 25/25 [09:31<00:00, 22.85s/trial, best loss: -0.9998772214107227]\u001b[A\n"
     ]
    },
    {
     "name": "stderr",
     "output_type": "stream",
     "text": [
      "\r",
      "4it [41:48, 618.06s/it]"
     ]
    },
    {
     "name": "stdout",
     "output_type": "stream",
     "text": [
      "\n",
      "  0%|                                                         | 0/25 [00:00<?, ?trial/s, best loss=?]\u001b[A\n",
      "  4%|█▏                            | 1/25 [00:47<18:51, 47.14s/trial, best loss: -0.9998971854089792]\u001b[A\n",
      "  8%|██▍                           | 2/25 [01:12<15:32, 40.53s/trial, best loss: -0.9998971854089792]\u001b[A\n",
      " 12%|███▌                          | 3/25 [01:32<12:37, 34.45s/trial, best loss: -0.9998971854089792]\u001b[A\n",
      " 16%|████▊                         | 4/25 [01:44<09:43, 27.77s/trial, best loss: -0.9998971854089792]\u001b[A\n",
      " 20%|██████                        | 5/25 [02:15<09:34, 28.74s/trial, best loss: -0.9998971854089792]\u001b[A\n",
      " 24%|███████▏                      | 6/25 [02:42<08:54, 28.11s/trial, best loss: -0.9998971854089792]\u001b[A\n",
      " 28%|████████▍                     | 7/25 [02:59<07:27, 24.88s/trial, best loss: -0.9998971854089792]\u001b[A\n",
      " 32%|█████████▌                    | 8/25 [03:10<05:52, 20.74s/trial, best loss: -0.9998971854089792]\u001b[A\n",
      " 36%|██████████▊                   | 9/25 [03:49<06:57, 26.08s/trial, best loss: -0.9998971854089792]\u001b[A\n",
      " 40%|███████████▌                 | 10/25 [04:14<06:27, 25.83s/trial, best loss: -0.9998971854089792]\u001b[A\n",
      " 44%|████████████▊                | 11/25 [04:35<05:41, 24.42s/trial, best loss: -0.9998971854089792]\u001b[A\n",
      " 48%|█████████████▉               | 12/25 [05:10<05:56, 27.44s/trial, best loss: -0.9998971854089792]\u001b[A\n",
      " 52%|███████████████              | 13/25 [05:20<04:26, 22.20s/trial, best loss: -0.9998971854089792]\u001b[A\n",
      " 56%|████████████████▏            | 14/25 [05:38<03:51, 21.06s/trial, best loss: -0.9998971854089792]\u001b[A\n",
      " 60%|█████████████████▍           | 15/25 [05:46<02:52, 17.22s/trial, best loss: -0.9998971854089792]\u001b[A\n",
      " 64%|██████████████████▌          | 16/25 [05:55<02:11, 14.63s/trial, best loss: -0.9998971854089792]\u001b[A\n",
      " 68%|███████████████████▋         | 17/25 [06:22<02:27, 18.43s/trial, best loss: -0.9998971854089792]\u001b[A\n",
      " 72%|████████████████████▉        | 18/25 [06:34<01:55, 16.45s/trial, best loss: -0.9998971854089792]\u001b[A\n",
      " 76%|██████████████████████       | 19/25 [06:52<01:41, 16.90s/trial, best loss: -0.9998971854089792]\u001b[A\n",
      " 80%|███████████████████████▏     | 20/25 [07:25<01:48, 21.75s/trial, best loss: -0.9998971854089792]\u001b[A\n",
      " 84%|████████████████████████▎    | 21/25 [08:00<01:42, 25.70s/trial, best loss: -0.9998971854089792]\u001b[A\n",
      " 88%|█████████████████████████▌   | 22/25 [08:23<01:14, 25.00s/trial, best loss: -0.9998971854089792]\u001b[A\n",
      " 92%|██████████████████████████▋  | 23/25 [09:00<00:57, 28.55s/trial, best loss: -0.9998971854089792]\u001b[A\n",
      " 96%|███████████████████████████▊ | 24/25 [09:31<00:29, 29.19s/trial, best loss: -0.9998971854089792]\u001b[A\n",
      "100%|█████████████████████████████| 25/25 [10:01<00:00, 24.06s/trial, best loss: -0.9998971854089792]\u001b[A\n"
     ]
    },
    {
     "name": "stderr",
     "output_type": "stream",
     "text": [
      "5it [52:46, 633.20s/it]\n",
      "2022-11-01 16:46:05,936 - s2and - INFO - loading papers\n"
     ]
    },
    {
     "name": "stdout",
     "output_type": "stream",
     "text": [
      "Evaluating over qian:\n",
      "\n"
     ]
    },
    {
     "name": "stderr",
     "output_type": "stream",
     "text": [
      "2022-11-01 16:46:07,541 - s2and - INFO - loaded papers\n",
      "2022-11-01 16:46:07,544 - s2and - INFO - loading signatures\n",
      "2022-11-01 16:46:07,793 - s2and - INFO - loaded signatures\n",
      "2022-11-01 16:46:07,797 - s2and - INFO - loading clusters\n",
      "2022-11-01 16:46:07,812 - s2and - INFO - loaded clusters, loading specter\n",
      "2022-11-01 16:46:08,053 - s2and - INFO - loaded specter, loading cluster seeds\n",
      "2022-11-01 16:46:08,056 - s2and - INFO - loaded cluster seeds\n",
      "2022-11-01 16:46:08,058 - s2and - INFO - making signature to cluster id\n",
      "2022-11-01 16:46:08,062 - s2and - INFO - made signature to cluster id\n",
      "2022-11-01 16:46:08,064 - s2and - INFO - loading name counts\n",
      "2022-11-01 16:46:30,513 - s2and - INFO - loaded name counts\n",
      "2022-11-01 16:46:30,906 - s2and - INFO - preprocessing papers\n",
      "Preprocessing papers 1/2: 100%|██████████████████████████████| 59545/59545 [00:50<00:00, 1175.33it/s]\n",
      "Preprocessing papers 2/2: 100%|██████████████████████████████| 59545/59545 [00:35<00:00, 1674.23it/s]\n",
      "2022-11-01 16:48:06,324 - s2and - INFO - preprocessed papers\n",
      "2022-11-01 16:48:06,328 - s2and - INFO - preprocessing signatures\n",
      "Preprocessing signatures: 100%|████████████████████████████████| 6542/6542 [00:02<00:00, 2614.66it/s]\n",
      "2022-11-01 16:48:08,853 - s2and - INFO - preprocessed signatures\n",
      "2022-11-01 16:48:09,657 - s2and - INFO - featurizing train\n",
      "2022-11-01 16:48:16,402 - s2and - INFO - Loading cache...\n",
      "2022-11-01 16:48:16,430 - s2and - INFO - Cache initiated.\n",
      "2022-11-01 16:48:16,442 - s2and - INFO - Creating 100000 pieces of work\n",
      "2022-11-01 16:48:16,837 - s2and - INFO - Created pieces of work\n",
      "2022-11-01 16:48:16,841 - s2and - INFO - Cached changed, doing 100000 work in parallel\n",
      "Doing work: 100%|██████████████████████████████████████████| 100000/100000 [01:17<00:00, 1294.93it/s]\n",
      "2022-11-01 16:49:35,864 - s2and - INFO - Work completed\n",
      "2022-11-01 16:49:35,867 - s2and - INFO - Writing to on disk cache\n",
      "2022-11-01 16:49:41,992 - s2and - INFO - Cache written with 100000 keys.\n",
      "2022-11-01 16:49:41,996 - s2and - INFO - Writing to in memory cache\n",
      "2022-11-01 16:49:41,998 - s2and - INFO - In memory cache written\n",
      "2022-11-01 16:49:42,000 - s2and - INFO - Making numpy arrays for features and labels\n",
      "2022-11-01 16:49:42,057 - s2and - INFO - Numpy arrays made\n",
      "2022-11-01 16:49:42,074 - s2and - INFO - featurized train, featurizing val\n",
      "2022-11-01 16:49:42,077 - s2and - INFO - Loading cache...\n",
      "2022-11-01 16:49:42,081 - s2and - INFO - Creating 6408 pieces of work\n",
      "2022-11-01 16:49:42,098 - s2and - INFO - Created pieces of work\n",
      "2022-11-01 16:49:42,101 - s2and - INFO - Cached changed, doing 6408 work in parallel\n",
      "2022-11-01 16:49:48,074 - s2and - INFO - Work completed\n",
      "2022-11-01 16:49:48,078 - s2and - INFO - Writing to on disk cache\n",
      "2022-11-01 16:49:54,477 - s2and - INFO - Cache written with 106408 keys.\n",
      "2022-11-01 16:49:54,480 - s2and - INFO - Writing to in memory cache\n",
      "2022-11-01 16:49:54,482 - s2and - INFO - In memory cache written\n",
      "2022-11-01 16:49:54,484 - s2and - INFO - Making numpy arrays for features and labels\n",
      "2022-11-01 16:49:54,489 - s2and - INFO - Numpy arrays made\n",
      "2022-11-01 16:49:54,493 - s2and - INFO - featurized val, featurizing test\n",
      "2022-11-01 16:49:54,495 - s2and - INFO - Loading cache...\n",
      "2022-11-01 16:49:54,498 - s2and - INFO - Creating 7244 pieces of work\n",
      "2022-11-01 16:49:54,517 - s2and - INFO - Created pieces of work\n",
      "2022-11-01 16:49:54,520 - s2and - INFO - Cached changed, doing 7244 work in parallel\n",
      "2022-11-01 16:50:01,106 - s2and - INFO - Work completed\n",
      "2022-11-01 16:50:01,110 - s2and - INFO - Writing to on disk cache\n",
      "2022-11-01 16:50:07,986 - s2and - INFO - Cache written with 113652 keys.\n",
      "2022-11-01 16:50:07,989 - s2and - INFO - Writing to in memory cache\n",
      "2022-11-01 16:50:07,991 - s2and - INFO - In memory cache written\n",
      "2022-11-01 16:50:07,994 - s2and - INFO - Making numpy arrays for features and labels\n",
      "2022-11-01 16:50:07,999 - s2and - INFO - Numpy arrays made\n",
      "2022-11-01 16:50:08,002 - s2and - INFO - featurized test\n",
      "0it [00:00, ?it/s]"
     ]
    },
    {
     "name": "stdout",
     "output_type": "stream",
     "text": [
      "\n",
      "  0%|                                                         | 0/25 [00:00<?, ?trial/s, best loss=?]\u001b[A\n",
      "  4%|█▏                            | 1/25 [01:36<38:41, 96.71s/trial, best loss: -0.9363821261939171]\u001b[A\n",
      "  8%|██▍                           | 2/25 [02:11<29:55, 78.05s/trial, best loss: -0.9363821261939171]\u001b[A\n",
      " 12%|███▌                          | 3/25 [02:38<23:03, 62.88s/trial, best loss: -0.9363821261939171]\u001b[A\n",
      " 16%|████▊                         | 4/25 [03:00<17:40, 50.51s/trial, best loss: -0.9363821261939171]\u001b[A\n",
      " 20%|██████                        | 5/25 [03:52<17:00, 51.02s/trial, best loss: -0.9370904254901344]\u001b[A\n",
      " 24%|███████▏                      | 6/25 [04:51<16:55, 53.47s/trial, best loss: -0.9370904254901344]\u001b[A\n",
      " 28%|████████▍                     | 7/25 [05:21<13:56, 46.45s/trial, best loss: -0.9370904254901344]\u001b[A\n",
      " 32%|█████████▌                    | 8/25 [05:39<10:41, 37.75s/trial, best loss: -0.9370904254901344]\u001b[A\n",
      " 36%|██████████▊                   | 9/25 [07:05<13:55, 52.23s/trial, best loss: -0.9370904254901344]\u001b[A\n",
      " 40%|███████████▌                 | 10/25 [08:59<17:42, 70.86s/trial, best loss: -0.9370904254901344]\u001b[A\n",
      " 44%|████████████▊                | 11/25 [09:32<13:54, 59.62s/trial, best loss: -0.9370904254901344]\u001b[A\n",
      " 48%|█████████████▉               | 12/25 [10:33<12:57, 59.78s/trial, best loss: -0.9392291673212265]\u001b[A\n",
      " 52%|███████████████              | 13/25 [10:51<09:26, 47.21s/trial, best loss: -0.9392291673212265]\u001b[A\n",
      " 56%|████████████████▏            | 14/25 [11:17<07:30, 40.94s/trial, best loss: -0.9392291673212265]\u001b[A\n",
      " 60%|█████████████████▍           | 15/25 [11:31<05:27, 32.79s/trial, best loss: -0.9392291673212265]\u001b[A\n",
      " 64%|███████████████████▏          | 16/25 [11:44<04:03, 27.08s/trial, best loss: -0.940820533413975]\u001b[A\n",
      " 68%|████████████████████▍         | 17/25 [12:40<04:45, 35.66s/trial, best loss: -0.940820533413975]\u001b[A\n",
      " 72%|█████████████████████▌        | 18/25 [13:00<03:37, 31.06s/trial, best loss: -0.940820533413975]\u001b[A\n",
      " 76%|██████████████████████▊       | 19/25 [13:30<03:04, 30.72s/trial, best loss: -0.940820533413975]\u001b[A\n",
      " 80%|███████████████████████▏     | 20/25 [14:26<03:10, 38.17s/trial, best loss: -0.9410252470309162]\u001b[A\n",
      "\u001b[A                                                                                                  [LightGBM] [Warning] \n",
      "\n",
      " 80%|███████████████████████▏     | 20/25 [14:26<03:10, 38.17s/trial, best loss: -0.9410252470309162]\u001b[A\n",
      "\u001b[A                                                                                                  Monotone penalty greater than tree depth. Monotone features won't be used.\n",
      "\n",
      " 80%|███████████████████████▏     | 20/25 [14:26<03:10, 38.17s/trial, best loss: -0.9410252470309162]\u001b[A\n",
      " 84%|████████████████████████▎    | 21/25 [14:37<02:00, 30.02s/trial, best loss: -0.9410252470309162]\u001b[A\n",
      " 88%|█████████████████████████▌   | 22/25 [15:57<02:15, 45.05s/trial, best loss: -0.9460980700955134]\u001b[A\n",
      " 92%|██████████████████████████▋  | 23/25 [16:51<01:35, 47.74s/trial, best loss: -0.9460980700955134]\u001b[A\n",
      " 96%|███████████████████████████▊ | 24/25 [19:46<01:26, 86.05s/trial, best loss: -0.9460980700955134]\u001b[A\n",
      "100%|█████████████████████████████| 25/25 [22:05<00:00, 53.02s/trial, best loss: -0.9460980700955134]\u001b[A\n"
     ]
    },
    {
     "name": "stderr",
     "output_type": "stream",
     "text": [
      "\r",
      "1it [23:18, 1398.67s/it]"
     ]
    },
    {
     "name": "stdout",
     "output_type": "stream",
     "text": [
      "\n",
      "  0%|                                                         | 0/25 [00:00<?, ?trial/s, best loss=?]\u001b[A\n",
      "  4%|█▏                            | 1/25 [01:25<34:10, 85.44s/trial, best loss: -0.9331074447027774]\u001b[A\n",
      "  8%|██▍                           | 2/25 [01:43<24:59, 65.21s/trial, best loss: -0.9331074447027774]\u001b[A\n",
      " 12%|███▌                          | 3/25 [02:04<18:59, 51.82s/trial, best loss: -0.9331074447027774]\u001b[A\n",
      " 16%|████▊                         | 4/25 [02:15<13:54, 39.76s/trial, best loss: -0.9331074447027774]\u001b[A\n",
      " 20%|██████                        | 5/25 [02:45<12:17, 36.89s/trial, best loss: -0.9331074447027774]\u001b[A\n",
      " 24%|███████▏                      | 6/25 [03:17<11:09, 35.22s/trial, best loss: -0.9331074447027774]\u001b[A\n",
      " 28%|████████▍                     | 7/25 [03:33<08:52, 29.56s/trial, best loss: -0.9331074447027774]\u001b[A\n",
      " 32%|█████████▌                    | 8/25 [03:43<06:43, 23.73s/trial, best loss: -0.9331074447027774]\u001b[A\n",
      " 36%|██████████▊                   | 9/25 [04:31<08:16, 31.00s/trial, best loss: -0.9362277318713084]\u001b[A\n",
      " 40%|███████████▌                 | 10/25 [05:28<09:40, 38.67s/trial, best loss: -0.9362277318713084]\u001b[A\n",
      " 44%|████████████▊                | 11/25 [05:47<07:40, 32.91s/trial, best loss: -0.9362277318713084]\u001b[A\n",
      " 48%|█████████████▉               | 12/25 [06:20<07:07, 32.88s/trial, best loss: -0.9362277318713084]\u001b[A\n",
      " 52%|███████████████              | 13/25 [06:29<05:09, 25.78s/trial, best loss: -0.9362277318713084]\u001b[A\n",
      " 56%|████████████████▏            | 14/25 [06:43<04:04, 22.22s/trial, best loss: -0.9362277318713084]\u001b[A\n",
      " 60%|█████████████████▍           | 15/25 [06:51<02:58, 17.82s/trial, best loss: -0.9362277318713084]\u001b[A\n",
      " 64%|██████████████████▌          | 16/25 [06:59<02:13, 14.87s/trial, best loss: -0.9410529349157974]\u001b[A\n",
      " 68%|███████████████████▋         | 17/25 [07:29<02:37, 19.66s/trial, best loss: -0.9410529349157974]\u001b[A\n",
      " 72%|████████████████████▉        | 18/25 [07:41<02:00, 17.17s/trial, best loss: -0.9410529349157974]\u001b[A\n",
      " 76%|██████████████████████       | 19/25 [07:58<01:43, 17.19s/trial, best loss: -0.9410529349157974]\u001b[A\n",
      " 80%|███████████████████████▏     | 20/25 [08:30<01:47, 21.48s/trial, best loss: -0.9410529349157974]\u001b[A\n",
      "\u001b[A                                                                                                  [LightGBM] [Warning] \n",
      "\n",
      " 80%|███████████████████████▏     | 20/25 [08:30<01:47, 21.48s/trial, best loss: -0.9410529349157974]\u001b[A\n",
      "\u001b[A                                                                                                  Monotone penalty greater than tree depth. Monotone features won't be used.\n",
      "\n",
      " 80%|███████████████████████▏     | 20/25 [08:30<01:47, 21.48s/trial, best loss: -0.9410529349157974]\u001b[A\n",
      " 84%|████████████████████████▎    | 21/25 [08:36<01:07, 16.93s/trial, best loss: -0.9410529349157974]\u001b[A\n",
      " 88%|█████████████████████████▌   | 22/25 [09:19<01:14, 24.81s/trial, best loss: -0.9422689927108207]\u001b[A\n",
      " 92%|██████████████████████████▋  | 23/25 [09:27<00:39, 19.76s/trial, best loss: -0.9422689927108207]\u001b[A\n",
      " 96%|███████████████████████████▊ | 24/25 [11:10<00:44, 44.57s/trial, best loss: -0.9422689927108207]\u001b[A\n",
      "100%|█████████████████████████████| 25/25 [11:50<00:00, 28.40s/trial, best loss: -0.9422689927108207]\u001b[A\n"
     ]
    },
    {
     "name": "stderr",
     "output_type": "stream",
     "text": [
      "\r",
      "2it [35:51, 1205.06s/it]"
     ]
    },
    {
     "name": "stdout",
     "output_type": "stream",
     "text": [
      "\n",
      "  0%|                                                         | 0/25 [00:00<?, ?trial/s, best loss=?]\u001b[A\n",
      "  4%|█▏                            | 1/25 [00:50<20:07, 50.33s/trial, best loss: -0.9360726011687822]\u001b[A\n",
      "  8%|██▍                           | 2/25 [01:09<15:40, 40.89s/trial, best loss: -0.9360726011687822]\u001b[A\n",
      " 12%|███▌                          | 3/25 [01:29<12:46, 34.86s/trial, best loss: -0.9360726011687822]\u001b[A\n",
      " 16%|████▊                         | 4/25 [01:42<09:50, 28.10s/trial, best loss: -0.9360726011687822]\u001b[A\n",
      " 20%|██████                        | 5/25 [02:13<09:38, 28.93s/trial, best loss: -0.9360726011687822]\u001b[A\n",
      " 24%|███████▏                      | 6/25 [02:44<09:25, 29.78s/trial, best loss: -0.9360726011687822]\u001b[A\n",
      " 28%|████████▍                     | 7/25 [03:01<07:46, 25.92s/trial, best loss: -0.9360726011687822]\u001b[A\n",
      " 32%|█████████▌                    | 8/25 [03:12<06:00, 21.22s/trial, best loss: -0.9360726011687822]\u001b[A\n",
      " 36%|███████████▏                   | 9/25 [04:02<07:58, 29.94s/trial, best loss: -0.937888219492271]\u001b[A\n",
      " 40%|████████████                  | 10/25 [05:00<09:37, 38.49s/trial, best loss: -0.937888219492271]\u001b[A\n",
      " 44%|█████████████▏                | 11/25 [05:20<07:41, 32.99s/trial, best loss: -0.937888219492271]\u001b[A\n",
      " 48%|██████████████▍               | 12/25 [05:54<07:11, 33.21s/trial, best loss: -0.937888219492271]\u001b[A\n",
      " 52%|███████████████▌              | 13/25 [06:04<05:12, 26.07s/trial, best loss: -0.937888219492271]\u001b[A\n",
      " 56%|████████████████▊             | 14/25 [06:18<04:08, 22.62s/trial, best loss: -0.937888219492271]\u001b[A\n",
      " 60%|██████████████████            | 15/25 [06:26<03:01, 18.14s/trial, best loss: -0.937888219492271]\u001b[A\n",
      " 64%|███████████████████▏          | 16/25 [06:34<02:16, 15.18s/trial, best loss: -0.937888219492271]\u001b[A\n",
      " 68%|████████████████████▍         | 17/25 [07:05<02:40, 20.01s/trial, best loss: -0.937888219492271]\u001b[A\n",
      " 72%|█████████████████████▌        | 18/25 [07:17<02:02, 17.45s/trial, best loss: -0.937888219492271]\u001b[A\n",
      " 76%|██████████████████████▊       | 19/25 [07:34<01:44, 17.47s/trial, best loss: -0.937888219492271]\u001b[A\n",
      " 80%|███████████████████████▏     | 20/25 [08:07<01:49, 21.98s/trial, best loss: -0.9384181184805833]\u001b[A\n",
      "\u001b[A                                                                                                  [LightGBM] [Warning] \n",
      "\n",
      " 80%|███████████████████████▏     | 20/25 [08:07<01:49, 21.98s/trial, best loss: -0.9384181184805833]\u001b[A\n",
      "\u001b[A                                                                                                  Monotone penalty greater than tree depth. Monotone features won't be used.\n",
      "\n",
      " 80%|███████████████████████▏     | 20/25 [08:07<01:49, 21.98s/trial, best loss: -0.9384181184805833]\u001b[A\n",
      " 84%|████████████████████████▎    | 21/25 [08:19<01:16, 19.09s/trial, best loss: -0.9384181184805833]\u001b[A\n",
      " 88%|█████████████████████████▌   | 22/25 [08:56<01:13, 24.53s/trial, best loss: -0.9384181184805833]\u001b[A\n",
      " 92%|██████████████████████████▋  | 23/25 [09:53<01:08, 34.17s/trial, best loss: -0.9384181184805833]\u001b[A\n",
      " 96%|███████████████████████████▊ | 24/25 [12:14<01:06, 66.23s/trial, best loss: -0.9447799500439863]\u001b[A\n",
      "100%|█████████████████████████████| 25/25 [12:40<00:00, 30.42s/trial, best loss: -0.9447799500439863]\u001b[A\n"
     ]
    },
    {
     "name": "stderr",
     "output_type": "stream",
     "text": [
      "\r",
      "3it [51:57, 1133.27s/it]"
     ]
    },
    {
     "name": "stdout",
     "output_type": "stream",
     "text": [
      "\n",
      "  0%|                                                         | 0/25 [00:00<?, ?trial/s, best loss=?]\u001b[A\n",
      "  4%|█▏                            | 1/25 [01:18<31:16, 78.19s/trial, best loss: -0.9331074447027774]\u001b[A\n",
      "  8%|██▍                           | 2/25 [01:58<25:39, 66.93s/trial, best loss: -0.9331074447027774]\u001b[A\n",
      " 12%|███▌                          | 3/25 [02:38<21:29, 58.61s/trial, best loss: -0.9331074447027774]\u001b[A\n",
      " 16%|████▊                         | 4/25 [02:58<16:30, 47.15s/trial, best loss: -0.9331074447027774]\u001b[A\n",
      " 20%|██████                        | 5/25 [03:54<16:37, 49.89s/trial, best loss: -0.9331074447027774]\u001b[A\n",
      " 24%|███████▏                      | 6/25 [04:50<16:22, 51.73s/trial, best loss: -0.9331074447027774]\u001b[A\n",
      " 28%|████████▍                     | 7/25 [05:21<13:35, 45.31s/trial, best loss: -0.9331074447027774]\u001b[A\n",
      " 32%|█████████▌                    | 8/25 [05:40<10:35, 37.41s/trial, best loss: -0.9331074447027774]\u001b[A\n",
      " 36%|██████████▊                   | 9/25 [07:09<14:07, 52.95s/trial, best loss: -0.9362277318713084]\u001b[A\n",
      " 40%|███████████▌                 | 10/25 [08:47<16:39, 66.65s/trial, best loss: -0.9362277318713084]\u001b[A\n",
      " 44%|████████████▊                | 11/25 [09:21<13:16, 56.86s/trial, best loss: -0.9362277318713084]\u001b[A\n",
      " 48%|█████████████▉               | 12/25 [10:22<12:35, 58.12s/trial, best loss: -0.9362277318713084]\u001b[A\n",
      " 52%|███████████████              | 13/25 [10:39<09:07, 45.64s/trial, best loss: -0.9362277318713084]\u001b[A\n",
      " 56%|████████████████▏            | 14/25 [11:03<07:10, 39.13s/trial, best loss: -0.9362277318713084]\u001b[A\n",
      " 60%|█████████████████▍           | 15/25 [11:16<05:12, 31.24s/trial, best loss: -0.9362277318713084]\u001b[A\n",
      " 64%|██████████████████▌          | 16/25 [11:31<03:56, 26.30s/trial, best loss: -0.9410529349157974]\u001b[A\n",
      " 68%|███████████████████▋         | 17/25 [12:27<04:43, 35.38s/trial, best loss: -0.9410529349157974]\u001b[A\n",
      " 72%|████████████████████▉        | 18/25 [12:47<03:35, 30.82s/trial, best loss: -0.9410529349157974]\u001b[A\n",
      " 76%|██████████████████████       | 19/25 [13:18<03:05, 30.94s/trial, best loss: -0.9410529349157974]\u001b[A\n",
      " 80%|███████████████████████▏     | 20/25 [14:17<03:16, 39.21s/trial, best loss: -0.9410529349157974]\u001b[A\n",
      "\u001b[A                                                                                                  [LightGBM] [Warning] \n",
      "\n",
      " 80%|███████████████████████▏     | 20/25 [14:17<03:16, 39.21s/trial, best loss: -0.9410529349157974]\u001b[A\n",
      "\u001b[A                                                                                                  Monotone penalty greater than tree depth. Monotone features won't be used.\n",
      "\n",
      " 80%|███████████████████████▏     | 20/25 [14:17<03:16, 39.21s/trial, best loss: -0.9410529349157974]\u001b[A\n",
      " 84%|████████████████████████▎    | 21/25 [14:27<02:01, 30.49s/trial, best loss: -0.9410529349157974]\u001b[A\n",
      " 88%|█████████████████████████▌   | 22/25 [15:38<02:07, 42.64s/trial, best loss: -0.9422689927108207]\u001b[A\n",
      " 92%|██████████████████████████▋  | 23/25 [15:52<01:08, 34.02s/trial, best loss: -0.9422689927108207]\u001b[A\n",
      " 96%|███████████████████████████▊ | 24/25 [18:46<01:15, 75.94s/trial, best loss: -0.9422689927108207]\u001b[A\n",
      "100%|█████████████████████████████| 25/25 [19:58<00:00, 47.93s/trial, best loss: -0.9422689927108207]\u001b[A\n"
     ]
    },
    {
     "name": "stderr",
     "output_type": "stream",
     "text": [
      "\r",
      "4it [1:13:20, 1178.01s/it]"
     ]
    },
    {
     "name": "stdout",
     "output_type": "stream",
     "text": [
      "\n",
      "  0%|                                                         | 0/25 [00:00<?, ?trial/s, best loss=?]\u001b[A"
     ]
    },
    {
     "name": "stderr",
     "output_type": "stream",
     "text": [
      "Mean of empty slice\n"
     ]
    },
    {
     "name": "stdout",
     "output_type": "stream",
     "text": [
      "\n",
      "  4%|█▏                            | 1/25 [00:47<18:52, 47.17s/trial, best loss: -0.9323062633530225]\u001b[A\n",
      "  8%|██▍                           | 2/25 [01:05<14:44, 38.45s/trial, best loss: -0.9390429613862009]\u001b[A\n",
      " 12%|███▌                          | 3/25 [01:24<12:01, 32.80s/trial, best loss: -0.9390429613862009]\u001b[A\n",
      " 16%|████▊                         | 4/25 [01:36<09:15, 26.44s/trial, best loss: -0.9390429613862009]\u001b[A\n",
      " 20%|██████                        | 5/25 [02:06<09:10, 27.55s/trial, best loss: -0.9390429613862009]\u001b[A\n",
      " 24%|███████▏                      | 6/25 [02:36<08:56, 28.25s/trial, best loss: -0.9390429613862009]\u001b[A\n",
      " 28%|████████▍                     | 7/25 [02:51<07:18, 24.37s/trial, best loss: -0.9390429613862009]\u001b[A\n",
      " 32%|█████████▌                    | 8/25 [03:01<05:41, 20.07s/trial, best loss: -0.9390429613862009]\u001b[A\n",
      " 36%|██████████▊                   | 9/25 [03:48<07:26, 27.91s/trial, best loss: -0.9390429613862009]\u001b[A\n",
      " 40%|███████████▌                 | 10/25 [04:44<09:07, 36.50s/trial, best loss: -0.9390429613862009]\u001b[A\n",
      " 44%|████████████▊                | 11/25 [05:04<07:20, 31.45s/trial, best loss: -0.9390429613862009]\u001b[A\n",
      " 48%|█████████████▉               | 12/25 [05:37<06:55, 31.98s/trial, best loss: -0.9390429613862009]\u001b[A\n",
      " 52%|███████████████              | 13/25 [05:46<05:01, 25.15s/trial, best loss: -0.9390429613862009]\u001b[A\n",
      " 56%|████████████████▏            | 14/25 [06:00<03:58, 21.66s/trial, best loss: -0.9390429613862009]\u001b[A\n",
      " 60%|█████████████████▍           | 15/25 [06:07<02:53, 17.40s/trial, best loss: -0.9390429613862009]\u001b[A\n",
      " 64%|██████████████████▌          | 16/25 [06:15<02:10, 14.51s/trial, best loss: -0.9390429613862009]\u001b[A\n",
      " 68%|███████████████████▋         | 17/25 [06:44<02:30, 18.77s/trial, best loss: -0.9390429613862009]\u001b[A\n",
      " 72%|████████████████████▉        | 18/25 [06:55<01:55, 16.50s/trial, best loss: -0.9390429613862009]\u001b[A\n",
      " 76%|██████████████████████       | 19/25 [07:12<01:39, 16.58s/trial, best loss: -0.9390429613862009]\u001b[A\n",
      " 80%|███████████████████████▏     | 20/25 [07:42<01:44, 20.83s/trial, best loss: -0.9390429613862009]\u001b[A\n",
      " 84%|████████████████████████▎    | 21/25 [08:18<01:40, 25.21s/trial, best loss: -0.9392306891730553]\u001b[A\n",
      " 88%|█████████████████████████▌   | 22/25 [08:48<01:20, 26.74s/trial, best loss: -0.9392306891730553]\u001b[A\n",
      " 92%|██████████████████████████▋  | 23/25 [09:27<01:00, 30.47s/trial, best loss: -0.9392306891730553]\u001b[A\n",
      " 96%|███████████████████████████▊ | 24/25 [10:06<00:32, 32.81s/trial, best loss: -0.9392306891730553]\u001b[A\n",
      "100%|█████████████████████████████| 25/25 [11:59<00:00, 28.79s/trial, best loss: -0.9392306891730553]\u001b[A\n"
     ]
    },
    {
     "name": "stderr",
     "output_type": "stream",
     "text": [
      "5it [1:25:55, 1031.10s/it]\n",
      "2022-11-01 18:16:03,523 - s2and - INFO - loading papers\n"
     ]
    },
    {
     "name": "stdout",
     "output_type": "stream",
     "text": [
      "Evaluating over zbmath:\n",
      "\n"
     ]
    },
    {
     "name": "stderr",
     "output_type": "stream",
     "text": [
      "2022-11-01 18:16:03,796 - s2and - INFO - loaded papers\n",
      "2022-11-01 18:16:03,797 - s2and - INFO - loading signatures\n",
      "2022-11-01 18:16:03,964 - s2and - INFO - loaded signatures\n",
      "2022-11-01 18:16:03,965 - s2and - INFO - loading clusters\n",
      "2022-11-01 18:16:03,980 - s2and - INFO - loaded clusters, loading specter\n",
      "2022-11-01 18:16:04,278 - s2and - INFO - loaded specter, loading cluster seeds\n",
      "2022-11-01 18:16:04,279 - s2and - INFO - loaded cluster seeds\n",
      "2022-11-01 18:16:04,280 - s2and - INFO - making signature to cluster id\n",
      "2022-11-01 18:16:04,284 - s2and - INFO - made signature to cluster id\n",
      "2022-11-01 18:16:04,285 - s2and - INFO - loading name counts\n",
      "2022-11-01 18:16:20,164 - s2and - INFO - loaded name counts\n",
      "2022-11-01 18:16:21,023 - s2and - INFO - preprocessing papers\n",
      "Preprocessing papers 1/2: 100%|██████████████████████████████| 23406/23406 [00:05<00:00, 4296.25it/s]\n",
      "Preprocessing papers 2/2: 100%|██████████████████████████████| 23406/23406 [00:04<00:00, 4702.58it/s]\n",
      "2022-11-01 18:16:35,033 - s2and - INFO - preprocessed papers\n",
      "2022-11-01 18:16:35,034 - s2and - INFO - preprocessing signatures\n",
      "Preprocessing signatures: 100%|██████████████████████████████| 15181/15181 [00:01<00:00, 9190.53it/s]\n",
      "2022-11-01 18:16:36,690 - s2and - INFO - preprocessed signatures\n",
      "2022-11-01 18:16:37,127 - s2and - INFO - featurizing train\n",
      "2022-11-01 18:16:39,088 - s2and - INFO - Loading cache...\n",
      "2022-11-01 18:16:39,102 - s2and - INFO - Cache initiated.\n",
      "2022-11-01 18:16:39,110 - s2and - INFO - Creating 100000 pieces of work\n",
      "2022-11-01 18:16:39,227 - s2and - INFO - Created pieces of work\n",
      "2022-11-01 18:16:39,227 - s2and - INFO - Cached changed, doing 100000 work in parallel\n",
      "Doing work: 100%|██████████████████████████████████████████| 100000/100000 [00:21<00:00, 4561.71it/s]\n",
      "2022-11-01 18:17:02,239 - s2and - INFO - Work completed\n",
      "2022-11-01 18:17:02,240 - s2and - INFO - Writing to on disk cache\n",
      "2022-11-01 18:17:05,081 - s2and - INFO - Cache written with 100000 keys.\n",
      "2022-11-01 18:17:05,081 - s2and - INFO - Writing to in memory cache\n",
      "2022-11-01 18:17:05,082 - s2and - INFO - In memory cache written\n",
      "2022-11-01 18:17:05,084 - s2and - INFO - Making numpy arrays for features and labels\n",
      "2022-11-01 18:17:05,128 - s2and - INFO - Numpy arrays made\n",
      "2022-11-01 18:17:05,139 - s2and - INFO - featurized train, featurizing val\n",
      "2022-11-01 18:17:05,139 - s2and - INFO - Loading cache...\n",
      "2022-11-01 18:17:05,141 - s2and - INFO - Creating 10000 pieces of work\n",
      "2022-11-01 18:17:05,159 - s2and - INFO - Created pieces of work\n",
      "2022-11-01 18:17:05,159 - s2and - INFO - Cached changed, doing 10000 work in parallel\n",
      "2022-11-01 18:17:08,351 - s2and - INFO - Work completed\n",
      "2022-11-01 18:17:08,352 - s2and - INFO - Writing to on disk cache\n",
      "2022-11-01 18:17:11,484 - s2and - INFO - Cache written with 110000 keys.\n",
      "2022-11-01 18:17:11,485 - s2and - INFO - Writing to in memory cache\n",
      "2022-11-01 18:17:11,486 - s2and - INFO - In memory cache written\n",
      "2022-11-01 18:17:11,487 - s2and - INFO - Making numpy arrays for features and labels\n",
      "2022-11-01 18:17:11,493 - s2and - INFO - Numpy arrays made\n",
      "2022-11-01 18:17:11,495 - s2and - INFO - featurized val, featurizing test\n",
      "2022-11-01 18:17:11,496 - s2and - INFO - Loading cache...\n",
      "2022-11-01 18:17:11,498 - s2and - INFO - Creating 10000 pieces of work\n",
      "2022-11-01 18:17:11,518 - s2and - INFO - Created pieces of work\n",
      "2022-11-01 18:17:11,519 - s2and - INFO - Cached changed, doing 10000 work in parallel\n",
      "2022-11-01 18:17:14,708 - s2and - INFO - Work completed\n",
      "2022-11-01 18:17:14,709 - s2and - INFO - Writing to on disk cache\n",
      "2022-11-01 18:17:18,110 - s2and - INFO - Cache written with 120000 keys.\n",
      "2022-11-01 18:17:18,111 - s2and - INFO - Writing to in memory cache\n",
      "2022-11-01 18:17:18,112 - s2and - INFO - In memory cache written\n",
      "2022-11-01 18:17:18,114 - s2and - INFO - Making numpy arrays for features and labels\n",
      "2022-11-01 18:17:18,119 - s2and - INFO - Numpy arrays made\n",
      "2022-11-01 18:17:18,121 - s2and - INFO - featurized test\n",
      "0it [00:00, ?it/s]"
     ]
    },
    {
     "name": "stdout",
     "output_type": "stream",
     "text": [
      "\n",
      "  0%|                                                         | 0/25 [00:00<?, ?trial/s, best loss=?]\u001b[A\n",
      "  4%|█▏                            | 1/25 [00:39<15:55, 39.83s/trial, best loss: -0.9527854658129595]\u001b[A\n",
      "  8%|██▍                           | 2/25 [00:58<12:49, 33.45s/trial, best loss: -0.9565535966590955]\u001b[A\n",
      " 12%|███▌                          | 3/25 [01:15<10:26, 28.48s/trial, best loss: -0.9565535966590955]\u001b[A\n",
      " 16%|████▊                         | 4/25 [01:24<07:59, 22.83s/trial, best loss: -0.9565535966590955]\u001b[A\n",
      " 20%|██████                        | 5/25 [01:52<08:06, 24.32s/trial, best loss: -0.9565535966590955]\u001b[A\n",
      " 24%|███████▏                      | 6/25 [02:16<07:40, 24.23s/trial, best loss: -0.9565535966590955]\u001b[A\n",
      " 28%|████████▍                     | 7/25 [02:30<06:20, 21.12s/trial, best loss: -0.9565535966590955]\u001b[A\n",
      " 32%|█████████▌                    | 8/25 [02:39<04:56, 17.46s/trial, best loss: -0.9565535966590955]\u001b[A\n",
      " 36%|██████████▊                   | 9/25 [03:15<06:07, 22.99s/trial, best loss: -0.9565535966590955]\u001b[A\n",
      " 40%|███████████▌                 | 10/25 [03:49<06:36, 26.41s/trial, best loss: -0.9565535966590955]\u001b[A\n",
      " 44%|████████████▊                | 11/25 [04:05<05:24, 23.18s/trial, best loss: -0.9565535966590955]\u001b[A\n",
      " 48%|█████████████▉               | 12/25 [04:34<05:22, 24.84s/trial, best loss: -0.9565535966590955]\u001b[A\n",
      " 52%|███████████████              | 13/25 [04:42<03:57, 19.83s/trial, best loss: -0.9565535966590955]\u001b[A\n",
      " 56%|████████████████▏            | 14/25 [05:06<03:51, 21.04s/trial, best loss: -0.9565535966590955]\u001b[A\n",
      " 60%|█████████████████▍           | 15/25 [05:12<02:47, 16.75s/trial, best loss: -0.9565535966590955]\u001b[A\n",
      " 64%|██████████████████▌          | 16/25 [05:19<02:04, 13.85s/trial, best loss: -0.9565535966590955]\u001b[A\n",
      " 68%|███████████████████▋         | 17/25 [05:42<02:11, 16.46s/trial, best loss: -0.9565535966590955]\u001b[A\n",
      " 72%|████████████████████▉        | 18/25 [05:52<01:40, 14.41s/trial, best loss: -0.9565535966590955]\u001b[A\n",
      " 76%|██████████████████████       | 19/25 [06:07<01:27, 14.57s/trial, best loss: -0.9565535966590955]\u001b[A\n",
      " 80%|███████████████████████▏     | 20/25 [06:34<01:32, 18.45s/trial, best loss: -0.9565535966590955]\u001b[A\n",
      " 84%|████████████████████████▎    | 21/25 [07:08<01:32, 23.03s/trial, best loss: -0.9565535966590955]\u001b[A\n",
      " 88%|█████████████████████████▌   | 22/25 [08:35<02:07, 42.36s/trial, best loss: -0.9565535966590955]\u001b[A\n",
      " 92%|██████████████████████████▋  | 23/25 [08:47<01:06, 33.23s/trial, best loss: -0.9565535966590955]\u001b[A\n",
      " 96%|███████████████████████████▊ | 24/25 [08:57<00:26, 26.33s/trial, best loss: -0.9565535966590955]\u001b[A\n",
      "100%|█████████████████████████████| 25/25 [09:09<00:00, 21.99s/trial, best loss: -0.9565535966590955]\u001b[A\n"
     ]
    },
    {
     "name": "stderr",
     "output_type": "stream",
     "text": [
      "\r",
      "1it [09:28, 568.35s/it]"
     ]
    },
    {
     "name": "stdout",
     "output_type": "stream",
     "text": [
      "\n",
      "  0%|                                                         | 0/25 [00:00<?, ?trial/s, best loss=?]\u001b[A\n",
      "  4%|█▏                            | 1/25 [00:44<17:43, 44.32s/trial, best loss: -0.9536629451111548]\u001b[A\n",
      "  8%|██▍                           | 2/25 [01:06<14:26, 37.69s/trial, best loss: -0.9536629451111548]\u001b[A\n",
      " 12%|███▌                          | 3/25 [01:25<11:43, 31.98s/trial, best loss: -0.9536629451111548]\u001b[A\n",
      " 16%|████▊                         | 4/25 [01:36<08:59, 25.67s/trial, best loss: -0.9536629451111548]\u001b[A\n",
      " 20%|██████                        | 5/25 [02:06<08:59, 26.97s/trial, best loss: -0.9536629451111548]\u001b[A\n",
      " 24%|███████▏                      | 6/25 [02:32<08:26, 26.64s/trial, best loss: -0.9536629451111548]\u001b[A\n",
      " 28%|████████▍                     | 7/25 [02:47<06:57, 23.18s/trial, best loss: -0.9536629451111548]\u001b[A\n",
      " 32%|█████████▌                    | 8/25 [02:57<05:26, 19.22s/trial, best loss: -0.9536629451111548]\u001b[A\n",
      " 36%|██████████▊                   | 9/25 [03:34<06:33, 24.59s/trial, best loss: -0.9536629451111548]\u001b[A\n",
      " 40%|███████████▌                 | 10/25 [04:11<07:05, 28.36s/trial, best loss: -0.9536629451111548]\u001b[A\n",
      " 44%|████████████▊                | 11/25 [04:30<05:58, 25.58s/trial, best loss: -0.9536629451111548]\u001b[A\n",
      " 48%|█████████████▉               | 12/25 [06:10<10:21, 47.84s/trial, best loss: -0.9536629451111548]\u001b[A\n",
      " 52%|███████████████              | 13/25 [06:45<08:48, 44.06s/trial, best loss: -0.9536629451111548]\u001b[A\n",
      " 56%|████████████████▏            | 14/25 [07:37<08:29, 46.35s/trial, best loss: -0.9536629451111548]\u001b[A\n",
      " 60%|█████████████████▍           | 15/25 [08:07<06:55, 41.59s/trial, best loss: -0.9536629451111548]\u001b[A\n",
      " 64%|██████████████████▌          | 16/25 [08:43<05:57, 39.74s/trial, best loss: -0.9536629451111548]\u001b[A\n",
      " 68%|███████████████████▋         | 17/25 [10:46<08:39, 64.97s/trial, best loss: -0.9536629451111548]\u001b[A\n",
      " 72%|████████████████████▉        | 18/25 [11:31<06:51, 58.78s/trial, best loss: -0.9536629451111548]\u001b[A\n",
      " 76%|██████████████████████       | 19/25 [12:41<06:14, 62.36s/trial, best loss: -0.9536629451111548]\u001b[A\n",
      " 80%|███████████████████████▏     | 20/25 [14:43<06:40, 80.18s/trial, best loss: -0.9536629451111548]\u001b[A\n",
      " 84%|███████████████████████▌    | 21/25 [17:20<06:52, 103.23s/trial, best loss: -0.9536629451111548]\u001b[A\n",
      " 88%|████████████████████████▋   | 22/25 [25:59<11:23, 227.94s/trial, best loss: -0.9536629451111548]\u001b[A\n",
      " 92%|█████████████████████████▊  | 23/25 [27:52<06:27, 193.53s/trial, best loss: -0.9536629451111548]\u001b[A\n",
      " 96%|██████████████████████████▉ | 24/25 [29:28<02:44, 164.12s/trial, best loss: -0.9536629451111548]\u001b[A\n",
      "100%|█████████████████████████████| 25/25 [30:29<00:00, 73.20s/trial, best loss: -0.9536629451111548]\u001b[A\n"
     ]
    },
    {
     "name": "stderr",
     "output_type": "stream",
     "text": [
      "\r",
      "2it [43:16, 1006.22s/it]"
     ]
    },
    {
     "name": "stdout",
     "output_type": "stream",
     "text": [
      "\n",
      "  0%|                                                         | 0/25 [00:00<?, ?trial/s, best loss=?]\u001b[A\n",
      "  4%|█                          | 1/25 [02:42<1:04:52, 162.19s/trial, best loss: -0.9485618281973782]\u001b[A\n",
      "  8%|██▎                          | 2/25 [03:05<46:09, 120.42s/trial, best loss: -0.9506062990717722]\u001b[A\n",
      " 12%|███▌                          | 3/25 [03:25<33:08, 90.41s/trial, best loss: -0.9506062990717722]\u001b[A\n",
      " 16%|████▊                         | 4/25 [03:36<23:20, 66.71s/trial, best loss: -0.9506062990717722]\u001b[A\n",
      " 20%|██████                        | 5/25 [04:08<18:45, 56.25s/trial, best loss: -0.9506062990717722]\u001b[A\n",
      " 24%|███████▏                      | 6/25 [04:34<14:55, 47.12s/trial, best loss: -0.9506062990717722]\u001b[A\n",
      " 28%|████████▍                     | 7/25 [04:50<11:19, 37.74s/trial, best loss: -0.9506062990717722]\u001b[A\n",
      " 32%|█████████▌                    | 8/25 [05:00<08:19, 29.41s/trial, best loss: -0.9506062990717722]\u001b[A\n",
      " 36%|██████████▊                   | 9/25 [05:39<08:37, 32.37s/trial, best loss: -0.9509069894300073]\u001b[A\n",
      " 40%|███████████▌                 | 10/25 [06:25<09:07, 36.53s/trial, best loss: -0.9509069894300073]\u001b[A\n",
      " 44%|████████████▊                | 11/25 [06:45<07:19, 31.41s/trial, best loss: -0.9513861564692767]\u001b[A\n",
      " 48%|█████████████▉               | 12/25 [07:19<06:57, 32.15s/trial, best loss: -0.9513861564692767]\u001b[A\n",
      " 52%|███████████████              | 13/25 [07:28<05:02, 25.22s/trial, best loss: -0.9513861564692767]\u001b[A\n",
      " 56%|████████████████▏            | 14/25 [07:41<03:56, 21.48s/trial, best loss: -0.9513861564692767]\u001b[A\n",
      " 60%|█████████████████▍           | 15/25 [07:49<02:54, 17.47s/trial, best loss: -0.9513861564692767]\u001b[A\n",
      " 64%|██████████████████▌          | 16/25 [07:57<02:12, 14.70s/trial, best loss: -0.9513861564692767]\u001b[A\n",
      " 68%|███████████████████▋         | 17/25 [08:24<02:26, 18.37s/trial, best loss: -0.9513861564692767]\u001b[A\n",
      " 72%|████████████████████▉        | 18/25 [08:35<01:52, 16.12s/trial, best loss: -0.9513861564692767]\u001b[A\n",
      " 76%|██████████████████████       | 19/25 [08:53<01:40, 16.67s/trial, best loss: -0.9513861564692767]\u001b[A\n",
      " 80%|███████████████████████▏     | 20/25 [09:25<01:46, 21.39s/trial, best loss: -0.9513861564692767]\u001b[A\n",
      " 84%|████████████████████████▎    | 21/25 [09:37<01:13, 18.43s/trial, best loss: -0.9513861564692767]\u001b[A\n",
      " 88%|█████████████████████████▌   | 22/25 [09:57<00:56, 18.91s/trial, best loss: -0.9513861564692767]\u001b[A\n",
      " 92%|██████████████████████████▋  | 23/25 [10:24<00:42, 21.30s/trial, best loss: -0.9513861564692767]\u001b[A\n",
      " 96%|███████████████████████████▊ | 24/25 [11:02<00:26, 26.46s/trial, best loss: -0.9513861564692767]\u001b[A\n",
      "100%|█████████████████████████████| 25/25 [11:20<00:00, 27.22s/trial, best loss: -0.9513861564692767]\u001b[A\n"
     ]
    },
    {
     "name": "stderr",
     "output_type": "stream",
     "text": [
      "\r",
      "3it [54:56, 914.44s/it] "
     ]
    },
    {
     "name": "stdout",
     "output_type": "stream",
     "text": [
      "\n",
      "  0%|                                                         | 0/25 [00:00<?, ?trial/s, best loss=?]\u001b[A\n",
      "  4%|█▏                            | 1/25 [00:45<18:03, 45.15s/trial, best loss: -0.9536629451111548]\u001b[A\n",
      "  8%|██▍                           | 2/25 [01:07<14:43, 38.40s/trial, best loss: -0.9536629451111548]\u001b[A\n",
      " 12%|███▌                          | 3/25 [01:26<11:57, 32.61s/trial, best loss: -0.9536629451111548]\u001b[A\n",
      " 16%|████▊                         | 4/25 [01:37<09:07, 26.07s/trial, best loss: -0.9536629451111548]\u001b[A\n",
      " 20%|██████                        | 5/25 [02:07<09:04, 27.21s/trial, best loss: -0.9536629451111548]\u001b[A\n",
      " 24%|███████▏                      | 6/25 [02:33<08:27, 26.73s/trial, best loss: -0.9536629451111548]\u001b[A\n",
      " 28%|████████▍                     | 7/25 [02:48<06:58, 23.24s/trial, best loss: -0.9536629451111548]\u001b[A\n",
      " 32%|█████████▌                    | 8/25 [02:58<05:27, 19.25s/trial, best loss: -0.9536629451111548]\u001b[A\n",
      " 36%|██████████▊                   | 9/25 [03:35<06:33, 24.60s/trial, best loss: -0.9536629451111548]\u001b[A\n",
      " 40%|███████████▌                 | 10/25 [04:11<07:02, 28.18s/trial, best loss: -0.9536629451111548]\u001b[A\n",
      " 44%|████████████▊                | 11/25 [04:30<05:52, 25.20s/trial, best loss: -0.9536629451111548]\u001b[A\n",
      " 48%|█████████████▉               | 12/25 [05:02<05:56, 27.40s/trial, best loss: -0.9536629451111548]\u001b[A\n",
      " 52%|███████████████              | 13/25 [05:11<04:22, 21.89s/trial, best loss: -0.9536629451111548]\u001b[A\n",
      " 56%|████████████████▏            | 14/25 [05:24<03:30, 19.14s/trial, best loss: -0.9536629451111548]\u001b[A\n",
      " 60%|█████████████████▍           | 15/25 [05:32<02:37, 15.70s/trial, best loss: -0.9536629451111548]\u001b[A\n",
      " 64%|██████████████████▌          | 16/25 [05:40<02:00, 13.38s/trial, best loss: -0.9536629451111548]\u001b[A\n",
      " 68%|███████████████████▋         | 17/25 [06:04<02:13, 16.70s/trial, best loss: -0.9536629451111548]\u001b[A\n",
      " 72%|████████████████████▉        | 18/25 [06:15<01:44, 14.95s/trial, best loss: -0.9536629451111548]\u001b[A\n",
      " 76%|██████████████████████       | 19/25 [06:32<01:34, 15.70s/trial, best loss: -0.9536629451111548]\u001b[A\n",
      " 80%|███████████████████████▏     | 20/25 [07:02<01:39, 19.89s/trial, best loss: -0.9536629451111548]\u001b[A\n",
      " 84%|████████████████████████▎    | 21/25 [07:40<01:41, 25.38s/trial, best loss: -0.9536629451111548]\u001b[A\n",
      " 88%|█████████████████████████▌   | 22/25 [09:41<02:42, 54.09s/trial, best loss: -0.9536629451111548]\u001b[A\n",
      " 92%|██████████████████████████▋  | 23/25 [10:09<01:32, 46.14s/trial, best loss: -0.9536629451111548]\u001b[A\n",
      " 96%|███████████████████████████▊ | 24/25 [10:33<00:39, 39.68s/trial, best loss: -0.9536629451111548]\u001b[A\n",
      "100%|█████████████████████████████| 25/25 [10:49<00:00, 26.00s/trial, best loss: -0.9536629451111548]\u001b[A\n"
     ]
    },
    {
     "name": "stderr",
     "output_type": "stream",
     "text": [
      "\r",
      "4it [1:06:30, 848.37s/it]"
     ]
    },
    {
     "name": "stdout",
     "output_type": "stream",
     "text": [
      "\n",
      "  0%|                                                         | 0/25 [00:00<?, ?trial/s, best loss=?]\u001b[A"
     ]
    },
    {
     "name": "stderr",
     "output_type": "stream",
     "text": [
      "Mean of empty slice\n"
     ]
    },
    {
     "name": "stdout",
     "output_type": "stream",
     "text": [
      "\n",
      "  4%|█▏                            | 1/25 [00:43<17:13, 43.07s/trial, best loss: -0.9527055425393021]\u001b[A\n",
      "  8%|██▍                           | 2/25 [01:05<14:07, 36.86s/trial, best loss: -0.9527055425393021]\u001b[A\n",
      " 12%|███▌                          | 3/25 [01:24<11:34, 31.55s/trial, best loss: -0.9527055425393021]\u001b[A\n",
      " 16%|████▊                         | 4/25 [01:35<08:51, 25.33s/trial, best loss: -0.9527055425393021]\u001b[A\n",
      " 20%|██████                        | 5/25 [02:04<08:49, 26.50s/trial, best loss: -0.9527055425393021]\u001b[A\n",
      " 24%|███████▏                      | 6/25 [02:29<08:14, 26.03s/trial, best loss: -0.9540756025730451]\u001b[A\n",
      " 28%|████████▍                     | 7/25 [02:44<06:49, 22.78s/trial, best loss: -0.9540756025730451]\u001b[A\n",
      " 32%|█████████▌                    | 8/25 [02:54<05:21, 18.89s/trial, best loss: -0.9540756025730451]\u001b[A\n",
      " 36%|██████████▊                   | 9/25 [03:31<06:26, 24.18s/trial, best loss: -0.9540756025730451]\u001b[A\n",
      " 40%|███████████▌                 | 10/25 [04:11<07:15, 29.03s/trial, best loss: -0.9540756025730451]\u001b[A\n",
      " 44%|████████████▊                | 11/25 [04:30<06:03, 25.98s/trial, best loss: -0.9540756025730451]\u001b[A\n",
      " 48%|█████████████▉               | 12/25 [05:02<06:02, 27.85s/trial, best loss: -0.9540756025730451]\u001b[A\n",
      " 52%|███████████████              | 13/25 [05:11<04:26, 22.21s/trial, best loss: -0.9540756025730451]\u001b[A\n",
      " 56%|████████████████▏            | 14/25 [05:24<03:32, 19.29s/trial, best loss: -0.9540756025730451]\u001b[A\n",
      " 60%|█████████████████▍           | 15/25 [05:33<02:43, 16.31s/trial, best loss: -0.9540756025730451]\u001b[A\n",
      " 64%|██████████████████▌          | 16/25 [05:41<02:03, 13.77s/trial, best loss: -0.9540756025730451]\u001b[A\n",
      " 68%|███████████████████▋         | 17/25 [06:05<02:15, 16.96s/trial, best loss: -0.9540756025730451]\u001b[A\n",
      " 72%|████████████████████▉        | 18/25 [06:16<01:45, 15.03s/trial, best loss: -0.9540756025730451]\u001b[A\n",
      " 76%|██████████████████████       | 19/25 [06:33<01:34, 15.70s/trial, best loss: -0.9540756025730451]\u001b[A\n",
      " 80%|███████████████████████▏     | 20/25 [07:03<01:39, 19.88s/trial, best loss: -0.9540756025730451]\u001b[A\n",
      " 84%|████████████████████████▎    | 21/25 [07:38<01:37, 24.48s/trial, best loss: -0.9540756025730451]\u001b[A\n",
      " 88%|█████████████████████████▌   | 22/25 [08:25<01:33, 31.17s/trial, best loss: -0.9540756025730451]\u001b[A\n",
      " 92%|██████████████████████████▋  | 23/25 [08:44<00:55, 27.65s/trial, best loss: -0.9540756025730451]\u001b[A\n",
      " 96%|██████████████████████████▉ | 24/25 [13:28<01:44, 104.55s/trial, best loss: -0.9540756025730451]\u001b[A\n",
      "100%|█████████████████████████████| 25/25 [14:42<00:00, 35.30s/trial, best loss: -0.9540756025730451]\u001b[A\n"
     ]
    },
    {
     "name": "stderr",
     "output_type": "stream",
     "text": [
      "5it [1:21:38, 979.65s/it]\n"
     ]
    }
   ],
   "source": [
    "acc_per_strategy = [[]]*5\n",
    "datasets = [\"pubmed\", \"qian\", \"zbmath\"]\n",
    "strategy_fns = [strategy1, strategy2, strategy3, strategy4, strategy5]\n",
    "\n",
    "for dataset_name in datasets:\n",
    "    print(f\"Evaluating over {dataset_name}:\\n\")\n",
    "    parent_dir = f\"data/{dataset_name}\"\n",
    "    dataset = ANDData(\n",
    "        signatures=join(parent_dir, f\"{dataset_name}_signatures.json\"),\n",
    "        papers=join(parent_dir, f\"{dataset_name}_papers.json\"),\n",
    "        mode=\"train\",\n",
    "        specter_embeddings=join(parent_dir, f\"{dataset_name}_specter.pickle\"),\n",
    "        clusters=join(parent_dir, f\"{dataset_name}_clusters.json\"),\n",
    "        block_type=\"s2\",\n",
    "        train_pairs_size=100000,\n",
    "        val_pairs_size=10000,\n",
    "        test_pairs_size=10000,\n",
    "        name=dataset_name,\n",
    "        n_jobs=8,\n",
    "    )\n",
    "\n",
    "    featurization_info = FeaturizationInfo()\n",
    "    # the cache will make it faster to train multiple times - it stores the features on disk for you\n",
    "    train, val, test = featurize(dataset, featurization_info, n_jobs=8, use_cache=True)\n",
    "    \n",
    "    for i, strategy_fn in tqdm(enumerate(strategy_fns)):\n",
    "        acc = strategy_fn(train, val)\n",
    "        acc_per_strategy[i].append(acc)"
   ]
  },
  {
   "cell_type": "code",
   "execution_count": 16,
   "id": "c320b502",
   "metadata": {},
   "outputs": [
    {
     "data": {
      "text/plain": [
       "array([0.94778985, 0.94778985, 0.94778985, 0.94778985, 0.94778985])"
      ]
     },
     "execution_count": 16,
     "metadata": {},
     "output_type": "execute_result"
    }
   ],
   "source": [
    "accs = np.array(acc_per_strategy)\n",
    "accs = np.mean(accs, axis=1)\n",
    "accs"
   ]
  },
  {
   "cell_type": "code",
   "execution_count": 38,
   "id": "02fcdc1f",
   "metadata": {},
   "outputs": [],
   "source": [
    "# acc_per_strategy[0]\n",
    "accs = []\n",
    "for i in range(3):\n",
    "    for k,j in enumerate(range(i*5, i*5 + 5)):\n",
    "        if i == 0:\n",
    "            accs.append([])\n",
    "        accs[k].append(acc_per_strategy[0][j])"
   ]
  },
  {
   "cell_type": "code",
   "execution_count": 39,
   "id": "71d7d758",
   "metadata": {},
   "outputs": [
    {
     "data": {
      "text/plain": [
       "[[0.9973252703802767, 0.8792134831460674, 0.9782],\n",
       " [0.9973252703802767, 0.8728152309612984, 0.9728],\n",
       " [0.9986044888940574, 0.8748439450686641, 0.9776],\n",
       " [0.9973252703802767, 0.8728152309612984, 0.9728],\n",
       " [0.9981393185254099, 0.8528401997503121, 0.9742]]"
      ]
     },
     "execution_count": 39,
     "metadata": {},
     "output_type": "execute_result"
    }
   ],
   "source": [
    "accs"
   ]
  },
  {
   "cell_type": "code",
   "execution_count": 40,
   "id": "790e4457",
   "metadata": {},
   "outputs": [
    {
     "data": {
      "text/plain": [
       "array([0.95157958, 0.94764683, 0.95034948, 0.94764683, 0.94172651])"
      ]
     },
     "execution_count": 40,
     "metadata": {},
     "output_type": "execute_result"
    }
   ],
   "source": [
    "np.mean(accs, axis=1)"
   ]
  },
  {
   "cell_type": "code",
   "execution_count": 41,
   "id": "2222613b",
   "metadata": {},
   "outputs": [
    {
     "data": {
      "text/plain": [
       "0"
      ]
     },
     "execution_count": 41,
     "metadata": {},
     "output_type": "execute_result"
    }
   ],
   "source": [
    "np.argmax(np.mean(accs, axis=1))\n",
    "\n",
    "# Best validation performance observed for Strategy 1: impute 0 for nan"
   ]
  },
  {
   "cell_type": "code",
   "execution_count": null,
   "id": "afc0e6bc",
   "metadata": {},
   "outputs": [],
   "source": [
    "\n"
   ]
  },
  {
   "cell_type": "code",
   "execution_count": 5,
   "id": "3a21b378",
   "metadata": {},
   "outputs": [
    {
     "name": "stderr",
     "output_type": "stream",
     "text": [
      "2022-11-04 17:42:11,917 - s2and - INFO - loading papers\n",
      "2022-11-04 17:42:17,794 - s2and - INFO - loaded papers\n",
      "2022-11-04 17:42:17,795 - s2and - INFO - loading signatures\n",
      "2022-11-04 17:42:20,395 - s2and - INFO - loaded signatures\n",
      "2022-11-04 17:42:20,395 - s2and - INFO - loading clusters\n",
      "2022-11-04 17:42:20,399 - s2and - INFO - loaded clusters, loading specter\n",
      "2022-11-04 17:42:20,528 - s2and - INFO - loaded specter, loading cluster seeds\n",
      "2022-11-04 17:42:20,528 - s2and - INFO - loaded cluster seeds\n",
      "2022-11-04 17:42:20,529 - s2and - INFO - making signature to cluster id\n",
      "2022-11-04 17:42:20,531 - s2and - INFO - made signature to cluster id\n",
      "2022-11-04 17:42:20,531 - s2and - INFO - loading name counts\n",
      "2022-11-04 17:42:36,632 - s2and - INFO - loaded name counts\n",
      "2022-11-04 17:42:37,034 - s2and - INFO - preprocessing papers\n",
      "Preprocessing papers 1/2: 100%|███████████████████████████████████████████████████████████████████████████████████████████████████████████████████████████████████| 134623/134623 [00:23<00:00, 5752.63it/s]\n",
      "Preprocessing papers 2/2: 100%|███████████████████████████████████████████████████████████████████████████████████████████████████████████████████████████████████| 134623/134623 [00:44<00:00, 3004.12it/s]\n",
      "2022-11-04 17:43:52,503 - s2and - INFO - preprocessed papers\n",
      "2022-11-04 17:43:52,504 - s2and - INFO - preprocessing signatures\n",
      "Preprocessing signatures: 100%|███████████████████████████████████████████████████████████████████████████████████████████████████████████████████████████████████████| 2871/2871 [00:00<00:00, 4042.56it/s]\n",
      "2022-11-04 17:43:53,219 - s2and - INFO - preprocessed signatures\n",
      "2022-11-04 17:43:53,477 - s2and - INFO - featurizing train\n",
      "2022-11-04 17:43:59,144 - s2and - INFO - Loading cache...\n",
      "2022-11-04 17:44:00,412 - s2and - INFO - Cache loaded with 165055 keys\n",
      "2022-11-04 17:44:00,426 - s2and - INFO - Creating 100000 pieces of work\n",
      "2022-11-04 17:44:00,858 - s2and - INFO - Created pieces of work\n",
      "2022-11-04 17:44:00,859 - s2and - INFO - Writing to in memory cache\n",
      "2022-11-04 17:44:00,859 - s2and - INFO - In memory cache written\n",
      "2022-11-04 17:44:00,860 - s2and - INFO - Making numpy arrays for features and labels\n",
      "2022-11-04 17:44:00,909 - s2and - INFO - Numpy arrays made\n",
      "2022-11-04 17:44:00,909 - s2and - INFO - featurized train, featurizing val\n",
      "2022-11-04 17:44:00,910 - s2and - INFO - Loading cache...\n",
      "2022-11-04 17:44:00,912 - s2and - INFO - Creating 8599 pieces of work\n",
      "2022-11-04 17:44:00,951 - s2and - INFO - Created pieces of work\n",
      "2022-11-04 17:44:00,951 - s2and - INFO - Writing to in memory cache\n",
      "2022-11-04 17:44:00,952 - s2and - INFO - In memory cache written\n",
      "2022-11-04 17:44:00,952 - s2and - INFO - Making numpy arrays for features and labels\n",
      "2022-11-04 17:44:00,955 - s2and - INFO - Numpy arrays made\n",
      "2022-11-04 17:44:00,956 - s2and - INFO - featurized val, featurizing test\n",
      "2022-11-04 17:44:00,956 - s2and - INFO - Loading cache...\n",
      "2022-11-04 17:44:00,958 - s2and - INFO - Creating 16926 pieces of work\n",
      "2022-11-04 17:44:01,033 - s2and - INFO - Created pieces of work\n",
      "2022-11-04 17:44:01,033 - s2and - INFO - Writing to in memory cache\n",
      "2022-11-04 17:44:01,034 - s2and - INFO - In memory cache written\n",
      "2022-11-04 17:44:01,034 - s2and - INFO - Making numpy arrays for features and labels\n",
      "2022-11-04 17:44:01,042 - s2and - INFO - Numpy arrays made\n",
      "2022-11-04 17:44:01,043 - s2and - INFO - featurized test\n",
      "2022-11-04 17:44:01,067 - s2and - INFO - loading papers\n"
     ]
    },
    {
     "name": "stdout",
     "output_type": "stream",
     "text": [
      "0.2617637716462652 125525\n"
     ]
    },
    {
     "name": "stderr",
     "output_type": "stream",
     "text": [
      "2022-11-04 17:44:02,216 - s2and - INFO - loaded papers\n",
      "2022-11-04 17:44:02,217 - s2and - INFO - loading signatures\n",
      "2022-11-04 17:44:03,861 - s2and - INFO - loaded signatures\n",
      "2022-11-04 17:44:03,861 - s2and - INFO - loading clusters\n",
      "2022-11-04 17:44:03,868 - s2and - INFO - loaded clusters, loading specter\n",
      "2022-11-04 17:44:04,133 - s2and - INFO - loaded specter, loading cluster seeds\n",
      "2022-11-04 17:44:04,134 - s2and - INFO - loaded cluster seeds\n",
      "2022-11-04 17:44:04,135 - s2and - INFO - making signature to cluster id\n",
      "2022-11-04 17:44:04,137 - s2and - INFO - made signature to cluster id\n",
      "2022-11-04 17:44:04,138 - s2and - INFO - loading name counts\n",
      "2022-11-04 17:44:20,162 - s2and - INFO - loaded name counts\n",
      "2022-11-04 17:44:20,380 - s2and - INFO - preprocessing papers\n",
      "Preprocessing papers 1/2: 100%|█████████████████████████████████████████████████████████████████████████████████████████████████████████████████████████████████████| 59545/59545 [00:09<00:00, 6590.52it/s]\n",
      "Preprocessing papers 2/2: 100%|█████████████████████████████████████████████████████████████████████████████████████████████████████████████████████████████████████| 59545/59545 [00:21<00:00, 2764.76it/s]\n",
      "2022-11-04 17:44:58,704 - s2and - INFO - preprocessed papers\n",
      "2022-11-04 17:44:58,704 - s2and - INFO - preprocessing signatures\n",
      "Preprocessing signatures: 100%|███████████████████████████████████████████████████████████████████████████████████████████████████████████████████████████████████████| 6542/6542 [00:00<00:00, 7528.26it/s]\n",
      "2022-11-04 17:44:59,578 - s2and - INFO - preprocessed signatures\n",
      "2022-11-04 17:44:59,922 - s2and - INFO - featurizing train\n",
      "2022-11-04 17:45:02,711 - s2and - INFO - Loading cache...\n",
      "2022-11-04 17:45:04,522 - s2and - INFO - Cache loaded with 113652 keys\n",
      "2022-11-04 17:45:04,531 - s2and - INFO - Creating 100000 pieces of work\n",
      "2022-11-04 17:45:04,971 - s2and - INFO - Created pieces of work\n",
      "2022-11-04 17:45:04,972 - s2and - INFO - Writing to in memory cache\n",
      "2022-11-04 17:45:04,972 - s2and - INFO - In memory cache written\n",
      "2022-11-04 17:45:04,975 - s2and - INFO - Making numpy arrays for features and labels\n",
      "2022-11-04 17:45:05,013 - s2and - INFO - Numpy arrays made\n",
      "2022-11-04 17:45:05,014 - s2and - INFO - featurized train, featurizing val\n",
      "2022-11-04 17:45:05,016 - s2and - INFO - Loading cache...\n",
      "2022-11-04 17:45:05,019 - s2and - INFO - Creating 6408 pieces of work\n",
      "2022-11-04 17:45:05,046 - s2and - INFO - Created pieces of work\n",
      "2022-11-04 17:45:05,047 - s2and - INFO - Writing to in memory cache\n",
      "2022-11-04 17:45:05,048 - s2and - INFO - In memory cache written\n",
      "2022-11-04 17:45:05,049 - s2and - INFO - Making numpy arrays for features and labels\n",
      "2022-11-04 17:45:05,051 - s2and - INFO - Numpy arrays made\n",
      "2022-11-04 17:45:05,052 - s2and - INFO - featurized val, featurizing test\n",
      "2022-11-04 17:45:05,053 - s2and - INFO - Loading cache...\n",
      "2022-11-04 17:45:05,054 - s2and - INFO - Creating 7244 pieces of work\n",
      "2022-11-04 17:45:05,087 - s2and - INFO - Created pieces of work\n",
      "2022-11-04 17:45:05,087 - s2and - INFO - Writing to in memory cache\n",
      "2022-11-04 17:45:05,088 - s2and - INFO - In memory cache written\n",
      "2022-11-04 17:45:05,088 - s2and - INFO - Making numpy arrays for features and labels\n",
      "2022-11-04 17:45:05,092 - s2and - INFO - Numpy arrays made\n",
      "2022-11-04 17:45:05,092 - s2and - INFO - featurized test\n",
      "2022-11-04 17:45:05,123 - s2and - INFO - loading papers\n"
     ]
    },
    {
     "name": "stdout",
     "output_type": "stream",
     "text": [
      "0.17877380072502025 113652\n"
     ]
    },
    {
     "name": "stderr",
     "output_type": "stream",
     "text": [
      "2022-11-04 17:45:05,401 - s2and - INFO - loaded papers\n",
      "2022-11-04 17:45:05,402 - s2and - INFO - loading signatures\n",
      "2022-11-04 17:45:05,559 - s2and - INFO - loaded signatures\n",
      "2022-11-04 17:45:05,559 - s2and - INFO - loading clusters\n",
      "2022-11-04 17:45:05,580 - s2and - INFO - loaded clusters, loading specter\n",
      "2022-11-04 17:45:05,995 - s2and - INFO - loaded specter, loading cluster seeds\n",
      "2022-11-04 17:45:05,995 - s2and - INFO - loaded cluster seeds\n",
      "2022-11-04 17:45:05,996 - s2and - INFO - making signature to cluster id\n",
      "2022-11-04 17:45:06,001 - s2and - INFO - made signature to cluster id\n",
      "2022-11-04 17:45:06,002 - s2and - INFO - loading name counts\n",
      "2022-11-04 17:45:22,060 - s2and - INFO - loaded name counts\n",
      "2022-11-04 17:45:22,159 - s2and - INFO - preprocessing papers\n",
      "Preprocessing papers 1/2: 100%|█████████████████████████████████████████████████████████████████████████████████████████████████████████████████████████████████████| 23406/23406 [00:06<00:00, 3544.16it/s]\n",
      "Preprocessing papers 2/2: 100%|█████████████████████████████████████████████████████████████████████████████████████████████████████████████████████████████████████| 23406/23406 [00:04<00:00, 4909.45it/s]\n",
      "2022-11-04 17:45:39,154 - s2and - INFO - preprocessed papers\n",
      "2022-11-04 17:45:39,155 - s2and - INFO - preprocessing signatures\n",
      "Preprocessing signatures: 100%|████████████████████████████████████████████████████████████████████████████████████████████████████████████████████████████████████| 15181/15181 [00:00<00:00, 16743.84it/s]\n",
      "2022-11-04 17:45:40,066 - s2and - INFO - preprocessed signatures\n",
      "2022-11-04 17:45:40,494 - s2and - INFO - featurizing train\n",
      "2022-11-04 17:45:43,203 - s2and - INFO - Loading cache...\n",
      "2022-11-04 17:45:44,816 - s2and - INFO - Cache loaded with 120000 keys\n",
      "2022-11-04 17:45:44,826 - s2and - INFO - Creating 100000 pieces of work\n",
      "2022-11-04 17:45:45,258 - s2and - INFO - Created pieces of work\n",
      "2022-11-04 17:45:45,258 - s2and - INFO - Writing to in memory cache\n",
      "2022-11-04 17:45:45,259 - s2and - INFO - In memory cache written\n",
      "2022-11-04 17:45:45,261 - s2and - INFO - Making numpy arrays for features and labels\n",
      "2022-11-04 17:45:45,311 - s2and - INFO - Numpy arrays made\n",
      "2022-11-04 17:45:45,311 - s2and - INFO - featurized train, featurizing val\n",
      "2022-11-04 17:45:45,312 - s2and - INFO - Loading cache...\n",
      "2022-11-04 17:45:45,317 - s2and - INFO - Creating 28527 pieces of work\n",
      "2022-11-04 17:45:45,386 - s2and - INFO - Created pieces of work\n",
      "2022-11-04 17:45:45,387 - s2and - INFO - Cached changed, doing 18527 work in parallel\n",
      "Doing work: 100%|███████████████████████████████████████████████████████████████████████████████████████████████████████████████████████████████████████████████████| 18527/18527 [00:03<00:00, 5162.66it/s]\n",
      "2022-11-04 17:45:50,883 - s2and - INFO - Work completed\n",
      "2022-11-04 17:45:50,883 - s2and - INFO - Writing to on disk cache\n",
      "2022-11-04 17:45:54,646 - s2and - INFO - Cache written with 138527 keys.\n",
      "2022-11-04 17:45:54,647 - s2and - INFO - Writing to in memory cache\n",
      "2022-11-04 17:45:54,648 - s2and - INFO - In memory cache written\n",
      "2022-11-04 17:45:54,652 - s2and - INFO - Making numpy arrays for features and labels\n",
      "2022-11-04 17:45:54,668 - s2and - INFO - Numpy arrays made\n",
      "2022-11-04 17:45:54,670 - s2and - INFO - featurized val, featurizing test\n",
      "2022-11-04 17:45:54,671 - s2and - INFO - Loading cache...\n",
      "2022-11-04 17:45:54,677 - s2and - INFO - Creating 19197 pieces of work\n",
      "2022-11-04 17:45:54,735 - s2and - INFO - Created pieces of work\n",
      "2022-11-04 17:45:54,736 - s2and - INFO - Cached changed, doing 9197 work in parallel\n",
      "2022-11-04 17:45:58,580 - s2and - INFO - Work completed\n",
      "2022-11-04 17:45:58,581 - s2and - INFO - Writing to on disk cache\n",
      "2022-11-04 17:46:02,620 - s2and - INFO - Cache written with 147724 keys.\n",
      "2022-11-04 17:46:02,622 - s2and - INFO - Writing to in memory cache\n",
      "2022-11-04 17:46:02,625 - s2and - INFO - In memory cache written\n",
      "2022-11-04 17:46:02,628 - s2and - INFO - Making numpy arrays for features and labels\n",
      "2022-11-04 17:46:02,638 - s2and - INFO - Numpy arrays made\n",
      "2022-11-04 17:46:02,641 - s2and - INFO - featurized test\n"
     ]
    },
    {
     "name": "stdout",
     "output_type": "stream",
     "text": [
      "0.4144615842850388 147724\n",
      "missing_pcts: [0.257931452991453, 0.191869137094056, 0.17408965811965812, 0.2617637716462652, 0.17877380072502025, 0.4144615842850388]\n",
      "missing_pct_avg 0.24648156747691521\n",
      "n_pairs: [300000, 281168, 300000, 125525, 113652, 147724]\n",
      "n_pairs_mean: 211344.83333333334\n"
     ]
    }
   ],
   "source": [
    "datasets = [\"pubmed\", \"qian\", \"zbmath\"]  \n",
    "# skipping -- \"inspire\", \"medline\"\n",
    "# done -- \"aminer\", \"arnetminer\", \"kisti\"\n",
    "\n",
    "missing = [0.257931452991453, 0.191869137094056, 0.17408965811965812]\n",
    "lengths = [300000, 281168, 300000]\n",
    "\n",
    "for dataset_name in datasets:\n",
    "    parent_dir = f\"data/{dataset_name}\"\n",
    "    dataset = ANDData(\n",
    "        signatures=join(parent_dir, f\"{dataset_name}_signatures.json\"),\n",
    "        papers=join(parent_dir, f\"{dataset_name}_papers.json\"),\n",
    "        mode=\"train\",\n",
    "        specter_embeddings=join(parent_dir, f\"{dataset_name}_specter.pickle\"),\n",
    "        clusters=join(parent_dir, f\"{dataset_name}_clusters.json\"),\n",
    "        block_type=\"s2\",\n",
    "        train_pairs_size=100000,\n",
    "        val_pairs_size=100000,\n",
    "        test_pairs_size=100000,\n",
    "        name=dataset_name,\n",
    "        n_jobs=8,\n",
    "    )\n",
    "\n",
    "    featurization_info = FeaturizationInfo()\n",
    "    # the cache will make it faster to train multiple times - it stores the features on disk for you\n",
    "    train, val, test = featurize(dataset, featurization_info, n_jobs=8, use_cache=True)\n",
    "    \n",
    "    missing_pct = (np.sum(np.isnan(train[0])) + np.sum(np.isnan(val[0])) + np.sum(np.isnan(test[0]))) / \\\n",
    "    (np.prod(train[0].shape) + np.prod(val[0].shape) + np.prod(test[0].shape))\n",
    "    missing.append(missing_pct)\n",
    "    \n",
    "    total_pairs = train[0].shape[0] + val[0].shape[0] + test[0].shape[0]\n",
    "    lengths.append(total_pairs)\n",
    "    \n",
    "    print(missing_pct, total_pairs)\n",
    "    del dataset, train, val, test\n",
    "\n",
    "print(\"missing_pcts:\", missing)\n",
    "print(\"missing_pct_avg\", np.mean(missing))\n",
    "print(\"n_pairs:\", lengths)\n",
    "print(\"n_pairs_mean:\", np.mean(lengths))"
   ]
  },
  {
   "cell_type": "code",
   "execution_count": 3,
   "id": "c9fde547",
   "metadata": {},
   "outputs": [],
   "source": []
  },
  {
   "cell_type": "code",
   "execution_count": null,
   "id": "6df1cb32",
   "metadata": {},
   "outputs": [],
   "source": []
  }
 ],
 "metadata": {
  "kernelspec": {
   "display_name": "Python 3 (ipykernel)",
   "language": "python",
   "name": "python3"
  },
  "language_info": {
   "codemirror_mode": {
    "name": "ipython",
    "version": 3
   },
   "file_extension": ".py",
   "mimetype": "text/x-python",
   "name": "python",
   "nbconvert_exporter": "python",
   "pygments_lexer": "ipython3",
   "version": "3.7.0"
  }
 },
 "nbformat": 4,
 "nbformat_minor": 5
}
