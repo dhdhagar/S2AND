{
 "cells": [
  {
   "cell_type": "code",
   "execution_count": 209,
   "id": "891d7f3a",
   "metadata": {},
   "outputs": [],
   "source": [
    "import wandb\n",
    "from collections import defaultdict\n",
    "from tqdm.notebook import tqdm\n",
    "import numpy as np\n",
    "import pandas as pd\n",
    "from IPython import embed"
   ]
  },
  {
   "cell_type": "code",
   "execution_count": 3,
   "id": "b74cbc7b",
   "metadata": {},
   "outputs": [],
   "source": [
    "api = wandb.Api()"
   ]
  },
  {
   "cell_type": "code",
   "execution_count": 340,
   "id": "f2a038bb",
   "metadata": {},
   "outputs": [],
   "source": [
    "# List of tags to identify the set of sweeps in this analysis\n",
    "\n",
    "TAGS = [\"feats8\"]"
   ]
  },
  {
   "cell_type": "code",
   "execution_count": 344,
   "id": "b7a89b7f",
   "metadata": {},
   "outputs": [],
   "source": [
    "runs = api.runs(\"dhdhagar/prob-ent-resolution\",\n",
    "                filters={\"tags\": {\"$in\": TAGS}, \n",
    "                         \"state\": {\"$eq\": \"finished\"},\n",
    "                         \"config.pairwise_mode\": {\"$eq\": False}\n",
    "                        },\n",
    "                order=\"-summary_metrics.best_dev_b3_f1\"\n",
    "               )\n",
    "runs_mlp = api.runs(\"dhdhagar/prob-ent-resolution\", \n",
    "                filters={\"tags\": {\"$in\": TAGS}, \n",
    "                         \"state\": {\"$eq\": \"finished\"},\n",
    "                         \"config.pairwise_mode\": {\"$eq\": True}\n",
    "                        },\n",
    "                order=\"-summary_metrics.best_dev_auroc\"\n",
    "               )"
   ]
  },
  {
   "cell_type": "code",
   "execution_count": 345,
   "id": "0949e4e7",
   "metadata": {},
   "outputs": [
    {
     "data": {
      "text/plain": [
       "2670"
      ]
     },
     "execution_count": 345,
     "metadata": {},
     "output_type": "execute_result"
    }
   ],
   "source": [
    "len(runs)"
   ]
  },
  {
   "cell_type": "code",
   "execution_count": 346,
   "id": "a34a471c",
   "metadata": {},
   "outputs": [
    {
     "data": {
      "text/plain": [
       "760"
      ]
     },
     "execution_count": 346,
     "metadata": {},
     "output_type": "execute_result"
    }
   ],
   "source": [
    "len(runs_mlp)"
   ]
  },
  {
   "cell_type": "code",
   "execution_count": 229,
   "id": "b8906522",
   "metadata": {},
   "outputs": [],
   "source": [
    "methods = {'e2e', 'e2e-nosdp', 'frac', 'frac-nosdp', 'mlp'}\n",
    "def run_key(run):\n",
    "    dataset = run._attrs['config']['dataset']\n",
    "    dataset_seed = run._attrs['config']['dataset_random_seed']\n",
    "    method = set(run.tags).intersection(methods).pop()\n",
    "    key = f\"{method}_{dataset}_{dataset_seed}\"\n",
    "    return key"
   ]
  },
  {
   "cell_type": "code",
   "execution_count": 91,
   "id": "52c03011",
   "metadata": {},
   "outputs": [],
   "source": []
  },
  {
   "cell_type": "code",
   "execution_count": 255,
   "id": "65745201",
   "metadata": {},
   "outputs": [
    {
     "name": "stdout",
     "output_type": "stream",
     "text": [
      "  0%|          | 0/2670 [00:00<?, ?it/s]\n",
      "  0%|          | 0/760 [00:00<?, ?it/s]\n"
     ]
    }
   ],
   "source": [
    "best_runs = {}\n",
    "finished_runs = defaultdict(int)\n",
    "all_sweeps = {}\n",
    "for _runs in [runs, runs_mlp]:\n",
    "    for run in tqdm(_runs):\n",
    "        if len(dict(run.summary)) < 10:\n",
    "            continue\n",
    "        key = run_key(run)\n",
    "        finished_runs[key] += 1\n",
    "        if key in best_runs:\n",
    "            continue\n",
    "        best_runs[key] = run\n",
    "        all_sweeps[key] = run.sweepName\n",
    "print(f\"Best runs found for {len(best_runs)} sweeps\")\n",
    "print(f\"Total finished runs across sweeps = {sum(finished_runs.values())}\")"
   ]
  },
  {
   "cell_type": "code",
   "execution_count": 234,
   "id": "2f9a45f5",
   "metadata": {},
   "outputs": [],
   "source": [
    "res_map = {\n",
    "    'train_time': 'z_run_time',\n",
    "    'inf_time_hac': 'z_inf_time_hac',\n",
    "    'inf_time_cc': 'z_inf_time_cc',\n",
    "    'inf_time_cc-nosdp': 'z_inf_time_cc-nosdp',\n",
    "    'b3_f1_hac': 'best_test_b3_f1_hac',\n",
    "    'b3_f1_cc': 'best_test_b3_f1_cc',\n",
    "    'b3_f1_cc-fixed': 'best_test_b3_f1_cc-fixed',\n",
    "    'b3_f1_cc-nosdp': 'best_test_b3_f1_cc-nosdp',\n",
    "    'b3_f1_cc-nosdp-fixed': 'best_test_b3_f1_cc-nosdp-fixed',\n",
    "    'vmeasure_hac': 'best_test_vmeasure_hac',\n",
    "    'vmeasure_cc': 'best_test_vmeasure_cc',\n",
    "    'vmeasure_cc-fixed': 'best_test_vmeasure_cc-fixed',\n",
    "    'vmeasure_cc-nosdp': 'best_test_vmeasure_cc-nosdp',\n",
    "    'vmeasure_cc-nosdp-fixed': 'best_test_vmeasure_cc-nosdp-fixed'\n",
    "}"
   ]
  },
  {
   "cell_type": "code",
   "execution_count": 235,
   "id": "d15a6cce",
   "metadata": {},
   "outputs": [],
   "source": [
    "final = {}\n",
    "for run_id, run in best_runs.items():\n",
    "    _key = run_id[:-2]  # Remove the seed\n",
    "    if _key not in final:\n",
    "        final[_key] = defaultdict(list)\n",
    "    res = dict(run.summary)\n",
    "    for out_key, in_key in res_map.items():\n",
    "        final[_key][out_key].append(float(res[in_key]))\n",
    "means, stds, comb = {}, {}, {}\n",
    "for k in final:\n",
    "    if k is not means:\n",
    "        means[k] = {}\n",
    "        stds[k] = {}\n",
    "        comb[k] = {}\n",
    "    for _k in final[k]:\n",
    "        means[k][_k] = round(np.mean(final[k][_k])*(1 if 'time' in _k else 100), 2)\n",
    "        stds[k][_k] = round(np.std(final[k][_k])*(1 if 'time' in _k else 100), 2)\n",
    "        comb[k][_k] = f\"{means[k][_k]}±{stds[k][_k]}\""
   ]
  },
  {
   "cell_type": "code",
   "execution_count": 236,
   "id": "57c4039d",
   "metadata": {},
   "outputs": [],
   "source": [
    "def get_df_by_dataset(res, dataset, to_latex=False):\n",
    "    new_res = {}\n",
    "    for _r in res:\n",
    "        if dataset in _r:\n",
    "            new_res[_r.replace(f\"{dataset}_\", '').replace(f\"_{dataset}\", '')] = res[_r]\n",
    "    if to_latex:\n",
    "        print(pd.DataFrame(new_res).T.style.to_latex())\n",
    "    outdf = pd.DataFrame(new_res).T.sort_index()\n",
    "    \n",
    "    def highlight_max(s):\n",
    "        if s.dtype == object:\n",
    "            is_max = [False for _ in range(s.shape[0])]\n",
    "            if '±' in s[0]:\n",
    "                nums = np.array(list(map(lambda x: float(x.split('±')[0]), s)))\n",
    "                is_max = nums == nums.max()\n",
    "        else:\n",
    "            is_max = s == s.max()\n",
    "        return ['color: green' if cell else '' for cell in is_max]\n",
    "    \n",
    "    if outdf[outdf.keys()[0]].dtype == object:\n",
    "        return outdf.style.apply(highlight_max), outdf\n",
    "    return outdf.style.format('{:.2f}').apply(highlight_max), outdf"
   ]
  },
  {
   "cell_type": "code",
   "execution_count": 237,
   "id": "1f262752",
   "metadata": {},
   "outputs": [
    {
     "data": {
      "text/html": [
       "<style  type=\"text/css\" >\n",
       "#T_3a5ef52a_d587_11ed_b5e9_00620b386ca0row0_col0,#T_3a5ef52a_d587_11ed_b5e9_00620b386ca0row0_col1,#T_3a5ef52a_d587_11ed_b5e9_00620b386ca0row1_col8,#T_3a5ef52a_d587_11ed_b5e9_00620b386ca0row2_col3,#T_3a5ef52a_d587_11ed_b5e9_00620b386ca0row2_col5,#T_3a5ef52a_d587_11ed_b5e9_00620b386ca0row2_col6,#T_3a5ef52a_d587_11ed_b5e9_00620b386ca0row2_col10,#T_3a5ef52a_d587_11ed_b5e9_00620b386ca0row2_col11,#T_3a5ef52a_d587_11ed_b5e9_00620b386ca0row2_col13,#T_3a5ef52a_d587_11ed_b5e9_00620b386ca0row3_col2,#T_3a5ef52a_d587_11ed_b5e9_00620b386ca0row4_col4,#T_3a5ef52a_d587_11ed_b5e9_00620b386ca0row4_col7,#T_3a5ef52a_d587_11ed_b5e9_00620b386ca0row4_col9,#T_3a5ef52a_d587_11ed_b5e9_00620b386ca0row4_col12{\n",
       "            color:  green;\n",
       "        }</style><table id=\"T_3a5ef52a_d587_11ed_b5e9_00620b386ca0\" ><thead>    <tr>        <th class=\"blank level0\" ></th>        <th class=\"col_heading level0 col0\" >train_time</th>        <th class=\"col_heading level0 col1\" >inf_time_hac</th>        <th class=\"col_heading level0 col2\" >inf_time_cc</th>        <th class=\"col_heading level0 col3\" >inf_time_cc-nosdp</th>        <th class=\"col_heading level0 col4\" >b3_f1_hac</th>        <th class=\"col_heading level0 col5\" >b3_f1_cc</th>        <th class=\"col_heading level0 col6\" >b3_f1_cc-fixed</th>        <th class=\"col_heading level0 col7\" >b3_f1_cc-nosdp</th>        <th class=\"col_heading level0 col8\" >b3_f1_cc-nosdp-fixed</th>        <th class=\"col_heading level0 col9\" >vmeasure_hac</th>        <th class=\"col_heading level0 col10\" >vmeasure_cc</th>        <th class=\"col_heading level0 col11\" >vmeasure_cc-fixed</th>        <th class=\"col_heading level0 col12\" >vmeasure_cc-nosdp</th>        <th class=\"col_heading level0 col13\" >vmeasure_cc-nosdp-fixed</th>    </tr></thead><tbody>\n",
       "                <tr>\n",
       "                        <th id=\"T_3a5ef52a_d587_11ed_b5e9_00620b386ca0level0_row0\" class=\"row_heading level0 row0\" >e2e</th>\n",
       "                        <td id=\"T_3a5ef52a_d587_11ed_b5e9_00620b386ca0row0_col0\" class=\"data row0 col0\" >1257.4±483.02</td>\n",
       "                        <td id=\"T_3a5ef52a_d587_11ed_b5e9_00620b386ca0row0_col1\" class=\"data row0 col1\" >184.2±136.26</td>\n",
       "                        <td id=\"T_3a5ef52a_d587_11ed_b5e9_00620b386ca0row0_col2\" class=\"data row0 col2\" >28.4±5.99</td>\n",
       "                        <td id=\"T_3a5ef52a_d587_11ed_b5e9_00620b386ca0row0_col3\" class=\"data row0 col3\" >12.6±2.42</td>\n",
       "                        <td id=\"T_3a5ef52a_d587_11ed_b5e9_00620b386ca0row0_col4\" class=\"data row0 col4\" >69.78±14.58</td>\n",
       "                        <td id=\"T_3a5ef52a_d587_11ed_b5e9_00620b386ca0row0_col5\" class=\"data row0 col5\" >78.86±5.5</td>\n",
       "                        <td id=\"T_3a5ef52a_d587_11ed_b5e9_00620b386ca0row0_col6\" class=\"data row0 col6\" >64.86±22.14</td>\n",
       "                        <td id=\"T_3a5ef52a_d587_11ed_b5e9_00620b386ca0row0_col7\" class=\"data row0 col7\" >78.76±5.48</td>\n",
       "                        <td id=\"T_3a5ef52a_d587_11ed_b5e9_00620b386ca0row0_col8\" class=\"data row0 col8\" >64.82±21.0</td>\n",
       "                        <td id=\"T_3a5ef52a_d587_11ed_b5e9_00620b386ca0row0_col9\" class=\"data row0 col9\" >83.08±8.94</td>\n",
       "                        <td id=\"T_3a5ef52a_d587_11ed_b5e9_00620b386ca0row0_col10\" class=\"data row0 col10\" >88.67±3.64</td>\n",
       "                        <td id=\"T_3a5ef52a_d587_11ed_b5e9_00620b386ca0row0_col11\" class=\"data row0 col11\" >80.95±13.39</td>\n",
       "                        <td id=\"T_3a5ef52a_d587_11ed_b5e9_00620b386ca0row0_col12\" class=\"data row0 col12\" >88.67±3.88</td>\n",
       "                        <td id=\"T_3a5ef52a_d587_11ed_b5e9_00620b386ca0row0_col13\" class=\"data row0 col13\" >80.62±13.31</td>\n",
       "            </tr>\n",
       "            <tr>\n",
       "                        <th id=\"T_3a5ef52a_d587_11ed_b5e9_00620b386ca0level0_row1\" class=\"row_heading level0 row1\" >e2e-nosdp</th>\n",
       "                        <td id=\"T_3a5ef52a_d587_11ed_b5e9_00620b386ca0row1_col0\" class=\"data row1 col0\" >234.0±21.57</td>\n",
       "                        <td id=\"T_3a5ef52a_d587_11ed_b5e9_00620b386ca0row1_col1\" class=\"data row1 col1\" >31.6±13.48</td>\n",
       "                        <td id=\"T_3a5ef52a_d587_11ed_b5e9_00620b386ca0row1_col2\" class=\"data row1 col2\" >21.4±10.59</td>\n",
       "                        <td id=\"T_3a5ef52a_d587_11ed_b5e9_00620b386ca0row1_col3\" class=\"data row1 col3\" >11.4±2.06</td>\n",
       "                        <td id=\"T_3a5ef52a_d587_11ed_b5e9_00620b386ca0row1_col4\" class=\"data row1 col4\" >85.92±3.6</td>\n",
       "                        <td id=\"T_3a5ef52a_d587_11ed_b5e9_00620b386ca0row1_col5\" class=\"data row1 col5\" >82.7±3.92</td>\n",
       "                        <td id=\"T_3a5ef52a_d587_11ed_b5e9_00620b386ca0row1_col6\" class=\"data row1 col6\" >81.54±3.99</td>\n",
       "                        <td id=\"T_3a5ef52a_d587_11ed_b5e9_00620b386ca0row1_col7\" class=\"data row1 col7\" >85.3±3.01</td>\n",
       "                        <td id=\"T_3a5ef52a_d587_11ed_b5e9_00620b386ca0row1_col8\" class=\"data row1 col8\" >84.06±4.05</td>\n",
       "                        <td id=\"T_3a5ef52a_d587_11ed_b5e9_00620b386ca0row1_col9\" class=\"data row1 col9\" >93.14±1.91</td>\n",
       "                        <td id=\"T_3a5ef52a_d587_11ed_b5e9_00620b386ca0row1_col10\" class=\"data row1 col10\" >90.9±2.86</td>\n",
       "                        <td id=\"T_3a5ef52a_d587_11ed_b5e9_00620b386ca0row1_col11\" class=\"data row1 col11\" >90.1±3.13</td>\n",
       "                        <td id=\"T_3a5ef52a_d587_11ed_b5e9_00620b386ca0row1_col12\" class=\"data row1 col12\" >92.84±1.72</td>\n",
       "                        <td id=\"T_3a5ef52a_d587_11ed_b5e9_00620b386ca0row1_col13\" class=\"data row1 col13\" >91.88±2.71</td>\n",
       "            </tr>\n",
       "            <tr>\n",
       "                        <th id=\"T_3a5ef52a_d587_11ed_b5e9_00620b386ca0level0_row2\" class=\"row_heading level0 row2\" >frac</th>\n",
       "                        <td id=\"T_3a5ef52a_d587_11ed_b5e9_00620b386ca0row2_col0\" class=\"data row2 col0\" >1090.0±209.84</td>\n",
       "                        <td id=\"T_3a5ef52a_d587_11ed_b5e9_00620b386ca0row2_col1\" class=\"data row2 col1\" >32.2±15.64</td>\n",
       "                        <td id=\"T_3a5ef52a_d587_11ed_b5e9_00620b386ca0row2_col2\" class=\"data row2 col2\" >25.0±10.39</td>\n",
       "                        <td id=\"T_3a5ef52a_d587_11ed_b5e9_00620b386ca0row2_col3\" class=\"data row2 col3\" >21.0±19.58</td>\n",
       "                        <td id=\"T_3a5ef52a_d587_11ed_b5e9_00620b386ca0row2_col4\" class=\"data row2 col4\" >83.4±3.76</td>\n",
       "                        <td id=\"T_3a5ef52a_d587_11ed_b5e9_00620b386ca0row2_col5\" class=\"data row2 col5\" >86.02±2.98</td>\n",
       "                        <td id=\"T_3a5ef52a_d587_11ed_b5e9_00620b386ca0row2_col6\" class=\"data row2 col6\" >83.08±3.49</td>\n",
       "                        <td id=\"T_3a5ef52a_d587_11ed_b5e9_00620b386ca0row2_col7\" class=\"data row2 col7\" >84.08±3.94</td>\n",
       "                        <td id=\"T_3a5ef52a_d587_11ed_b5e9_00620b386ca0row2_col8\" class=\"data row2 col8\" >83.58±3.57</td>\n",
       "                        <td id=\"T_3a5ef52a_d587_11ed_b5e9_00620b386ca0row2_col9\" class=\"data row2 col9\" >92.05±1.8</td>\n",
       "                        <td id=\"T_3a5ef52a_d587_11ed_b5e9_00620b386ca0row2_col10\" class=\"data row2 col10\" >93.25±2.15</td>\n",
       "                        <td id=\"T_3a5ef52a_d587_11ed_b5e9_00620b386ca0row2_col11\" class=\"data row2 col11\" >91.57±3.47</td>\n",
       "                        <td id=\"T_3a5ef52a_d587_11ed_b5e9_00620b386ca0row2_col12\" class=\"data row2 col12\" >92.14±2.88</td>\n",
       "                        <td id=\"T_3a5ef52a_d587_11ed_b5e9_00620b386ca0row2_col13\" class=\"data row2 col13\" >92.03±2.89</td>\n",
       "            </tr>\n",
       "            <tr>\n",
       "                        <th id=\"T_3a5ef52a_d587_11ed_b5e9_00620b386ca0level0_row3\" class=\"row_heading level0 row3\" >frac-nosdp</th>\n",
       "                        <td id=\"T_3a5ef52a_d587_11ed_b5e9_00620b386ca0row3_col0\" class=\"data row3 col0\" >362.2±85.95</td>\n",
       "                        <td id=\"T_3a5ef52a_d587_11ed_b5e9_00620b386ca0row3_col1\" class=\"data row3 col1\" >63.8±43.5</td>\n",
       "                        <td id=\"T_3a5ef52a_d587_11ed_b5e9_00620b386ca0row3_col2\" class=\"data row3 col2\" >31.2±9.54</td>\n",
       "                        <td id=\"T_3a5ef52a_d587_11ed_b5e9_00620b386ca0row3_col3\" class=\"data row3 col3\" >20.8±5.71</td>\n",
       "                        <td id=\"T_3a5ef52a_d587_11ed_b5e9_00620b386ca0row3_col4\" class=\"data row3 col4\" >63.2±9.3</td>\n",
       "                        <td id=\"T_3a5ef52a_d587_11ed_b5e9_00620b386ca0row3_col5\" class=\"data row3 col5\" >77.48±2.54</td>\n",
       "                        <td id=\"T_3a5ef52a_d587_11ed_b5e9_00620b386ca0row3_col6\" class=\"data row3 col6\" >60.82±20.39</td>\n",
       "                        <td id=\"T_3a5ef52a_d587_11ed_b5e9_00620b386ca0row3_col7\" class=\"data row3 col7\" >80.2±4.01</td>\n",
       "                        <td id=\"T_3a5ef52a_d587_11ed_b5e9_00620b386ca0row3_col8\" class=\"data row3 col8\" >60.54±20.27</td>\n",
       "                        <td id=\"T_3a5ef52a_d587_11ed_b5e9_00620b386ca0row3_col9\" class=\"data row3 col9\" >80.0±5.57</td>\n",
       "                        <td id=\"T_3a5ef52a_d587_11ed_b5e9_00620b386ca0row3_col10\" class=\"data row3 col10\" >88.09±1.86</td>\n",
       "                        <td id=\"T_3a5ef52a_d587_11ed_b5e9_00620b386ca0row3_col11\" class=\"data row3 col11\" >75.97±16.18</td>\n",
       "                        <td id=\"T_3a5ef52a_d587_11ed_b5e9_00620b386ca0row3_col12\" class=\"data row3 col12\" >89.86±1.97</td>\n",
       "                        <td id=\"T_3a5ef52a_d587_11ed_b5e9_00620b386ca0row3_col13\" class=\"data row3 col13\" >75.72±16.02</td>\n",
       "            </tr>\n",
       "            <tr>\n",
       "                        <th id=\"T_3a5ef52a_d587_11ed_b5e9_00620b386ca0level0_row4\" class=\"row_heading level0 row4\" >mlp</th>\n",
       "                        <td id=\"T_3a5ef52a_d587_11ed_b5e9_00620b386ca0row4_col0\" class=\"data row4 col0\" >282.4±77.6</td>\n",
       "                        <td id=\"T_3a5ef52a_d587_11ed_b5e9_00620b386ca0row4_col1\" class=\"data row4 col1\" >34.2±11.77</td>\n",
       "                        <td id=\"T_3a5ef52a_d587_11ed_b5e9_00620b386ca0row4_col2\" class=\"data row4 col2\" >23.0±9.94</td>\n",
       "                        <td id=\"T_3a5ef52a_d587_11ed_b5e9_00620b386ca0row4_col3\" class=\"data row4 col3\" >14.4±6.25</td>\n",
       "                        <td id=\"T_3a5ef52a_d587_11ed_b5e9_00620b386ca0row4_col4\" class=\"data row4 col4\" >86.6±2.79</td>\n",
       "                        <td id=\"T_3a5ef52a_d587_11ed_b5e9_00620b386ca0row4_col5\" class=\"data row4 col5\" >84.6±4.36</td>\n",
       "                        <td id=\"T_3a5ef52a_d587_11ed_b5e9_00620b386ca0row4_col6\" class=\"data row4 col6\" >79.3±8.75</td>\n",
       "                        <td id=\"T_3a5ef52a_d587_11ed_b5e9_00620b386ca0row4_col7\" class=\"data row4 col7\" >85.98±4.31</td>\n",
       "                        <td id=\"T_3a5ef52a_d587_11ed_b5e9_00620b386ca0row4_col8\" class=\"data row4 col8\" >81.34±10.13</td>\n",
       "                        <td id=\"T_3a5ef52a_d587_11ed_b5e9_00620b386ca0row4_col9\" class=\"data row4 col9\" >93.56±1.58</td>\n",
       "                        <td id=\"T_3a5ef52a_d587_11ed_b5e9_00620b386ca0row4_col10\" class=\"data row4 col10\" >92.42±2.31</td>\n",
       "                        <td id=\"T_3a5ef52a_d587_11ed_b5e9_00620b386ca0row4_col11\" class=\"data row4 col11\" >88.46±6.16</td>\n",
       "                        <td id=\"T_3a5ef52a_d587_11ed_b5e9_00620b386ca0row4_col12\" class=\"data row4 col12\" >93.23±1.83</td>\n",
       "                        <td id=\"T_3a5ef52a_d587_11ed_b5e9_00620b386ca0row4_col13\" class=\"data row4 col13\" >89.25±7.22</td>\n",
       "            </tr>\n",
       "    </tbody></table>"
      ],
      "text/plain": [
       "<pandas.io.formats.style.Styler at 0x7f349c0f8c88>"
      ]
     },
     "execution_count": 237,
     "metadata": {},
     "output_type": "execute_result"
    }
   ],
   "source": [
    "outdf, _outdf = get_df_by_dataset(comb, 'pubmed')\n",
    "outdf"
   ]
  },
  {
   "cell_type": "code",
   "execution_count": 238,
   "id": "cfeade97",
   "metadata": {},
   "outputs": [
    {
     "data": {
      "text/html": [
       "<style  type=\"text/css\" >\n",
       "#T_3a62f7a6_d587_11ed_b5e9_00620b386ca0row0_col3,#T_3a62f7a6_d587_11ed_b5e9_00620b386ca0row0_col6,#T_3a62f7a6_d587_11ed_b5e9_00620b386ca0row0_col8,#T_3a62f7a6_d587_11ed_b5e9_00620b386ca0row0_col11,#T_3a62f7a6_d587_11ed_b5e9_00620b386ca0row1_col2,#T_3a62f7a6_d587_11ed_b5e9_00620b386ca0row1_col5,#T_3a62f7a6_d587_11ed_b5e9_00620b386ca0row1_col7,#T_3a62f7a6_d587_11ed_b5e9_00620b386ca0row1_col10,#T_3a62f7a6_d587_11ed_b5e9_00620b386ca0row1_col12,#T_3a62f7a6_d587_11ed_b5e9_00620b386ca0row1_col13,#T_3a62f7a6_d587_11ed_b5e9_00620b386ca0row2_col0,#T_3a62f7a6_d587_11ed_b5e9_00620b386ca0row2_col1,#T_3a62f7a6_d587_11ed_b5e9_00620b386ca0row3_col5,#T_3a62f7a6_d587_11ed_b5e9_00620b386ca0row4_col4,#T_3a62f7a6_d587_11ed_b5e9_00620b386ca0row4_col9{\n",
       "            color:  green;\n",
       "        }</style><table id=\"T_3a62f7a6_d587_11ed_b5e9_00620b386ca0\" ><thead>    <tr>        <th class=\"blank level0\" ></th>        <th class=\"col_heading level0 col0\" >train_time</th>        <th class=\"col_heading level0 col1\" >inf_time_hac</th>        <th class=\"col_heading level0 col2\" >inf_time_cc</th>        <th class=\"col_heading level0 col3\" >inf_time_cc-nosdp</th>        <th class=\"col_heading level0 col4\" >b3_f1_hac</th>        <th class=\"col_heading level0 col5\" >b3_f1_cc</th>        <th class=\"col_heading level0 col6\" >b3_f1_cc-fixed</th>        <th class=\"col_heading level0 col7\" >b3_f1_cc-nosdp</th>        <th class=\"col_heading level0 col8\" >b3_f1_cc-nosdp-fixed</th>        <th class=\"col_heading level0 col9\" >vmeasure_hac</th>        <th class=\"col_heading level0 col10\" >vmeasure_cc</th>        <th class=\"col_heading level0 col11\" >vmeasure_cc-fixed</th>        <th class=\"col_heading level0 col12\" >vmeasure_cc-nosdp</th>        <th class=\"col_heading level0 col13\" >vmeasure_cc-nosdp-fixed</th>    </tr></thead><tbody>\n",
       "                <tr>\n",
       "                        <th id=\"T_3a62f7a6_d587_11ed_b5e9_00620b386ca0level0_row0\" class=\"row_heading level0 row0\" >e2e</th>\n",
       "                        <td id=\"T_3a62f7a6_d587_11ed_b5e9_00620b386ca0row0_col0\" class=\"data row0 col0\" >1234.6±192.11</td>\n",
       "                        <td id=\"T_3a62f7a6_d587_11ed_b5e9_00620b386ca0row0_col1\" class=\"data row0 col1\" >221.0±294.91</td>\n",
       "                        <td id=\"T_3a62f7a6_d587_11ed_b5e9_00620b386ca0row0_col2\" class=\"data row0 col2\" >43.8±18.06</td>\n",
       "                        <td id=\"T_3a62f7a6_d587_11ed_b5e9_00620b386ca0row0_col3\" class=\"data row0 col3\" >36.0±11.85</td>\n",
       "                        <td id=\"T_3a62f7a6_d587_11ed_b5e9_00620b386ca0row0_col4\" class=\"data row0 col4\" >69.62±7.01</td>\n",
       "                        <td id=\"T_3a62f7a6_d587_11ed_b5e9_00620b386ca0row0_col5\" class=\"data row0 col5\" >69.4±7.45</td>\n",
       "                        <td id=\"T_3a62f7a6_d587_11ed_b5e9_00620b386ca0row0_col6\" class=\"data row0 col6\" >67.78±8.25</td>\n",
       "                        <td id=\"T_3a62f7a6_d587_11ed_b5e9_00620b386ca0row0_col7\" class=\"data row0 col7\" >69.4±7.45</td>\n",
       "                        <td id=\"T_3a62f7a6_d587_11ed_b5e9_00620b386ca0row0_col8\" class=\"data row0 col8\" >67.78±8.25</td>\n",
       "                        <td id=\"T_3a62f7a6_d587_11ed_b5e9_00620b386ca0row0_col9\" class=\"data row0 col9\" >84.5±4.63</td>\n",
       "                        <td id=\"T_3a62f7a6_d587_11ed_b5e9_00620b386ca0row0_col10\" class=\"data row0 col10\" >84.49±4.78</td>\n",
       "                        <td id=\"T_3a62f7a6_d587_11ed_b5e9_00620b386ca0row0_col11\" class=\"data row0 col11\" >83.62±5.72</td>\n",
       "                        <td id=\"T_3a62f7a6_d587_11ed_b5e9_00620b386ca0row0_col12\" class=\"data row0 col12\" >84.49±4.78</td>\n",
       "                        <td id=\"T_3a62f7a6_d587_11ed_b5e9_00620b386ca0row0_col13\" class=\"data row0 col13\" >83.62±5.72</td>\n",
       "            </tr>\n",
       "            <tr>\n",
       "                        <th id=\"T_3a62f7a6_d587_11ed_b5e9_00620b386ca0level0_row1\" class=\"row_heading level0 row1\" >e2e-nosdp</th>\n",
       "                        <td id=\"T_3a62f7a6_d587_11ed_b5e9_00620b386ca0row1_col0\" class=\"data row1 col0\" >587.0±270.52</td>\n",
       "                        <td id=\"T_3a62f7a6_d587_11ed_b5e9_00620b386ca0row1_col1\" class=\"data row1 col1\" >77.4±20.88</td>\n",
       "                        <td id=\"T_3a62f7a6_d587_11ed_b5e9_00620b386ca0row1_col2\" class=\"data row1 col2\" >44.6±32.21</td>\n",
       "                        <td id=\"T_3a62f7a6_d587_11ed_b5e9_00620b386ca0row1_col3\" class=\"data row1 col3\" >29.0±13.37</td>\n",
       "                        <td id=\"T_3a62f7a6_d587_11ed_b5e9_00620b386ca0row1_col4\" class=\"data row1 col4\" >71.02±5.2</td>\n",
       "                        <td id=\"T_3a62f7a6_d587_11ed_b5e9_00620b386ca0row1_col5\" class=\"data row1 col5\" >70.98±5.17</td>\n",
       "                        <td id=\"T_3a62f7a6_d587_11ed_b5e9_00620b386ca0row1_col6\" class=\"data row1 col6\" >66.5±4.59</td>\n",
       "                        <td id=\"T_3a62f7a6_d587_11ed_b5e9_00620b386ca0row1_col7\" class=\"data row1 col7\" >72.14±5.95</td>\n",
       "                        <td id=\"T_3a62f7a6_d587_11ed_b5e9_00620b386ca0row1_col8\" class=\"data row1 col8\" >67.62±4.96</td>\n",
       "                        <td id=\"T_3a62f7a6_d587_11ed_b5e9_00620b386ca0row1_col9\" class=\"data row1 col9\" >85.12±3.89</td>\n",
       "                        <td id=\"T_3a62f7a6_d587_11ed_b5e9_00620b386ca0row1_col10\" class=\"data row1 col10\" >84.97±4.26</td>\n",
       "                        <td id=\"T_3a62f7a6_d587_11ed_b5e9_00620b386ca0row1_col11\" class=\"data row1 col11\" >83.57±3.44</td>\n",
       "                        <td id=\"T_3a62f7a6_d587_11ed_b5e9_00620b386ca0row1_col12\" class=\"data row1 col12\" >85.52±4.42</td>\n",
       "                        <td id=\"T_3a62f7a6_d587_11ed_b5e9_00620b386ca0row1_col13\" class=\"data row1 col13\" >84.27±3.37</td>\n",
       "            </tr>\n",
       "            <tr>\n",
       "                        <th id=\"T_3a62f7a6_d587_11ed_b5e9_00620b386ca0level0_row2\" class=\"row_heading level0 row2\" >frac</th>\n",
       "                        <td id=\"T_3a62f7a6_d587_11ed_b5e9_00620b386ca0row2_col0\" class=\"data row2 col0\" >1299.2±485.59</td>\n",
       "                        <td id=\"T_3a62f7a6_d587_11ed_b5e9_00620b386ca0row2_col1\" class=\"data row2 col1\" >232.4±163.01</td>\n",
       "                        <td id=\"T_3a62f7a6_d587_11ed_b5e9_00620b386ca0row2_col2\" class=\"data row2 col2\" >21.8±8.89</td>\n",
       "                        <td id=\"T_3a62f7a6_d587_11ed_b5e9_00620b386ca0row2_col3\" class=\"data row2 col3\" >13.8±3.06</td>\n",
       "                        <td id=\"T_3a62f7a6_d587_11ed_b5e9_00620b386ca0row2_col4\" class=\"data row2 col4\" >70.54±6.69</td>\n",
       "                        <td id=\"T_3a62f7a6_d587_11ed_b5e9_00620b386ca0row2_col5\" class=\"data row2 col5\" >69.12±6.07</td>\n",
       "                        <td id=\"T_3a62f7a6_d587_11ed_b5e9_00620b386ca0row2_col6\" class=\"data row2 col6\" >59.22±6.66</td>\n",
       "                        <td id=\"T_3a62f7a6_d587_11ed_b5e9_00620b386ca0row2_col7\" class=\"data row2 col7\" >69.58±6.45</td>\n",
       "                        <td id=\"T_3a62f7a6_d587_11ed_b5e9_00620b386ca0row2_col8\" class=\"data row2 col8\" >58.46±7.14</td>\n",
       "                        <td id=\"T_3a62f7a6_d587_11ed_b5e9_00620b386ca0row2_col9\" class=\"data row2 col9\" >84.84±4.35</td>\n",
       "                        <td id=\"T_3a62f7a6_d587_11ed_b5e9_00620b386ca0row2_col10\" class=\"data row2 col10\" >84.13±3.97</td>\n",
       "                        <td id=\"T_3a62f7a6_d587_11ed_b5e9_00620b386ca0row2_col11\" class=\"data row2 col11\" >80.89±4.39</td>\n",
       "                        <td id=\"T_3a62f7a6_d587_11ed_b5e9_00620b386ca0row2_col12\" class=\"data row2 col12\" >84.44±4.17</td>\n",
       "                        <td id=\"T_3a62f7a6_d587_11ed_b5e9_00620b386ca0row2_col13\" class=\"data row2 col13\" >80.89±4.38</td>\n",
       "            </tr>\n",
       "            <tr>\n",
       "                        <th id=\"T_3a62f7a6_d587_11ed_b5e9_00620b386ca0level0_row3\" class=\"row_heading level0 row3\" >frac-nosdp</th>\n",
       "                        <td id=\"T_3a62f7a6_d587_11ed_b5e9_00620b386ca0row3_col0\" class=\"data row3 col0\" >347.8±113.89</td>\n",
       "                        <td id=\"T_3a62f7a6_d587_11ed_b5e9_00620b386ca0row3_col1\" class=\"data row3 col1\" >81.2±18.73</td>\n",
       "                        <td id=\"T_3a62f7a6_d587_11ed_b5e9_00620b386ca0row3_col2\" class=\"data row3 col2\" >29.0±12.46</td>\n",
       "                        <td id=\"T_3a62f7a6_d587_11ed_b5e9_00620b386ca0row3_col3\" class=\"data row3 col3\" >21.2±14.85</td>\n",
       "                        <td id=\"T_3a62f7a6_d587_11ed_b5e9_00620b386ca0row3_col4\" class=\"data row3 col4\" >68.98±5.87</td>\n",
       "                        <td id=\"T_3a62f7a6_d587_11ed_b5e9_00620b386ca0row3_col5\" class=\"data row3 col5\" >70.98±4.93</td>\n",
       "                        <td id=\"T_3a62f7a6_d587_11ed_b5e9_00620b386ca0row3_col6\" class=\"data row3 col6\" >56.9±6.42</td>\n",
       "                        <td id=\"T_3a62f7a6_d587_11ed_b5e9_00620b386ca0row3_col7\" class=\"data row3 col7\" >71.2±5.16</td>\n",
       "                        <td id=\"T_3a62f7a6_d587_11ed_b5e9_00620b386ca0row3_col8\" class=\"data row3 col8\" >56.48±6.83</td>\n",
       "                        <td id=\"T_3a62f7a6_d587_11ed_b5e9_00620b386ca0row3_col9\" class=\"data row3 col9\" >83.85±4.09</td>\n",
       "                        <td id=\"T_3a62f7a6_d587_11ed_b5e9_00620b386ca0row3_col10\" class=\"data row3 col10\" >84.83±3.99</td>\n",
       "                        <td id=\"T_3a62f7a6_d587_11ed_b5e9_00620b386ca0row3_col11\" class=\"data row3 col11\" >80.56±4.22</td>\n",
       "                        <td id=\"T_3a62f7a6_d587_11ed_b5e9_00620b386ca0row3_col12\" class=\"data row3 col12\" >85.11±3.86</td>\n",
       "                        <td id=\"T_3a62f7a6_d587_11ed_b5e9_00620b386ca0row3_col13\" class=\"data row3 col13\" >81.07±3.56</td>\n",
       "            </tr>\n",
       "            <tr>\n",
       "                        <th id=\"T_3a62f7a6_d587_11ed_b5e9_00620b386ca0level0_row4\" class=\"row_heading level0 row4\" >mlp</th>\n",
       "                        <td id=\"T_3a62f7a6_d587_11ed_b5e9_00620b386ca0row4_col0\" class=\"data row4 col0\" >556.0±87.24</td>\n",
       "                        <td id=\"T_3a62f7a6_d587_11ed_b5e9_00620b386ca0row4_col1\" class=\"data row4 col1\" >80.2±20.5</td>\n",
       "                        <td id=\"T_3a62f7a6_d587_11ed_b5e9_00620b386ca0row4_col2\" class=\"data row4 col2\" >42.8±16.27</td>\n",
       "                        <td id=\"T_3a62f7a6_d587_11ed_b5e9_00620b386ca0row4_col3\" class=\"data row4 col3\" >30.8±5.74</td>\n",
       "                        <td id=\"T_3a62f7a6_d587_11ed_b5e9_00620b386ca0row4_col4\" class=\"data row4 col4\" >72.3±5.46</td>\n",
       "                        <td id=\"T_3a62f7a6_d587_11ed_b5e9_00620b386ca0row4_col5\" class=\"data row4 col5\" >54.18±12.54</td>\n",
       "                        <td id=\"T_3a62f7a6_d587_11ed_b5e9_00620b386ca0row4_col6\" class=\"data row4 col6\" >44.8±15.62</td>\n",
       "                        <td id=\"T_3a62f7a6_d587_11ed_b5e9_00620b386ca0row4_col7\" class=\"data row4 col7\" >54.22±12.98</td>\n",
       "                        <td id=\"T_3a62f7a6_d587_11ed_b5e9_00620b386ca0row4_col8\" class=\"data row4 col8\" >44.9±15.85</td>\n",
       "                        <td id=\"T_3a62f7a6_d587_11ed_b5e9_00620b386ca0row4_col9\" class=\"data row4 col9\" >85.3±4.29</td>\n",
       "                        <td id=\"T_3a62f7a6_d587_11ed_b5e9_00620b386ca0row4_col10\" class=\"data row4 col10\" >81.56±5.06</td>\n",
       "                        <td id=\"T_3a62f7a6_d587_11ed_b5e9_00620b386ca0row4_col11\" class=\"data row4 col11\" >79.36±5.65</td>\n",
       "                        <td id=\"T_3a62f7a6_d587_11ed_b5e9_00620b386ca0row4_col12\" class=\"data row4 col12\" >81.62±5.01</td>\n",
       "                        <td id=\"T_3a62f7a6_d587_11ed_b5e9_00620b386ca0row4_col13\" class=\"data row4 col13\" >79.56±5.84</td>\n",
       "            </tr>\n",
       "    </tbody></table>"
      ],
      "text/plain": [
       "<pandas.io.formats.style.Styler at 0x7f347c465860>"
      ]
     },
     "execution_count": 238,
     "metadata": {},
     "output_type": "execute_result"
    }
   ],
   "source": [
    "outdf, _outdf = get_df_by_dataset(comb, 'qian')\n",
    "outdf"
   ]
  },
  {
   "cell_type": "code",
   "execution_count": 239,
   "id": "e9c634de",
   "metadata": {},
   "outputs": [
    {
     "data": {
      "text/html": [
       "<style  type=\"text/css\" >\n",
       "#T_3a67bde0_d587_11ed_b5e9_00620b386ca0row0_col2,#T_3a67bde0_d587_11ed_b5e9_00620b386ca0row0_col3,#T_3a67bde0_d587_11ed_b5e9_00620b386ca0row0_col8,#T_3a67bde0_d587_11ed_b5e9_00620b386ca0row1_col5,#T_3a67bde0_d587_11ed_b5e9_00620b386ca0row1_col6,#T_3a67bde0_d587_11ed_b5e9_00620b386ca0row1_col7,#T_3a67bde0_d587_11ed_b5e9_00620b386ca0row1_col10,#T_3a67bde0_d587_11ed_b5e9_00620b386ca0row1_col11,#T_3a67bde0_d587_11ed_b5e9_00620b386ca0row1_col12,#T_3a67bde0_d587_11ed_b5e9_00620b386ca0row1_col13,#T_3a67bde0_d587_11ed_b5e9_00620b386ca0row2_col0,#T_3a67bde0_d587_11ed_b5e9_00620b386ca0row3_col1,#T_3a67bde0_d587_11ed_b5e9_00620b386ca0row3_col3,#T_3a67bde0_d587_11ed_b5e9_00620b386ca0row4_col4,#T_3a67bde0_d587_11ed_b5e9_00620b386ca0row4_col9{\n",
       "            color:  green;\n",
       "        }</style><table id=\"T_3a67bde0_d587_11ed_b5e9_00620b386ca0\" ><thead>    <tr>        <th class=\"blank level0\" ></th>        <th class=\"col_heading level0 col0\" >train_time</th>        <th class=\"col_heading level0 col1\" >inf_time_hac</th>        <th class=\"col_heading level0 col2\" >inf_time_cc</th>        <th class=\"col_heading level0 col3\" >inf_time_cc-nosdp</th>        <th class=\"col_heading level0 col4\" >b3_f1_hac</th>        <th class=\"col_heading level0 col5\" >b3_f1_cc</th>        <th class=\"col_heading level0 col6\" >b3_f1_cc-fixed</th>        <th class=\"col_heading level0 col7\" >b3_f1_cc-nosdp</th>        <th class=\"col_heading level0 col8\" >b3_f1_cc-nosdp-fixed</th>        <th class=\"col_heading level0 col9\" >vmeasure_hac</th>        <th class=\"col_heading level0 col10\" >vmeasure_cc</th>        <th class=\"col_heading level0 col11\" >vmeasure_cc-fixed</th>        <th class=\"col_heading level0 col12\" >vmeasure_cc-nosdp</th>        <th class=\"col_heading level0 col13\" >vmeasure_cc-nosdp-fixed</th>    </tr></thead><tbody>\n",
       "                <tr>\n",
       "                        <th id=\"T_3a67bde0_d587_11ed_b5e9_00620b386ca0level0_row0\" class=\"row_heading level0 row0\" >e2e</th>\n",
       "                        <td id=\"T_3a67bde0_d587_11ed_b5e9_00620b386ca0row0_col0\" class=\"data row0 col0\" >1072.6±746.42</td>\n",
       "                        <td id=\"T_3a67bde0_d587_11ed_b5e9_00620b386ca0row0_col1\" class=\"data row0 col1\" >104.6±66.95</td>\n",
       "                        <td id=\"T_3a67bde0_d587_11ed_b5e9_00620b386ca0row0_col2\" class=\"data row0 col2\" >75.6±72.71</td>\n",
       "                        <td id=\"T_3a67bde0_d587_11ed_b5e9_00620b386ca0row0_col3\" class=\"data row0 col3\" >16.8±4.17</td>\n",
       "                        <td id=\"T_3a67bde0_d587_11ed_b5e9_00620b386ca0row0_col4\" class=\"data row0 col4\" >64.4±10.62</td>\n",
       "                        <td id=\"T_3a67bde0_d587_11ed_b5e9_00620b386ca0row0_col5\" class=\"data row0 col5\" >64.54±10.74</td>\n",
       "                        <td id=\"T_3a67bde0_d587_11ed_b5e9_00620b386ca0row0_col6\" class=\"data row0 col6\" >63.58±10.2</td>\n",
       "                        <td id=\"T_3a67bde0_d587_11ed_b5e9_00620b386ca0row0_col7\" class=\"data row0 col7\" >64.82±11.07</td>\n",
       "                        <td id=\"T_3a67bde0_d587_11ed_b5e9_00620b386ca0row0_col8\" class=\"data row0 col8\" >64.02±10.42</td>\n",
       "                        <td id=\"T_3a67bde0_d587_11ed_b5e9_00620b386ca0row0_col9\" class=\"data row0 col9\" >76.71±7.04</td>\n",
       "                        <td id=\"T_3a67bde0_d587_11ed_b5e9_00620b386ca0row0_col10\" class=\"data row0 col10\" >76.64±6.9</td>\n",
       "                        <td id=\"T_3a67bde0_d587_11ed_b5e9_00620b386ca0row0_col11\" class=\"data row0 col11\" >76.07±6.63</td>\n",
       "                        <td id=\"T_3a67bde0_d587_11ed_b5e9_00620b386ca0row0_col12\" class=\"data row0 col12\" >76.73±6.92</td>\n",
       "                        <td id=\"T_3a67bde0_d587_11ed_b5e9_00620b386ca0row0_col13\" class=\"data row0 col13\" >76.44±6.99</td>\n",
       "            </tr>\n",
       "            <tr>\n",
       "                        <th id=\"T_3a67bde0_d587_11ed_b5e9_00620b386ca0level0_row1\" class=\"row_heading level0 row1\" >e2e-nosdp</th>\n",
       "                        <td id=\"T_3a67bde0_d587_11ed_b5e9_00620b386ca0row1_col0\" class=\"data row1 col0\" >143.2±13.41</td>\n",
       "                        <td id=\"T_3a67bde0_d587_11ed_b5e9_00620b386ca0row1_col1\" class=\"data row1 col1\" >73.4±23.47</td>\n",
       "                        <td id=\"T_3a67bde0_d587_11ed_b5e9_00620b386ca0row1_col2\" class=\"data row1 col2\" >69.8±67.15</td>\n",
       "                        <td id=\"T_3a67bde0_d587_11ed_b5e9_00620b386ca0row1_col3\" class=\"data row1 col3\" >13.6±2.15</td>\n",
       "                        <td id=\"T_3a67bde0_d587_11ed_b5e9_00620b386ca0row1_col4\" class=\"data row1 col4\" >67.34±11.12</td>\n",
       "                        <td id=\"T_3a67bde0_d587_11ed_b5e9_00620b386ca0row1_col5\" class=\"data row1 col5\" >65.36±9.74</td>\n",
       "                        <td id=\"T_3a67bde0_d587_11ed_b5e9_00620b386ca0row1_col6\" class=\"data row1 col6\" >63.74±8.72</td>\n",
       "                        <td id=\"T_3a67bde0_d587_11ed_b5e9_00620b386ca0row1_col7\" class=\"data row1 col7\" >66.64±10.6</td>\n",
       "                        <td id=\"T_3a67bde0_d587_11ed_b5e9_00620b386ca0row1_col8\" class=\"data row1 col8\" >63.36±8.6</td>\n",
       "                        <td id=\"T_3a67bde0_d587_11ed_b5e9_00620b386ca0row1_col9\" class=\"data row1 col9\" >78.91±7.6</td>\n",
       "                        <td id=\"T_3a67bde0_d587_11ed_b5e9_00620b386ca0row1_col10\" class=\"data row1 col10\" >78.09±7.11</td>\n",
       "                        <td id=\"T_3a67bde0_d587_11ed_b5e9_00620b386ca0row1_col11\" class=\"data row1 col11\" >77.64±6.9</td>\n",
       "                        <td id=\"T_3a67bde0_d587_11ed_b5e9_00620b386ca0row1_col12\" class=\"data row1 col12\" >78.76±7.36</td>\n",
       "                        <td id=\"T_3a67bde0_d587_11ed_b5e9_00620b386ca0row1_col13\" class=\"data row1 col13\" >77.83±7.16</td>\n",
       "            </tr>\n",
       "            <tr>\n",
       "                        <th id=\"T_3a67bde0_d587_11ed_b5e9_00620b386ca0level0_row2\" class=\"row_heading level0 row2\" >frac</th>\n",
       "                        <td id=\"T_3a67bde0_d587_11ed_b5e9_00620b386ca0row2_col0\" class=\"data row2 col0\" >1450.2±975.29</td>\n",
       "                        <td id=\"T_3a67bde0_d587_11ed_b5e9_00620b386ca0row2_col1\" class=\"data row2 col1\" >103.6±64.36</td>\n",
       "                        <td id=\"T_3a67bde0_d587_11ed_b5e9_00620b386ca0row2_col2\" class=\"data row2 col2\" >34.2±21.89</td>\n",
       "                        <td id=\"T_3a67bde0_d587_11ed_b5e9_00620b386ca0row2_col3\" class=\"data row2 col3\" >12.0±1.55</td>\n",
       "                        <td id=\"T_3a67bde0_d587_11ed_b5e9_00620b386ca0row2_col4\" class=\"data row2 col4\" >63.64±12.64</td>\n",
       "                        <td id=\"T_3a67bde0_d587_11ed_b5e9_00620b386ca0row2_col5\" class=\"data row2 col5\" >57.44±14.89</td>\n",
       "                        <td id=\"T_3a67bde0_d587_11ed_b5e9_00620b386ca0row2_col6\" class=\"data row2 col6\" >54.1±14.5</td>\n",
       "                        <td id=\"T_3a67bde0_d587_11ed_b5e9_00620b386ca0row2_col7\" class=\"data row2 col7\" >57.54±15.3</td>\n",
       "                        <td id=\"T_3a67bde0_d587_11ed_b5e9_00620b386ca0row2_col8\" class=\"data row2 col8\" >53.34±13.97</td>\n",
       "                        <td id=\"T_3a67bde0_d587_11ed_b5e9_00620b386ca0row2_col9\" class=\"data row2 col9\" >76.95±7.68</td>\n",
       "                        <td id=\"T_3a67bde0_d587_11ed_b5e9_00620b386ca0row2_col10\" class=\"data row2 col10\" >76.05±7.1</td>\n",
       "                        <td id=\"T_3a67bde0_d587_11ed_b5e9_00620b386ca0row2_col11\" class=\"data row2 col11\" >74.5±6.76</td>\n",
       "                        <td id=\"T_3a67bde0_d587_11ed_b5e9_00620b386ca0row2_col12\" class=\"data row2 col12\" >76.06±7.12</td>\n",
       "                        <td id=\"T_3a67bde0_d587_11ed_b5e9_00620b386ca0row2_col13\" class=\"data row2 col13\" >74.4±6.56</td>\n",
       "            </tr>\n",
       "            <tr>\n",
       "                        <th id=\"T_3a67bde0_d587_11ed_b5e9_00620b386ca0level0_row3\" class=\"row_heading level0 row3\" >frac-nosdp</th>\n",
       "                        <td id=\"T_3a67bde0_d587_11ed_b5e9_00620b386ca0row3_col0\" class=\"data row3 col0\" >138.4±17.32</td>\n",
       "                        <td id=\"T_3a67bde0_d587_11ed_b5e9_00620b386ca0row3_col1\" class=\"data row3 col1\" >201.2±277.46</td>\n",
       "                        <td id=\"T_3a67bde0_d587_11ed_b5e9_00620b386ca0row3_col2\" class=\"data row3 col2\" >67.4±75.15</td>\n",
       "                        <td id=\"T_3a67bde0_d587_11ed_b5e9_00620b386ca0row3_col3\" class=\"data row3 col3\" >16.8±3.54</td>\n",
       "                        <td id=\"T_3a67bde0_d587_11ed_b5e9_00620b386ca0row3_col4\" class=\"data row3 col4\" >64.68±11.87</td>\n",
       "                        <td id=\"T_3a67bde0_d587_11ed_b5e9_00620b386ca0row3_col5\" class=\"data row3 col5\" >59.86±11.57</td>\n",
       "                        <td id=\"T_3a67bde0_d587_11ed_b5e9_00620b386ca0row3_col6\" class=\"data row3 col6\" >51.68±6.78</td>\n",
       "                        <td id=\"T_3a67bde0_d587_11ed_b5e9_00620b386ca0row3_col7\" class=\"data row3 col7\" >60.5±12.08</td>\n",
       "                        <td id=\"T_3a67bde0_d587_11ed_b5e9_00620b386ca0row3_col8\" class=\"data row3 col8\" >50.74±6.83</td>\n",
       "                        <td id=\"T_3a67bde0_d587_11ed_b5e9_00620b386ca0row3_col9\" class=\"data row3 col9\" >77.77±6.91</td>\n",
       "                        <td id=\"T_3a67bde0_d587_11ed_b5e9_00620b386ca0row3_col10\" class=\"data row3 col10\" >77.85±5.42</td>\n",
       "                        <td id=\"T_3a67bde0_d587_11ed_b5e9_00620b386ca0row3_col11\" class=\"data row3 col11\" >75.19±4.62</td>\n",
       "                        <td id=\"T_3a67bde0_d587_11ed_b5e9_00620b386ca0row3_col12\" class=\"data row3 col12\" >78.25±5.64</td>\n",
       "                        <td id=\"T_3a67bde0_d587_11ed_b5e9_00620b386ca0row3_col13\" class=\"data row3 col13\" >74.86±4.81</td>\n",
       "            </tr>\n",
       "            <tr>\n",
       "                        <th id=\"T_3a67bde0_d587_11ed_b5e9_00620b386ca0level0_row4\" class=\"row_heading level0 row4\" >mlp</th>\n",
       "                        <td id=\"T_3a67bde0_d587_11ed_b5e9_00620b386ca0row4_col0\" class=\"data row4 col0\" >310.2±18.89</td>\n",
       "                        <td id=\"T_3a67bde0_d587_11ed_b5e9_00620b386ca0row4_col1\" class=\"data row4 col1\" >67.0±23.35</td>\n",
       "                        <td id=\"T_3a67bde0_d587_11ed_b5e9_00620b386ca0row4_col2\" class=\"data row4 col2\" >53.4±44.56</td>\n",
       "                        <td id=\"T_3a67bde0_d587_11ed_b5e9_00620b386ca0row4_col3\" class=\"data row4 col3\" >11.4±1.02</td>\n",
       "                        <td id=\"T_3a67bde0_d587_11ed_b5e9_00620b386ca0row4_col4\" class=\"data row4 col4\" >67.84±9.65</td>\n",
       "                        <td id=\"T_3a67bde0_d587_11ed_b5e9_00620b386ca0row4_col5\" class=\"data row4 col5\" >59.54±8.29</td>\n",
       "                        <td id=\"T_3a67bde0_d587_11ed_b5e9_00620b386ca0row4_col6\" class=\"data row4 col6\" >58.4±9.72</td>\n",
       "                        <td id=\"T_3a67bde0_d587_11ed_b5e9_00620b386ca0row4_col7\" class=\"data row4 col7\" >60.04±8.14</td>\n",
       "                        <td id=\"T_3a67bde0_d587_11ed_b5e9_00620b386ca0row4_col8\" class=\"data row4 col8\" >57.88±9.5</td>\n",
       "                        <td id=\"T_3a67bde0_d587_11ed_b5e9_00620b386ca0row4_col9\" class=\"data row4 col9\" >80.52±5.95</td>\n",
       "                        <td id=\"T_3a67bde0_d587_11ed_b5e9_00620b386ca0row4_col10\" class=\"data row4 col10\" >77.52±5.79</td>\n",
       "                        <td id=\"T_3a67bde0_d587_11ed_b5e9_00620b386ca0row4_col11\" class=\"data row4 col11\" >76.06±4.76</td>\n",
       "                        <td id=\"T_3a67bde0_d587_11ed_b5e9_00620b386ca0row4_col12\" class=\"data row4 col12\" >78.07±5.71</td>\n",
       "                        <td id=\"T_3a67bde0_d587_11ed_b5e9_00620b386ca0row4_col13\" class=\"data row4 col13\" >76.01±4.9</td>\n",
       "            </tr>\n",
       "    </tbody></table>"
      ],
      "text/plain": [
       "<pandas.io.formats.style.Styler at 0x7f347c456940>"
      ]
     },
     "execution_count": 239,
     "metadata": {},
     "output_type": "execute_result"
    }
   ],
   "source": [
    "outdf, _outdf = get_df_by_dataset(comb, 'arnetminer')\n",
    "outdf"
   ]
  },
  {
   "cell_type": "code",
   "execution_count": 327,
   "id": "5f563545",
   "metadata": {},
   "outputs": [],
   "source": [
    "# Add agents to sweeps with few completed runs\n",
    "\n",
    "def add_agents(max_run_count_filter, already_added, sweep_finished_count, sweep_ids, n_agents=2, gpu=\"gypsum-1080ti\"):\n",
    "    for k, v in sweep_finished_count.items():\n",
    "        if k in already_added:\n",
    "            continue\n",
    "        if v < max_run_count_filter:\n",
    "            model, dataset, seed = k.split('_')\n",
    "            sweep_id = sweep_ids[k]\n",
    "            n_agents = n_agents\n",
    "            gpu_name = gpu\n",
    "            print(f\"./add_agent.sh {dataset} {seed} {model} dhdhagar/prob-ent-resolution/{sweep_id} {n_agents} {gpu_name}\")\n",
    "            !./add_agent.sh $dataset $seed $model dhdhagar/prob-ent-resolution/$sweep_id $n_agents $gpu_name\n",
    "            already_added.add(k)"
   ]
  },
  {
   "cell_type": "code",
   "execution_count": 328,
   "id": "9b83cd7b",
   "metadata": {},
   "outputs": [],
   "source": [
    "def add_agents_by_list(keys_to_add, already_added, sweep_ids, n_agents=2, gpu=\"gypsum-1080ti\"):\n",
    "    for k in keys_to_add:\n",
    "        model, dataset, seed = k.split('_')\n",
    "        sweep_id = sweep_ids[k]\n",
    "        n_agents = n_agents\n",
    "        gpu_name = gpu\n",
    "        print(f\"./add_agent.sh {dataset} {seed} {model} dhdhagar/prob-ent-resolution/{sweep_id} {n_agents} {gpu_name}\")\n",
    "        !./add_agent.sh $dataset $seed $model dhdhagar/prob-ent-resolution/$sweep_id $n_agents $gpu_name\n",
    "        already_added.add(k)"
   ]
  },
  {
   "cell_type": "code",
   "execution_count": 347,
   "id": "9fae13bd",
   "metadata": {},
   "outputs": [],
   "source": [
    "def resubmit_pending_agents(already_added, sweep_ids, n_agents=2, gpu=\"gypsum-1080ti\"):\n",
    "    pending = !sacct --format=\"JobID,JobName%50,Partition,State\" | grep PENDING\n",
    "    _pending = set()\n",
    "    _pending_job_ids = []\n",
    "    for pen in pending:\n",
    "        pen_split = pen.split()\n",
    "        _pending_job_ids.append(pen_split[0])\n",
    "        model, dataset, seed, _ = pen_split[1].split('_')\n",
    "        seed = seed.split('-')[0][-1]\n",
    "        _pending.add(f\"{model}_{dataset}_{seed}\")\n",
    "    print(f\"PENDING sweeps: {_pending}\")\n",
    "    if len(_pending) > 0:\n",
    "        _pending_job_ids = ' '.join(_pending_job_ids)\n",
    "\n",
    "        print(f\"!scancel {_pending_job_ids}\")\n",
    "        !scancel $_pending_job_ids\n",
    "\n",
    "        add_agents_by_list(keys_to_add=_pending, already_added=already_added, \n",
    "                           sweep_ids=sweep_ids, n_agents=n_agents, gpu=gpu)"
   ]
  },
  {
   "cell_type": "code",
   "execution_count": 282,
   "id": "d160285f",
   "metadata": {},
   "outputs": [],
   "source": [
    "agents_added = set()"
   ]
  },
  {
   "cell_type": "code",
   "execution_count": 284,
   "id": "90230668",
   "metadata": {
    "scrolled": true
   },
   "outputs": [],
   "source": [
    "add_agents(max_run_count_filter=20, already_added=agents_added, \n",
    "           sweep_finished_count=finished_runs, sweep_ids=all_sweeps, \n",
    "           n_agents=2, gpu=\"gypsum-1080ti\")"
   ]
  },
  {
   "cell_type": "code",
   "execution_count": null,
   "id": "cc9fc3ac",
   "metadata": {
    "scrolled": true
   },
   "outputs": [],
   "source": [
    "add_agents(max_run_count_filter=30, already_added=agents_added, \n",
    "           sweep_finished_count=finished_runs, sweep_ids=all_sweeps, \n",
    "           n_agents=2, gpu=\"gypsum-2080ti\")"
   ]
  },
  {
   "cell_type": "code",
   "execution_count": null,
   "id": "6255c6fe",
   "metadata": {
    "scrolled": true
   },
   "outputs": [],
   "source": [
    "add_agents(max_run_count_filter=40, already_added=agents_added, \n",
    "           sweep_finished_count=finished_runs, sweep_ids=all_sweeps, \n",
    "           n_agents=2, gpu=\"gypsum-titanx\")"
   ]
  },
  {
   "cell_type": "code",
   "execution_count": null,
   "id": "d41cd8a7",
   "metadata": {
    "scrolled": true
   },
   "outputs": [],
   "source": [
    "add_agents(max_run_count_filter=50, already_added=agents_added, \n",
    "           sweep_finished_count=finished_runs, sweep_ids=all_sweeps, \n",
    "           n_agents=2, gpu=\"gpu\")"
   ]
  },
  {
   "cell_type": "code",
   "execution_count": 331,
   "id": "c402488e",
   "metadata": {},
   "outputs": [
    {
     "name": "stdout",
     "output_type": "stream",
     "text": [
      "PENDING sweeps: {'mlp_qian_2', 'mlp_qian_3'}\n",
      "!scancel 6725814 6725815 6725816 6725817\n",
      "./add_agent.sh qian 2 mlp dhdhagar/prob-ent-resolution/gcteakms 2 gypsum-titanx\n",
      "Submitted batch job 6725996\n",
      "    Logs: jobs/mlp_qian_sweep2-1_1680906954.err\n",
      "Submitted batch job 6725997\n",
      "    Logs: jobs/mlp_qian_sweep2-2_1680906954.err\n",
      "./add_agent.sh qian 3 mlp dhdhagar/prob-ent-resolution/6j25xh4w 2 gypsum-titanx\n",
      "Submitted batch job 6725998\n",
      "    Logs: jobs/mlp_qian_sweep3-1_1680906954.err\n",
      "Submitted batch job 6725999\n",
      "    Logs: jobs/mlp_qian_sweep3-2_1680906954.err\n"
     ]
    }
   ],
   "source": [
    "resubmit_pending_agents(already_added=agents_added, sweep_ids=all_sweeps,\n",
    "                 n_agents=2, gpu=\"gypsum-titanx\")"
   ]
  },
  {
   "cell_type": "code",
   "execution_count": 348,
   "id": "5dd69cb0",
   "metadata": {},
   "outputs": [
    {
     "name": "stdout",
     "output_type": "stream",
     "text": [
      "PENDING sweeps: set()\n"
     ]
    }
   ],
   "source": [
    "resubmit_pending_agents(already_added=agents_added, sweep_ids=all_sweeps,\n",
    "                 n_agents=2, gpu=\"gypsum-titanx\")"
   ]
  },
  {
   "cell_type": "code",
   "execution_count": null,
   "id": "fd553d81",
   "metadata": {},
   "outputs": [],
   "source": []
  }
 ],
 "metadata": {
  "kernelspec": {
   "display_name": "Python 3 (ipykernel)",
   "language": "python",
   "name": "python3"
  },
  "language_info": {
   "codemirror_mode": {
    "name": "ipython",
    "version": 3
   },
   "file_extension": ".py",
   "mimetype": "text/x-python",
   "name": "python",
   "nbconvert_exporter": "python",
   "pygments_lexer": "ipython3",
   "version": "3.7.0"
  }
 },
 "nbformat": 4,
 "nbformat_minor": 5
}
