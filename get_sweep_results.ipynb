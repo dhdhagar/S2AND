{
 "cells": [
  {
   "cell_type": "code",
   "execution_count": 1,
   "id": "891d7f3a",
   "metadata": {},
   "outputs": [],
   "source": [
    "import wandb\n",
    "from collections import defaultdict\n",
    "from tqdm.notebook import tqdm\n",
    "import numpy as np\n",
    "import pandas as pd\n",
    "from IPython import embed"
   ]
  },
  {
   "cell_type": "code",
   "execution_count": 2,
   "id": "b74cbc7b",
   "metadata": {},
   "outputs": [],
   "source": [
    "api = wandb.Api()"
   ]
  },
  {
   "cell_type": "code",
   "execution_count": 3,
   "id": "f2a038bb",
   "metadata": {},
   "outputs": [],
   "source": [
    "# List of tags to identify the set of sweeps in this analysis\n",
    "\n",
    "TAGS = [\"feats8\"]"
   ]
  },
  {
   "cell_type": "code",
   "execution_count": 25,
   "id": "b7a89b7f",
   "metadata": {},
   "outputs": [],
   "source": [
    "runs = api.runs(\"dhdhagar/prob-ent-resolution\",\n",
    "                filters={\"tags\": {\"$in\": TAGS}, \n",
    "                         \"state\": {\"$eq\": \"finished\"},\n",
    "                         \"config.pairwise_mode\": {\"$eq\": False}\n",
    "                        },\n",
    "                order=\"-summary_metrics.best_dev_b3_f1\"\n",
    "               )\n",
    "runs_mlp = api.runs(\"dhdhagar/prob-ent-resolution\", \n",
    "                filters={\"tags\": {\"$in\": TAGS}, \n",
    "                         \"state\": {\"$eq\": \"finished\"},\n",
    "                         \"config.pairwise_mode\": {\"$eq\": True}\n",
    "                        },\n",
    "                order=\"-summary_metrics.best_dev_auroc\"\n",
    "               )"
   ]
  },
  {
   "cell_type": "code",
   "execution_count": 26,
   "id": "0949e4e7",
   "metadata": {},
   "outputs": [
    {
     "data": {
      "text/plain": [
       "5105"
      ]
     },
     "execution_count": 26,
     "metadata": {},
     "output_type": "execute_result"
    }
   ],
   "source": [
    "len(runs)"
   ]
  },
  {
   "cell_type": "code",
   "execution_count": 27,
   "id": "a34a471c",
   "metadata": {},
   "outputs": [
    {
     "data": {
      "text/plain": [
       "2162"
      ]
     },
     "execution_count": 27,
     "metadata": {},
     "output_type": "execute_result"
    }
   ],
   "source": [
    "len(runs_mlp)"
   ]
  },
  {
   "cell_type": "code",
   "execution_count": 7,
   "id": "b8906522",
   "metadata": {},
   "outputs": [],
   "source": [
    "methods = {'e2e', 'e2e-nosdp', 'frac', 'frac-nosdp', 'mlp'}\n",
    "def run_key(run):\n",
    "    dataset = run._attrs['config']['dataset']\n",
    "    dataset_seed = run._attrs['config']['dataset_random_seed']\n",
    "    method = set(run.tags).intersection(methods).pop()\n",
    "    key = f\"{method}_{dataset}_{dataset_seed}\"\n",
    "    return key"
   ]
  },
  {
   "cell_type": "code",
   "execution_count": null,
   "id": "52c03011",
   "metadata": {},
   "outputs": [],
   "source": []
  },
  {
   "cell_type": "code",
   "execution_count": 8,
   "id": "e9462ada",
   "metadata": {},
   "outputs": [
    {
     "data": {
      "application/vnd.jupyter.widget-view+json": {
       "model_id": "b0b6d6731acf486bbe79054a4348af91",
       "version_major": 2,
       "version_minor": 0
      },
      "text/plain": [
       "  0%|          | 0/5105 [00:00<?, ?it/s]"
      ]
     },
     "metadata": {},
     "output_type": "display_data"
    },
    {
     "data": {
      "application/vnd.jupyter.widget-view+json": {
       "model_id": "73d9fc8c39c54381811799eb3e41e30b",
       "version_major": 2,
       "version_minor": 0
      },
      "text/plain": [
       "  0%|          | 0/2162 [00:00<?, ?it/s]"
      ]
     },
     "metadata": {},
     "output_type": "display_data"
    }
   ],
   "source": [
    "best_runs = {}\n",
    "finished_runs = defaultdict(int)\n",
    "all_sweeps = {}\n",
    "for _runs in [runs, runs_mlp]:\n",
    "    for run in tqdm(_runs):\n",
    "        if len(dict(run.summary)) < 10:\n",
    "            continue\n",
    "        key = run_key(run)\n",
    "        finished_runs[key] += 1\n",
    "        if key in best_runs:\n",
    "            continue\n",
    "        best_runs[key] = run\n",
    "        all_sweeps[key] = run.sweepName"
   ]
  },
  {
   "cell_type": "code",
   "execution_count": 9,
   "id": "65745201",
   "metadata": {},
   "outputs": [
    {
     "name": "stdout",
     "output_type": "stream",
     "text": [
      "Best runs found for 75 sweeps\n",
      "Total finished runs across sweeps = 7264\n"
     ]
    }
   ],
   "source": [
    "print(f\"Best runs found for {len(best_runs)} sweeps\")\n",
    "print(f\"Total finished runs across sweeps = {sum(finished_runs.values())}\")"
   ]
  },
  {
   "cell_type": "markdown",
   "id": "f9a40ba4",
   "metadata": {},
   "source": [
    "# Analyze results"
   ]
  },
  {
   "cell_type": "code",
   "execution_count": 28,
   "id": "2f9a45f5",
   "metadata": {},
   "outputs": [],
   "source": [
    "res_map = {\n",
    "    'train_time': 'z_run_time',\n",
    "    'inf_time_hac': 'z_inf_time_hac',\n",
    "    'inf_time_cc': 'z_inf_time_cc',\n",
    "    'inf_time_cc-nosdp': 'z_inf_time_cc-nosdp',\n",
    "    'b3_f1_hac': 'best_test_b3_f1_hac',\n",
    "    'b3_f1_cc': 'best_test_b3_f1_cc',\n",
    "    'b3_f1_cc-fixed': 'best_test_b3_f1_cc-fixed',\n",
    "    'b3_f1_cc-nosdp': 'best_test_b3_f1_cc-nosdp',\n",
    "    'b3_f1_cc-nosdp-fixed': 'best_test_b3_f1_cc-nosdp-fixed',\n",
    "    'vmeasure_hac': 'best_test_vmeasure_hac',\n",
    "    'vmeasure_cc': 'best_test_vmeasure_cc',\n",
    "    'vmeasure_cc-fixed': 'best_test_vmeasure_cc-fixed',\n",
    "    'vmeasure_cc-nosdp': 'best_test_vmeasure_cc-nosdp',\n",
    "    'vmeasure_cc-nosdp-fixed': 'best_test_vmeasure_cc-nosdp-fixed'\n",
    "}"
   ]
  },
  {
   "cell_type": "code",
   "execution_count": 29,
   "id": "d15a6cce",
   "metadata": {},
   "outputs": [],
   "source": [
    "final = {}\n",
    "for run_id, run in best_runs.items():\n",
    "    _key = run_id[:-2]  # Remove the seed\n",
    "    if _key not in final:\n",
    "        final[_key] = defaultdict(list)\n",
    "    res = dict(run.summary)\n",
    "    for out_key, in_key in res_map.items():\n",
    "        final[_key][out_key].append(float(res[in_key]))\n",
    "means, stds, comb = {}, {}, {}\n",
    "for k in final:\n",
    "    if k is not means:\n",
    "        means[k] = {}\n",
    "        stds[k] = {}\n",
    "        comb[k] = {}\n",
    "    for _k in final[k]:\n",
    "        means[k][_k] = round(np.mean(final[k][_k])*(1 if 'time' in _k else 100), 2)\n",
    "        stds[k][_k] = round(np.std(final[k][_k])*(1 if 'time' in _k else 100), 2)\n",
    "        comb[k][_k] = f\"{means[k][_k]}±{stds[k][_k]}\""
   ]
  },
  {
   "cell_type": "code",
   "execution_count": 30,
   "id": "57c4039d",
   "metadata": {},
   "outputs": [],
   "source": [
    "def get_df_by_dataset(res, dataset, to_latex=False):\n",
    "    new_res = {}\n",
    "    for _r in res:\n",
    "        if dataset in _r:\n",
    "            new_res[_r.replace(f\"{dataset}_\", '').replace(f\"_{dataset}\", '')] = res[_r]\n",
    "    if to_latex:\n",
    "        print(pd.DataFrame(new_res).T.style.to_latex())\n",
    "    outdf = pd.DataFrame(new_res).T.sort_index()\n",
    "    \n",
    "    def highlight_max(s):\n",
    "        if s.dtype == object:\n",
    "            is_max = [False for _ in range(s.shape[0])]\n",
    "            if '±' in s[0]:\n",
    "                nums = np.array(list(map(lambda x: float(x.split('±')[0]), s)))\n",
    "                is_max = nums == nums.max()\n",
    "        else:\n",
    "            is_max = s == s.max()\n",
    "        return ['color: green' if cell else '' for cell in is_max]\n",
    "    \n",
    "    if outdf[outdf.keys()[0]].dtype == object:\n",
    "        return outdf.style.apply(highlight_max), outdf\n",
    "    return outdf.style.format('{:.2f}').apply(highlight_max), outdf"
   ]
  },
  {
   "cell_type": "code",
   "execution_count": 31,
   "id": "1f262752",
   "metadata": {},
   "outputs": [
    {
     "data": {
      "text/html": [
       "<style  type=\"text/css\" >\n",
       "#T_af95cab2_d64a_11ed_bd62_3cecef1a1156row0_col0,#T_af95cab2_d64a_11ed_bd62_3cecef1a1156row0_col2,#T_af95cab2_d64a_11ed_bd62_3cecef1a1156row1_col4,#T_af95cab2_d64a_11ed_bd62_3cecef1a1156row1_col6,#T_af95cab2_d64a_11ed_bd62_3cecef1a1156row1_col7,#T_af95cab2_d64a_11ed_bd62_3cecef1a1156row1_col8,#T_af95cab2_d64a_11ed_bd62_3cecef1a1156row1_col9,#T_af95cab2_d64a_11ed_bd62_3cecef1a1156row1_col12,#T_af95cab2_d64a_11ed_bd62_3cecef1a1156row1_col13,#T_af95cab2_d64a_11ed_bd62_3cecef1a1156row2_col3,#T_af95cab2_d64a_11ed_bd62_3cecef1a1156row2_col5,#T_af95cab2_d64a_11ed_bd62_3cecef1a1156row2_col10,#T_af95cab2_d64a_11ed_bd62_3cecef1a1156row2_col11,#T_af95cab2_d64a_11ed_bd62_3cecef1a1156row3_col1{\n",
       "            color:  green;\n",
       "        }</style><table id=\"T_af95cab2_d64a_11ed_bd62_3cecef1a1156\" ><thead>    <tr>        <th class=\"blank level0\" ></th>        <th class=\"col_heading level0 col0\" >train_time</th>        <th class=\"col_heading level0 col1\" >inf_time_hac</th>        <th class=\"col_heading level0 col2\" >inf_time_cc</th>        <th class=\"col_heading level0 col3\" >inf_time_cc-nosdp</th>        <th class=\"col_heading level0 col4\" >b3_f1_hac</th>        <th class=\"col_heading level0 col5\" >b3_f1_cc</th>        <th class=\"col_heading level0 col6\" >b3_f1_cc-fixed</th>        <th class=\"col_heading level0 col7\" >b3_f1_cc-nosdp</th>        <th class=\"col_heading level0 col8\" >b3_f1_cc-nosdp-fixed</th>        <th class=\"col_heading level0 col9\" >vmeasure_hac</th>        <th class=\"col_heading level0 col10\" >vmeasure_cc</th>        <th class=\"col_heading level0 col11\" >vmeasure_cc-fixed</th>        <th class=\"col_heading level0 col12\" >vmeasure_cc-nosdp</th>        <th class=\"col_heading level0 col13\" >vmeasure_cc-nosdp-fixed</th>    </tr></thead><tbody>\n",
       "                <tr>\n",
       "                        <th id=\"T_af95cab2_d64a_11ed_bd62_3cecef1a1156level0_row0\" class=\"row_heading level0 row0\" >e2e</th>\n",
       "                        <td id=\"T_af95cab2_d64a_11ed_bd62_3cecef1a1156row0_col0\" class=\"data row0 col0\" >1259.0±428.11</td>\n",
       "                        <td id=\"T_af95cab2_d64a_11ed_bd62_3cecef1a1156row0_col1\" class=\"data row0 col1\" >39.2±17.06</td>\n",
       "                        <td id=\"T_af95cab2_d64a_11ed_bd62_3cecef1a1156row0_col2\" class=\"data row0 col2\" >33.8±8.3</td>\n",
       "                        <td id=\"T_af95cab2_d64a_11ed_bd62_3cecef1a1156row0_col3\" class=\"data row0 col3\" >13.6±1.62</td>\n",
       "                        <td id=\"T_af95cab2_d64a_11ed_bd62_3cecef1a1156row0_col4\" class=\"data row0 col4\" >77.94±3.67</td>\n",
       "                        <td id=\"T_af95cab2_d64a_11ed_bd62_3cecef1a1156row0_col5\" class=\"data row0 col5\" >82.82±2.36</td>\n",
       "                        <td id=\"T_af95cab2_d64a_11ed_bd62_3cecef1a1156row0_col6\" class=\"data row0 col6\" >69.52±23.27</td>\n",
       "                        <td id=\"T_af95cab2_d64a_11ed_bd62_3cecef1a1156row0_col7\" class=\"data row0 col7\" >82.3±1.71</td>\n",
       "                        <td id=\"T_af95cab2_d64a_11ed_bd62_3cecef1a1156row0_col8\" class=\"data row0 col8\" >68.96±23.0</td>\n",
       "                        <td id=\"T_af95cab2_d64a_11ed_bd62_3cecef1a1156row0_col9\" class=\"data row0 col9\" >88.57±2.64</td>\n",
       "                        <td id=\"T_af95cab2_d64a_11ed_bd62_3cecef1a1156row0_col10\" class=\"data row0 col10\" >91.3±1.83</td>\n",
       "                        <td id=\"T_af95cab2_d64a_11ed_bd62_3cecef1a1156row0_col11\" class=\"data row0 col11\" >83.42±14.35</td>\n",
       "                        <td id=\"T_af95cab2_d64a_11ed_bd62_3cecef1a1156row0_col12\" class=\"data row0 col12\" >91.18±1.97</td>\n",
       "                        <td id=\"T_af95cab2_d64a_11ed_bd62_3cecef1a1156row0_col13\" class=\"data row0 col13\" >83.35±14.35</td>\n",
       "            </tr>\n",
       "            <tr>\n",
       "                        <th id=\"T_af95cab2_d64a_11ed_bd62_3cecef1a1156level0_row1\" class=\"row_heading level0 row1\" >e2e-nosdp</th>\n",
       "                        <td id=\"T_af95cab2_d64a_11ed_bd62_3cecef1a1156row1_col0\" class=\"data row1 col0\" >234.0±21.57</td>\n",
       "                        <td id=\"T_af95cab2_d64a_11ed_bd62_3cecef1a1156row1_col1\" class=\"data row1 col1\" >31.6±13.48</td>\n",
       "                        <td id=\"T_af95cab2_d64a_11ed_bd62_3cecef1a1156row1_col2\" class=\"data row1 col2\" >21.4±10.59</td>\n",
       "                        <td id=\"T_af95cab2_d64a_11ed_bd62_3cecef1a1156row1_col3\" class=\"data row1 col3\" >11.4±2.06</td>\n",
       "                        <td id=\"T_af95cab2_d64a_11ed_bd62_3cecef1a1156row1_col4\" class=\"data row1 col4\" >85.92±3.6</td>\n",
       "                        <td id=\"T_af95cab2_d64a_11ed_bd62_3cecef1a1156row1_col5\" class=\"data row1 col5\" >82.7±3.92</td>\n",
       "                        <td id=\"T_af95cab2_d64a_11ed_bd62_3cecef1a1156row1_col6\" class=\"data row1 col6\" >81.54±3.99</td>\n",
       "                        <td id=\"T_af95cab2_d64a_11ed_bd62_3cecef1a1156row1_col7\" class=\"data row1 col7\" >85.3±3.01</td>\n",
       "                        <td id=\"T_af95cab2_d64a_11ed_bd62_3cecef1a1156row1_col8\" class=\"data row1 col8\" >84.06±4.05</td>\n",
       "                        <td id=\"T_af95cab2_d64a_11ed_bd62_3cecef1a1156row1_col9\" class=\"data row1 col9\" >93.14±1.91</td>\n",
       "                        <td id=\"T_af95cab2_d64a_11ed_bd62_3cecef1a1156row1_col10\" class=\"data row1 col10\" >90.9±2.86</td>\n",
       "                        <td id=\"T_af95cab2_d64a_11ed_bd62_3cecef1a1156row1_col11\" class=\"data row1 col11\" >90.1±3.13</td>\n",
       "                        <td id=\"T_af95cab2_d64a_11ed_bd62_3cecef1a1156row1_col12\" class=\"data row1 col12\" >92.84±1.72</td>\n",
       "                        <td id=\"T_af95cab2_d64a_11ed_bd62_3cecef1a1156row1_col13\" class=\"data row1 col13\" >91.88±2.71</td>\n",
       "            </tr>\n",
       "            <tr>\n",
       "                        <th id=\"T_af95cab2_d64a_11ed_bd62_3cecef1a1156level0_row2\" class=\"row_heading level0 row2\" >frac</th>\n",
       "                        <td id=\"T_af95cab2_d64a_11ed_bd62_3cecef1a1156row2_col0\" class=\"data row2 col0\" >814.0±138.06</td>\n",
       "                        <td id=\"T_af95cab2_d64a_11ed_bd62_3cecef1a1156row2_col1\" class=\"data row2 col1\" >31.2±14.96</td>\n",
       "                        <td id=\"T_af95cab2_d64a_11ed_bd62_3cecef1a1156row2_col2\" class=\"data row2 col2\" >23.2±11.69</td>\n",
       "                        <td id=\"T_af95cab2_d64a_11ed_bd62_3cecef1a1156row2_col3\" class=\"data row2 col3\" >19.8±20.13</td>\n",
       "                        <td id=\"T_af95cab2_d64a_11ed_bd62_3cecef1a1156row2_col4\" class=\"data row2 col4\" >79.86±3.68</td>\n",
       "                        <td id=\"T_af95cab2_d64a_11ed_bd62_3cecef1a1156row2_col5\" class=\"data row2 col5\" >83.98±1.43</td>\n",
       "                        <td id=\"T_af95cab2_d64a_11ed_bd62_3cecef1a1156row2_col6\" class=\"data row2 col6\" >81.14±1.67</td>\n",
       "                        <td id=\"T_af95cab2_d64a_11ed_bd62_3cecef1a1156row2_col7\" class=\"data row2 col7\" >82.56±3.24</td>\n",
       "                        <td id=\"T_af95cab2_d64a_11ed_bd62_3cecef1a1156row2_col8\" class=\"data row2 col8\" >81.08±1.85</td>\n",
       "                        <td id=\"T_af95cab2_d64a_11ed_bd62_3cecef1a1156row2_col9\" class=\"data row2 col9\" >89.67±0.91</td>\n",
       "                        <td id=\"T_af95cab2_d64a_11ed_bd62_3cecef1a1156row2_col10\" class=\"data row2 col10\" >91.83±0.95</td>\n",
       "                        <td id=\"T_af95cab2_d64a_11ed_bd62_3cecef1a1156row2_col11\" class=\"data row2 col11\" >90.12±2.46</td>\n",
       "                        <td id=\"T_af95cab2_d64a_11ed_bd62_3cecef1a1156row2_col12\" class=\"data row2 col12\" >91.24±2.48</td>\n",
       "                        <td id=\"T_af95cab2_d64a_11ed_bd62_3cecef1a1156row2_col13\" class=\"data row2 col13\" >90.5±1.78</td>\n",
       "            </tr>\n",
       "            <tr>\n",
       "                        <th id=\"T_af95cab2_d64a_11ed_bd62_3cecef1a1156level0_row3\" class=\"row_heading level0 row3\" >frac-nosdp</th>\n",
       "                        <td id=\"T_af95cab2_d64a_11ed_bd62_3cecef1a1156row3_col0\" class=\"data row3 col0\" >317.6±108.19</td>\n",
       "                        <td id=\"T_af95cab2_d64a_11ed_bd62_3cecef1a1156row3_col1\" class=\"data row3 col1\" >62.4±44.7</td>\n",
       "                        <td id=\"T_af95cab2_d64a_11ed_bd62_3cecef1a1156row3_col2\" class=\"data row3 col2\" >29.0±7.92</td>\n",
       "                        <td id=\"T_af95cab2_d64a_11ed_bd62_3cecef1a1156row3_col3\" class=\"data row3 col3\" >19.0±6.69</td>\n",
       "                        <td id=\"T_af95cab2_d64a_11ed_bd62_3cecef1a1156row3_col4\" class=\"data row3 col4\" >62.78±9.03</td>\n",
       "                        <td id=\"T_af95cab2_d64a_11ed_bd62_3cecef1a1156row3_col5\" class=\"data row3 col5\" >77.82±2.81</td>\n",
       "                        <td id=\"T_af95cab2_d64a_11ed_bd62_3cecef1a1156row3_col6\" class=\"data row3 col6\" >60.82±20.39</td>\n",
       "                        <td id=\"T_af95cab2_d64a_11ed_bd62_3cecef1a1156row3_col7\" class=\"data row3 col7\" >79.18±3.04</td>\n",
       "                        <td id=\"T_af95cab2_d64a_11ed_bd62_3cecef1a1156row3_col8\" class=\"data row3 col8\" >60.54±20.27</td>\n",
       "                        <td id=\"T_af95cab2_d64a_11ed_bd62_3cecef1a1156row3_col9\" class=\"data row3 col9\" >80.16±5.63</td>\n",
       "                        <td id=\"T_af95cab2_d64a_11ed_bd62_3cecef1a1156row3_col10\" class=\"data row3 col10\" >88.21±1.85</td>\n",
       "                        <td id=\"T_af95cab2_d64a_11ed_bd62_3cecef1a1156row3_col11\" class=\"data row3 col11\" >75.97±16.18</td>\n",
       "                        <td id=\"T_af95cab2_d64a_11ed_bd62_3cecef1a1156row3_col12\" class=\"data row3 col12\" >89.41±2.02</td>\n",
       "                        <td id=\"T_af95cab2_d64a_11ed_bd62_3cecef1a1156row3_col13\" class=\"data row3 col13\" >75.72±16.02</td>\n",
       "            </tr>\n",
       "            <tr>\n",
       "                        <th id=\"T_af95cab2_d64a_11ed_bd62_3cecef1a1156level0_row4\" class=\"row_heading level0 row4\" >mlp</th>\n",
       "                        <td id=\"T_af95cab2_d64a_11ed_bd62_3cecef1a1156row4_col0\" class=\"data row4 col0\" >279.8±78.41</td>\n",
       "                        <td id=\"T_af95cab2_d64a_11ed_bd62_3cecef1a1156row4_col1\" class=\"data row4 col1\" >32.4±15.16</td>\n",
       "                        <td id=\"T_af95cab2_d64a_11ed_bd62_3cecef1a1156row4_col2\" class=\"data row4 col2\" >19.0±8.72</td>\n",
       "                        <td id=\"T_af95cab2_d64a_11ed_bd62_3cecef1a1156row4_col3\" class=\"data row4 col3\" >10.6±3.38</td>\n",
       "                        <td id=\"T_af95cab2_d64a_11ed_bd62_3cecef1a1156row4_col4\" class=\"data row4 col4\" >83.32±4.18</td>\n",
       "                        <td id=\"T_af95cab2_d64a_11ed_bd62_3cecef1a1156row4_col5\" class=\"data row4 col5\" >80.58±2.62</td>\n",
       "                        <td id=\"T_af95cab2_d64a_11ed_bd62_3cecef1a1156row4_col6\" class=\"data row4 col6\" >78.28±5.23</td>\n",
       "                        <td id=\"T_af95cab2_d64a_11ed_bd62_3cecef1a1156row4_col7\" class=\"data row4 col7\" >82.06±2.46</td>\n",
       "                        <td id=\"T_af95cab2_d64a_11ed_bd62_3cecef1a1156row4_col8\" class=\"data row4 col8\" >77.64±5.67</td>\n",
       "                        <td id=\"T_af95cab2_d64a_11ed_bd62_3cecef1a1156row4_col9\" class=\"data row4 col9\" >91.24±2.11</td>\n",
       "                        <td id=\"T_af95cab2_d64a_11ed_bd62_3cecef1a1156row4_col10\" class=\"data row4 col10\" >89.67±1.37</td>\n",
       "                        <td id=\"T_af95cab2_d64a_11ed_bd62_3cecef1a1156row4_col11\" class=\"data row4 col11\" >87.91±3.64</td>\n",
       "                        <td id=\"T_af95cab2_d64a_11ed_bd62_3cecef1a1156row4_col12\" class=\"data row4 col12\" >90.94±1.86</td>\n",
       "                        <td id=\"T_af95cab2_d64a_11ed_bd62_3cecef1a1156row4_col13\" class=\"data row4 col13\" >88.06±3.64</td>\n",
       "            </tr>\n",
       "    </tbody></table>"
      ],
      "text/plain": [
       "<pandas.io.formats.style.Styler at 0x7f44f84d7cc0>"
      ]
     },
     "execution_count": 31,
     "metadata": {},
     "output_type": "execute_result"
    }
   ],
   "source": [
    "outdf, _outdf = get_df_by_dataset(comb, 'pubmed')\n",
    "outdf"
   ]
  },
  {
   "cell_type": "code",
   "execution_count": 32,
   "id": "cfeade97",
   "metadata": {},
   "outputs": [
    {
     "data": {
      "text/html": [
       "<style  type=\"text/css\" >\n",
       "#T_afc4404a_d64a_11ed_bd62_3cecef1a1156row0_col0,#T_afc4404a_d64a_11ed_bd62_3cecef1a1156row0_col1,#T_afc4404a_d64a_11ed_bd62_3cecef1a1156row0_col2,#T_afc4404a_d64a_11ed_bd62_3cecef1a1156row0_col3,#T_afc4404a_d64a_11ed_bd62_3cecef1a1156row1_col5,#T_afc4404a_d64a_11ed_bd62_3cecef1a1156row1_col6,#T_afc4404a_d64a_11ed_bd62_3cecef1a1156row1_col7,#T_afc4404a_d64a_11ed_bd62_3cecef1a1156row1_col8,#T_afc4404a_d64a_11ed_bd62_3cecef1a1156row1_col10,#T_afc4404a_d64a_11ed_bd62_3cecef1a1156row1_col11,#T_afc4404a_d64a_11ed_bd62_3cecef1a1156row1_col12,#T_afc4404a_d64a_11ed_bd62_3cecef1a1156row1_col13,#T_afc4404a_d64a_11ed_bd62_3cecef1a1156row4_col4,#T_afc4404a_d64a_11ed_bd62_3cecef1a1156row4_col9{\n",
       "            color:  green;\n",
       "        }</style><table id=\"T_afc4404a_d64a_11ed_bd62_3cecef1a1156\" ><thead>    <tr>        <th class=\"blank level0\" ></th>        <th class=\"col_heading level0 col0\" >train_time</th>        <th class=\"col_heading level0 col1\" >inf_time_hac</th>        <th class=\"col_heading level0 col2\" >inf_time_cc</th>        <th class=\"col_heading level0 col3\" >inf_time_cc-nosdp</th>        <th class=\"col_heading level0 col4\" >b3_f1_hac</th>        <th class=\"col_heading level0 col5\" >b3_f1_cc</th>        <th class=\"col_heading level0 col6\" >b3_f1_cc-fixed</th>        <th class=\"col_heading level0 col7\" >b3_f1_cc-nosdp</th>        <th class=\"col_heading level0 col8\" >b3_f1_cc-nosdp-fixed</th>        <th class=\"col_heading level0 col9\" >vmeasure_hac</th>        <th class=\"col_heading level0 col10\" >vmeasure_cc</th>        <th class=\"col_heading level0 col11\" >vmeasure_cc-fixed</th>        <th class=\"col_heading level0 col12\" >vmeasure_cc-nosdp</th>        <th class=\"col_heading level0 col13\" >vmeasure_cc-nosdp-fixed</th>    </tr></thead><tbody>\n",
       "                <tr>\n",
       "                        <th id=\"T_afc4404a_d64a_11ed_bd62_3cecef1a1156level0_row0\" class=\"row_heading level0 row0\" >e2e</th>\n",
       "                        <td id=\"T_afc4404a_d64a_11ed_bd62_3cecef1a1156row0_col0\" class=\"data row0 col0\" >1936.8±1327.21</td>\n",
       "                        <td id=\"T_afc4404a_d64a_11ed_bd62_3cecef1a1156row0_col1\" class=\"data row0 col1\" >146.4±157.89</td>\n",
       "                        <td id=\"T_afc4404a_d64a_11ed_bd62_3cecef1a1156row0_col2\" class=\"data row0 col2\" >32.2±23.46</td>\n",
       "                        <td id=\"T_afc4404a_d64a_11ed_bd62_3cecef1a1156row0_col3\" class=\"data row0 col3\" >24.0±16.41</td>\n",
       "                        <td id=\"T_afc4404a_d64a_11ed_bd62_3cecef1a1156row0_col4\" class=\"data row0 col4\" >69.58±6.43</td>\n",
       "                        <td id=\"T_afc4404a_d64a_11ed_bd62_3cecef1a1156row0_col5\" class=\"data row0 col5\" >69.2±6.61</td>\n",
       "                        <td id=\"T_afc4404a_d64a_11ed_bd62_3cecef1a1156row0_col6\" class=\"data row0 col6\" >66.84±7.47</td>\n",
       "                        <td id=\"T_afc4404a_d64a_11ed_bd62_3cecef1a1156row0_col7\" class=\"data row0 col7\" >69.76±6.96</td>\n",
       "                        <td id=\"T_afc4404a_d64a_11ed_bd62_3cecef1a1156row0_col8\" class=\"data row0 col8\" >66.98±7.56</td>\n",
       "                        <td id=\"T_afc4404a_d64a_11ed_bd62_3cecef1a1156row0_col9\" class=\"data row0 col9\" >84.32±4.32</td>\n",
       "                        <td id=\"T_afc4404a_d64a_11ed_bd62_3cecef1a1156row0_col10\" class=\"data row0 col10\" >84.2±4.39</td>\n",
       "                        <td id=\"T_afc4404a_d64a_11ed_bd62_3cecef1a1156row0_col11\" class=\"data row0 col11\" >82.8±5.17</td>\n",
       "                        <td id=\"T_afc4404a_d64a_11ed_bd62_3cecef1a1156row0_col12\" class=\"data row0 col12\" >84.55±4.53</td>\n",
       "                        <td id=\"T_afc4404a_d64a_11ed_bd62_3cecef1a1156row0_col13\" class=\"data row0 col13\" >82.88±5.2</td>\n",
       "            </tr>\n",
       "            <tr>\n",
       "                        <th id=\"T_afc4404a_d64a_11ed_bd62_3cecef1a1156level0_row1\" class=\"row_heading level0 row1\" >e2e-nosdp</th>\n",
       "                        <td id=\"T_afc4404a_d64a_11ed_bd62_3cecef1a1156row1_col0\" class=\"data row1 col0\" >256.4±28.32</td>\n",
       "                        <td id=\"T_afc4404a_d64a_11ed_bd62_3cecef1a1156row1_col1\" class=\"data row1 col1\" >57.0±22.42</td>\n",
       "                        <td id=\"T_afc4404a_d64a_11ed_bd62_3cecef1a1156row1_col2\" class=\"data row1 col2\" >24.2±13.99</td>\n",
       "                        <td id=\"T_afc4404a_d64a_11ed_bd62_3cecef1a1156row1_col3\" class=\"data row1 col3\" >11.2±1.47</td>\n",
       "                        <td id=\"T_afc4404a_d64a_11ed_bd62_3cecef1a1156row1_col4\" class=\"data row1 col4\" >72.88±5.15</td>\n",
       "                        <td id=\"T_afc4404a_d64a_11ed_bd62_3cecef1a1156row1_col5\" class=\"data row1 col5\" >73.08±3.9</td>\n",
       "                        <td id=\"T_afc4404a_d64a_11ed_bd62_3cecef1a1156row1_col6\" class=\"data row1 col6\" >68.24±8.07</td>\n",
       "                        <td id=\"T_afc4404a_d64a_11ed_bd62_3cecef1a1156row1_col7\" class=\"data row1 col7\" >73.62±5.58</td>\n",
       "                        <td id=\"T_afc4404a_d64a_11ed_bd62_3cecef1a1156row1_col8\" class=\"data row1 col8\" >68.94±8.0</td>\n",
       "                        <td id=\"T_afc4404a_d64a_11ed_bd62_3cecef1a1156row1_col9\" class=\"data row1 col9\" >85.69±4.17</td>\n",
       "                        <td id=\"T_afc4404a_d64a_11ed_bd62_3cecef1a1156row1_col10\" class=\"data row1 col10\" >86.02±3.35</td>\n",
       "                        <td id=\"T_afc4404a_d64a_11ed_bd62_3cecef1a1156row1_col11\" class=\"data row1 col11\" >84.7±4.13</td>\n",
       "                        <td id=\"T_afc4404a_d64a_11ed_bd62_3cecef1a1156row1_col12\" class=\"data row1 col12\" >86.11±4.39</td>\n",
       "                        <td id=\"T_afc4404a_d64a_11ed_bd62_3cecef1a1156row1_col13\" class=\"data row1 col13\" >85.17±3.95</td>\n",
       "            </tr>\n",
       "            <tr>\n",
       "                        <th id=\"T_afc4404a_d64a_11ed_bd62_3cecef1a1156level0_row2\" class=\"row_heading level0 row2\" >frac</th>\n",
       "                        <td id=\"T_afc4404a_d64a_11ed_bd62_3cecef1a1156row2_col0\" class=\"data row2 col0\" >1600.0±671.38</td>\n",
       "                        <td id=\"T_afc4404a_d64a_11ed_bd62_3cecef1a1156row2_col1\" class=\"data row2 col1\" >123.2±143.4</td>\n",
       "                        <td id=\"T_afc4404a_d64a_11ed_bd62_3cecef1a1156row2_col2\" class=\"data row2 col2\" >21.0±6.07</td>\n",
       "                        <td id=\"T_afc4404a_d64a_11ed_bd62_3cecef1a1156row2_col3\" class=\"data row2 col3\" >11.6±3.93</td>\n",
       "                        <td id=\"T_afc4404a_d64a_11ed_bd62_3cecef1a1156row2_col4\" class=\"data row2 col4\" >70.14±6.22</td>\n",
       "                        <td id=\"T_afc4404a_d64a_11ed_bd62_3cecef1a1156row2_col5\" class=\"data row2 col5\" >70.3±6.58</td>\n",
       "                        <td id=\"T_afc4404a_d64a_11ed_bd62_3cecef1a1156row2_col6\" class=\"data row2 col6\" >62.96±8.45</td>\n",
       "                        <td id=\"T_afc4404a_d64a_11ed_bd62_3cecef1a1156row2_col7\" class=\"data row2 col7\" >70.92±7.05</td>\n",
       "                        <td id=\"T_afc4404a_d64a_11ed_bd62_3cecef1a1156row2_col8\" class=\"data row2 col8\" >62.8±9.59</td>\n",
       "                        <td id=\"T_afc4404a_d64a_11ed_bd62_3cecef1a1156row2_col9\" class=\"data row2 col9\" >84.31±3.99</td>\n",
       "                        <td id=\"T_afc4404a_d64a_11ed_bd62_3cecef1a1156row2_col10\" class=\"data row2 col10\" >84.32±4.05</td>\n",
       "                        <td id=\"T_afc4404a_d64a_11ed_bd62_3cecef1a1156row2_col11\" class=\"data row2 col11\" >81.71±4.74</td>\n",
       "                        <td id=\"T_afc4404a_d64a_11ed_bd62_3cecef1a1156row2_col12\" class=\"data row2 col12\" >84.78±4.34</td>\n",
       "                        <td id=\"T_afc4404a_d64a_11ed_bd62_3cecef1a1156row2_col13\" class=\"data row2 col13\" >81.97±5.08</td>\n",
       "            </tr>\n",
       "            <tr>\n",
       "                        <th id=\"T_afc4404a_d64a_11ed_bd62_3cecef1a1156level0_row3\" class=\"row_heading level0 row3\" >frac-nosdp</th>\n",
       "                        <td id=\"T_afc4404a_d64a_11ed_bd62_3cecef1a1156row3_col0\" class=\"data row3 col0\" >290.8±110.22</td>\n",
       "                        <td id=\"T_afc4404a_d64a_11ed_bd62_3cecef1a1156row3_col1\" class=\"data row3 col1\" >79.2±18.86</td>\n",
       "                        <td id=\"T_afc4404a_d64a_11ed_bd62_3cecef1a1156row3_col2\" class=\"data row3 col2\" >26.0±13.61</td>\n",
       "                        <td id=\"T_afc4404a_d64a_11ed_bd62_3cecef1a1156row3_col3\" class=\"data row3 col3\" >13.8±7.6</td>\n",
       "                        <td id=\"T_afc4404a_d64a_11ed_bd62_3cecef1a1156row3_col4\" class=\"data row3 col4\" >69.28±6.02</td>\n",
       "                        <td id=\"T_afc4404a_d64a_11ed_bd62_3cecef1a1156row3_col5\" class=\"data row3 col5\" >71.82±5.35</td>\n",
       "                        <td id=\"T_afc4404a_d64a_11ed_bd62_3cecef1a1156row3_col6\" class=\"data row3 col6\" >57.24±7.07</td>\n",
       "                        <td id=\"T_afc4404a_d64a_11ed_bd62_3cecef1a1156row3_col7\" class=\"data row3 col7\" >71.94±5.47</td>\n",
       "                        <td id=\"T_afc4404a_d64a_11ed_bd62_3cecef1a1156row3_col8\" class=\"data row3 col8\" >57.02±7.83</td>\n",
       "                        <td id=\"T_afc4404a_d64a_11ed_bd62_3cecef1a1156row3_col9\" class=\"data row3 col9\" >83.86±4.1</td>\n",
       "                        <td id=\"T_afc4404a_d64a_11ed_bd62_3cecef1a1156row3_col10\" class=\"data row3 col10\" >85.12±4.23</td>\n",
       "                        <td id=\"T_afc4404a_d64a_11ed_bd62_3cecef1a1156row3_col11\" class=\"data row3 col11\" >80.56±4.21</td>\n",
       "                        <td id=\"T_afc4404a_d64a_11ed_bd62_3cecef1a1156row3_col12\" class=\"data row3 col12\" >85.37±4.05</td>\n",
       "                        <td id=\"T_afc4404a_d64a_11ed_bd62_3cecef1a1156row3_col13\" class=\"data row3 col13\" >81.18±3.74</td>\n",
       "            </tr>\n",
       "            <tr>\n",
       "                        <th id=\"T_afc4404a_d64a_11ed_bd62_3cecef1a1156level0_row4\" class=\"row_heading level0 row4\" >mlp</th>\n",
       "                        <td id=\"T_afc4404a_d64a_11ed_bd62_3cecef1a1156row4_col0\" class=\"data row4 col0\" >275.4±97.82</td>\n",
       "                        <td id=\"T_afc4404a_d64a_11ed_bd62_3cecef1a1156row4_col1\" class=\"data row4 col1\" >53.8±26.48</td>\n",
       "                        <td id=\"T_afc4404a_d64a_11ed_bd62_3cecef1a1156row4_col2\" class=\"data row4 col2\" >20.8±11.5</td>\n",
       "                        <td id=\"T_afc4404a_d64a_11ed_bd62_3cecef1a1156row4_col3\" class=\"data row4 col3\" >12.8±7.68</td>\n",
       "                        <td id=\"T_afc4404a_d64a_11ed_bd62_3cecef1a1156row4_col4\" class=\"data row4 col4\" >73.28±5.4</td>\n",
       "                        <td id=\"T_afc4404a_d64a_11ed_bd62_3cecef1a1156row4_col5\" class=\"data row4 col5\" >52.42±13.75</td>\n",
       "                        <td id=\"T_afc4404a_d64a_11ed_bd62_3cecef1a1156row4_col6\" class=\"data row4 col6\" >45.66±17.08</td>\n",
       "                        <td id=\"T_afc4404a_d64a_11ed_bd62_3cecef1a1156row4_col7\" class=\"data row4 col7\" >52.46±13.98</td>\n",
       "                        <td id=\"T_afc4404a_d64a_11ed_bd62_3cecef1a1156row4_col8\" class=\"data row4 col8\" >45.84±17.16</td>\n",
       "                        <td id=\"T_afc4404a_d64a_11ed_bd62_3cecef1a1156row4_col9\" class=\"data row4 col9\" >86.03±3.87</td>\n",
       "                        <td id=\"T_afc4404a_d64a_11ed_bd62_3cecef1a1156row4_col10\" class=\"data row4 col10\" >80.84±4.66</td>\n",
       "                        <td id=\"T_afc4404a_d64a_11ed_bd62_3cecef1a1156row4_col11\" class=\"data row4 col11\" >79.16±5.29</td>\n",
       "                        <td id=\"T_afc4404a_d64a_11ed_bd62_3cecef1a1156row4_col12\" class=\"data row4 col12\" >81.19±4.48</td>\n",
       "                        <td id=\"T_afc4404a_d64a_11ed_bd62_3cecef1a1156row4_col13\" class=\"data row4 col13\" >79.34±5.26</td>\n",
       "            </tr>\n",
       "    </tbody></table>"
      ],
      "text/plain": [
       "<pandas.io.formats.style.Styler at 0x7f44c8bb6e48>"
      ]
     },
     "execution_count": 32,
     "metadata": {},
     "output_type": "execute_result"
    }
   ],
   "source": [
    "outdf, _outdf = get_df_by_dataset(comb, 'qian')\n",
    "outdf"
   ]
  },
  {
   "cell_type": "code",
   "execution_count": 33,
   "id": "e9c634de",
   "metadata": {},
   "outputs": [
    {
     "data": {
      "text/html": [
       "<style  type=\"text/css\" >\n",
       "#T_b083f264_d64a_11ed_bd62_3cecef1a1156row0_col0,#T_b083f264_d64a_11ed_bd62_3cecef1a1156row0_col2,#T_b083f264_d64a_11ed_bd62_3cecef1a1156row1_col5,#T_b083f264_d64a_11ed_bd62_3cecef1a1156row1_col6,#T_b083f264_d64a_11ed_bd62_3cecef1a1156row1_col7,#T_b083f264_d64a_11ed_bd62_3cecef1a1156row1_col8,#T_b083f264_d64a_11ed_bd62_3cecef1a1156row1_col10,#T_b083f264_d64a_11ed_bd62_3cecef1a1156row1_col11,#T_b083f264_d64a_11ed_bd62_3cecef1a1156row1_col12,#T_b083f264_d64a_11ed_bd62_3cecef1a1156row1_col13,#T_b083f264_d64a_11ed_bd62_3cecef1a1156row3_col1,#T_b083f264_d64a_11ed_bd62_3cecef1a1156row3_col3,#T_b083f264_d64a_11ed_bd62_3cecef1a1156row4_col4,#T_b083f264_d64a_11ed_bd62_3cecef1a1156row4_col9{\n",
       "            color:  green;\n",
       "        }</style><table id=\"T_b083f264_d64a_11ed_bd62_3cecef1a1156\" ><thead>    <tr>        <th class=\"blank level0\" ></th>        <th class=\"col_heading level0 col0\" >train_time</th>        <th class=\"col_heading level0 col1\" >inf_time_hac</th>        <th class=\"col_heading level0 col2\" >inf_time_cc</th>        <th class=\"col_heading level0 col3\" >inf_time_cc-nosdp</th>        <th class=\"col_heading level0 col4\" >b3_f1_hac</th>        <th class=\"col_heading level0 col5\" >b3_f1_cc</th>        <th class=\"col_heading level0 col6\" >b3_f1_cc-fixed</th>        <th class=\"col_heading level0 col7\" >b3_f1_cc-nosdp</th>        <th class=\"col_heading level0 col8\" >b3_f1_cc-nosdp-fixed</th>        <th class=\"col_heading level0 col9\" >vmeasure_hac</th>        <th class=\"col_heading level0 col10\" >vmeasure_cc</th>        <th class=\"col_heading level0 col11\" >vmeasure_cc-fixed</th>        <th class=\"col_heading level0 col12\" >vmeasure_cc-nosdp</th>        <th class=\"col_heading level0 col13\" >vmeasure_cc-nosdp-fixed</th>    </tr></thead><tbody>\n",
       "                <tr>\n",
       "                        <th id=\"T_b083f264_d64a_11ed_bd62_3cecef1a1156level0_row0\" class=\"row_heading level0 row0\" >e2e</th>\n",
       "                        <td id=\"T_b083f264_d64a_11ed_bd62_3cecef1a1156row0_col0\" class=\"data row0 col0\" >1738.4±627.6</td>\n",
       "                        <td id=\"T_b083f264_d64a_11ed_bd62_3cecef1a1156row0_col1\" class=\"data row0 col1\" >129.4±128.63</td>\n",
       "                        <td id=\"T_b083f264_d64a_11ed_bd62_3cecef1a1156row0_col2\" class=\"data row0 col2\" >76.2±71.62</td>\n",
       "                        <td id=\"T_b083f264_d64a_11ed_bd62_3cecef1a1156row0_col3\" class=\"data row0 col3\" >12.0±2.19</td>\n",
       "                        <td id=\"T_b083f264_d64a_11ed_bd62_3cecef1a1156row0_col4\" class=\"data row0 col4\" >66.5±10.78</td>\n",
       "                        <td id=\"T_b083f264_d64a_11ed_bd62_3cecef1a1156row0_col5\" class=\"data row0 col5\" >59.76±10.06</td>\n",
       "                        <td id=\"T_b083f264_d64a_11ed_bd62_3cecef1a1156row0_col6\" class=\"data row0 col6\" >55.34±9.67</td>\n",
       "                        <td id=\"T_b083f264_d64a_11ed_bd62_3cecef1a1156row0_col7\" class=\"data row0 col7\" >60.26±10.61</td>\n",
       "                        <td id=\"T_b083f264_d64a_11ed_bd62_3cecef1a1156row0_col8\" class=\"data row0 col8\" >54.66±10.12</td>\n",
       "                        <td id=\"T_b083f264_d64a_11ed_bd62_3cecef1a1156row0_col9\" class=\"data row0 col9\" >78.33±7.29</td>\n",
       "                        <td id=\"T_b083f264_d64a_11ed_bd62_3cecef1a1156row0_col10\" class=\"data row0 col10\" >77.03±7.12</td>\n",
       "                        <td id=\"T_b083f264_d64a_11ed_bd62_3cecef1a1156row0_col11\" class=\"data row0 col11\" >75.35±7.34</td>\n",
       "                        <td id=\"T_b083f264_d64a_11ed_bd62_3cecef1a1156row0_col12\" class=\"data row0 col12\" >77.3±7.17</td>\n",
       "                        <td id=\"T_b083f264_d64a_11ed_bd62_3cecef1a1156row0_col13\" class=\"data row0 col13\" >75.37±7.23</td>\n",
       "            </tr>\n",
       "            <tr>\n",
       "                        <th id=\"T_b083f264_d64a_11ed_bd62_3cecef1a1156level0_row1\" class=\"row_heading level0 row1\" >e2e-nosdp</th>\n",
       "                        <td id=\"T_b083f264_d64a_11ed_bd62_3cecef1a1156row1_col0\" class=\"data row1 col0\" >143.2±13.41</td>\n",
       "                        <td id=\"T_b083f264_d64a_11ed_bd62_3cecef1a1156row1_col1\" class=\"data row1 col1\" >73.4±23.47</td>\n",
       "                        <td id=\"T_b083f264_d64a_11ed_bd62_3cecef1a1156row1_col2\" class=\"data row1 col2\" >69.8±67.15</td>\n",
       "                        <td id=\"T_b083f264_d64a_11ed_bd62_3cecef1a1156row1_col3\" class=\"data row1 col3\" >13.6±2.15</td>\n",
       "                        <td id=\"T_b083f264_d64a_11ed_bd62_3cecef1a1156row1_col4\" class=\"data row1 col4\" >67.34±11.12</td>\n",
       "                        <td id=\"T_b083f264_d64a_11ed_bd62_3cecef1a1156row1_col5\" class=\"data row1 col5\" >65.36±9.74</td>\n",
       "                        <td id=\"T_b083f264_d64a_11ed_bd62_3cecef1a1156row1_col6\" class=\"data row1 col6\" >63.74±8.72</td>\n",
       "                        <td id=\"T_b083f264_d64a_11ed_bd62_3cecef1a1156row1_col7\" class=\"data row1 col7\" >66.64±10.6</td>\n",
       "                        <td id=\"T_b083f264_d64a_11ed_bd62_3cecef1a1156row1_col8\" class=\"data row1 col8\" >63.36±8.6</td>\n",
       "                        <td id=\"T_b083f264_d64a_11ed_bd62_3cecef1a1156row1_col9\" class=\"data row1 col9\" >78.91±7.6</td>\n",
       "                        <td id=\"T_b083f264_d64a_11ed_bd62_3cecef1a1156row1_col10\" class=\"data row1 col10\" >78.09±7.11</td>\n",
       "                        <td id=\"T_b083f264_d64a_11ed_bd62_3cecef1a1156row1_col11\" class=\"data row1 col11\" >77.64±6.9</td>\n",
       "                        <td id=\"T_b083f264_d64a_11ed_bd62_3cecef1a1156row1_col12\" class=\"data row1 col12\" >78.76±7.36</td>\n",
       "                        <td id=\"T_b083f264_d64a_11ed_bd62_3cecef1a1156row1_col13\" class=\"data row1 col13\" >77.83±7.16</td>\n",
       "            </tr>\n",
       "            <tr>\n",
       "                        <th id=\"T_b083f264_d64a_11ed_bd62_3cecef1a1156level0_row2\" class=\"row_heading level0 row2\" >frac</th>\n",
       "                        <td id=\"T_b083f264_d64a_11ed_bd62_3cecef1a1156row2_col0\" class=\"data row2 col0\" >1208.0±892.75</td>\n",
       "                        <td id=\"T_b083f264_d64a_11ed_bd62_3cecef1a1156row2_col1\" class=\"data row2 col1\" >123.8±54.03</td>\n",
       "                        <td id=\"T_b083f264_d64a_11ed_bd62_3cecef1a1156row2_col2\" class=\"data row2 col2\" >35.8±23.79</td>\n",
       "                        <td id=\"T_b083f264_d64a_11ed_bd62_3cecef1a1156row2_col3\" class=\"data row2 col3\" >11.2±2.56</td>\n",
       "                        <td id=\"T_b083f264_d64a_11ed_bd62_3cecef1a1156row2_col4\" class=\"data row2 col4\" >58.82±13.93</td>\n",
       "                        <td id=\"T_b083f264_d64a_11ed_bd62_3cecef1a1156row2_col5\" class=\"data row2 col5\" >57.88±12.69</td>\n",
       "                        <td id=\"T_b083f264_d64a_11ed_bd62_3cecef1a1156row2_col6\" class=\"data row2 col6\" >58.36±11.54</td>\n",
       "                        <td id=\"T_b083f264_d64a_11ed_bd62_3cecef1a1156row2_col7\" class=\"data row2 col7\" >58.02±12.91</td>\n",
       "                        <td id=\"T_b083f264_d64a_11ed_bd62_3cecef1a1156row2_col8\" class=\"data row2 col8\" >57.78±11.75</td>\n",
       "                        <td id=\"T_b083f264_d64a_11ed_bd62_3cecef1a1156row2_col9\" class=\"data row2 col9\" >76.36±5.15</td>\n",
       "                        <td id=\"T_b083f264_d64a_11ed_bd62_3cecef1a1156row2_col10\" class=\"data row2 col10\" >76.02±4.7</td>\n",
       "                        <td id=\"T_b083f264_d64a_11ed_bd62_3cecef1a1156row2_col11\" class=\"data row2 col11\" >73.47±6.24</td>\n",
       "                        <td id=\"T_b083f264_d64a_11ed_bd62_3cecef1a1156row2_col12\" class=\"data row2 col12\" >76.02±4.76</td>\n",
       "                        <td id=\"T_b083f264_d64a_11ed_bd62_3cecef1a1156row2_col13\" class=\"data row2 col13\" >73.49±6.27</td>\n",
       "            </tr>\n",
       "            <tr>\n",
       "                        <th id=\"T_b083f264_d64a_11ed_bd62_3cecef1a1156level0_row3\" class=\"row_heading level0 row3\" >frac-nosdp</th>\n",
       "                        <td id=\"T_b083f264_d64a_11ed_bd62_3cecef1a1156row3_col0\" class=\"data row3 col0\" >138.4±17.32</td>\n",
       "                        <td id=\"T_b083f264_d64a_11ed_bd62_3cecef1a1156row3_col1\" class=\"data row3 col1\" >201.2±277.46</td>\n",
       "                        <td id=\"T_b083f264_d64a_11ed_bd62_3cecef1a1156row3_col2\" class=\"data row3 col2\" >67.4±75.15</td>\n",
       "                        <td id=\"T_b083f264_d64a_11ed_bd62_3cecef1a1156row3_col3\" class=\"data row3 col3\" >16.8±3.54</td>\n",
       "                        <td id=\"T_b083f264_d64a_11ed_bd62_3cecef1a1156row3_col4\" class=\"data row3 col4\" >64.68±11.87</td>\n",
       "                        <td id=\"T_b083f264_d64a_11ed_bd62_3cecef1a1156row3_col5\" class=\"data row3 col5\" >59.86±11.57</td>\n",
       "                        <td id=\"T_b083f264_d64a_11ed_bd62_3cecef1a1156row3_col6\" class=\"data row3 col6\" >51.68±6.78</td>\n",
       "                        <td id=\"T_b083f264_d64a_11ed_bd62_3cecef1a1156row3_col7\" class=\"data row3 col7\" >60.5±12.08</td>\n",
       "                        <td id=\"T_b083f264_d64a_11ed_bd62_3cecef1a1156row3_col8\" class=\"data row3 col8\" >50.74±6.83</td>\n",
       "                        <td id=\"T_b083f264_d64a_11ed_bd62_3cecef1a1156row3_col9\" class=\"data row3 col9\" >77.77±6.91</td>\n",
       "                        <td id=\"T_b083f264_d64a_11ed_bd62_3cecef1a1156row3_col10\" class=\"data row3 col10\" >77.85±5.42</td>\n",
       "                        <td id=\"T_b083f264_d64a_11ed_bd62_3cecef1a1156row3_col11\" class=\"data row3 col11\" >75.19±4.62</td>\n",
       "                        <td id=\"T_b083f264_d64a_11ed_bd62_3cecef1a1156row3_col12\" class=\"data row3 col12\" >78.25±5.64</td>\n",
       "                        <td id=\"T_b083f264_d64a_11ed_bd62_3cecef1a1156row3_col13\" class=\"data row3 col13\" >74.86±4.81</td>\n",
       "            </tr>\n",
       "            <tr>\n",
       "                        <th id=\"T_b083f264_d64a_11ed_bd62_3cecef1a1156level0_row4\" class=\"row_heading level0 row4\" >mlp</th>\n",
       "                        <td id=\"T_b083f264_d64a_11ed_bd62_3cecef1a1156row4_col0\" class=\"data row4 col0\" >310.2±18.89</td>\n",
       "                        <td id=\"T_b083f264_d64a_11ed_bd62_3cecef1a1156row4_col1\" class=\"data row4 col1\" >67.0±23.35</td>\n",
       "                        <td id=\"T_b083f264_d64a_11ed_bd62_3cecef1a1156row4_col2\" class=\"data row4 col2\" >53.4±44.56</td>\n",
       "                        <td id=\"T_b083f264_d64a_11ed_bd62_3cecef1a1156row4_col3\" class=\"data row4 col3\" >11.4±1.02</td>\n",
       "                        <td id=\"T_b083f264_d64a_11ed_bd62_3cecef1a1156row4_col4\" class=\"data row4 col4\" >67.84±9.65</td>\n",
       "                        <td id=\"T_b083f264_d64a_11ed_bd62_3cecef1a1156row4_col5\" class=\"data row4 col5\" >59.54±8.29</td>\n",
       "                        <td id=\"T_b083f264_d64a_11ed_bd62_3cecef1a1156row4_col6\" class=\"data row4 col6\" >58.4±9.72</td>\n",
       "                        <td id=\"T_b083f264_d64a_11ed_bd62_3cecef1a1156row4_col7\" class=\"data row4 col7\" >60.04±8.14</td>\n",
       "                        <td id=\"T_b083f264_d64a_11ed_bd62_3cecef1a1156row4_col8\" class=\"data row4 col8\" >57.88±9.5</td>\n",
       "                        <td id=\"T_b083f264_d64a_11ed_bd62_3cecef1a1156row4_col9\" class=\"data row4 col9\" >80.52±5.95</td>\n",
       "                        <td id=\"T_b083f264_d64a_11ed_bd62_3cecef1a1156row4_col10\" class=\"data row4 col10\" >77.52±5.79</td>\n",
       "                        <td id=\"T_b083f264_d64a_11ed_bd62_3cecef1a1156row4_col11\" class=\"data row4 col11\" >76.06±4.76</td>\n",
       "                        <td id=\"T_b083f264_d64a_11ed_bd62_3cecef1a1156row4_col12\" class=\"data row4 col12\" >78.07±5.71</td>\n",
       "                        <td id=\"T_b083f264_d64a_11ed_bd62_3cecef1a1156row4_col13\" class=\"data row4 col13\" >76.01±4.9</td>\n",
       "            </tr>\n",
       "    </tbody></table>"
      ],
      "text/plain": [
       "<pandas.io.formats.style.Styler at 0x7f44c8c08ac8>"
      ]
     },
     "execution_count": 33,
     "metadata": {},
     "output_type": "execute_result"
    }
   ],
   "source": [
    "outdf, _outdf = get_df_by_dataset(comb, 'arnetminer')\n",
    "outdf"
   ]
  },
  {
   "cell_type": "markdown",
   "id": "d41a4c59",
   "metadata": {},
   "source": [
    "# Manage sweeps"
   ]
  },
  {
   "cell_type": "code",
   "execution_count": 10,
   "id": "2e0c06b7",
   "metadata": {},
   "outputs": [],
   "source": [
    "SWEEP_PREFIX=\"feats8\"\n",
    "SWEEP_FLAGS = \"--keep_feat_idxs=0 --keep_feat_idxs=1 --keep_feat_idxs=2 \\\n",
    "    --keep_feat_idxs=3 --keep_feat_idxs=4 --keep_feat_idxs=5 \\\n",
    "    --keep_feat_idxs=14 --keep_feat_idxs=15\""
   ]
  },
  {
   "cell_type": "code",
   "execution_count": 11,
   "id": "5f563545",
   "metadata": {},
   "outputs": [],
   "source": [
    "# Add agents to sweeps with fewer completed runs\n",
    "\n",
    "def add_agents(max_run_count_filter, already_added, sweep_finished_count, sweep_ids, n_agents=2, gpu=\"gypsum-1080ti\"):\n",
    "    for k, v in sweep_finished_count.items():\n",
    "        if k in already_added:\n",
    "            continue\n",
    "        if v < max_run_count_filter:\n",
    "            model, dataset, seed = k.split('_')\n",
    "            sweep_id = sweep_ids[k]\n",
    "            n_agents = n_agents\n",
    "            gpu_name = gpu\n",
    "            print(f'./add_agent.sh {dataset} {seed} {model} dhdhagar/prob-ent-resolution/{sweep_id} {n_agents} {gpu_name} \"{SWEEP_FLAGS}\" {SWEEP_PREFIX}')\n",
    "            !./add_agent.sh $dataset $seed $model dhdhagar/prob-ent-resolution/$sweep_id $n_agents $gpu_name \"$SWEEP_FLAGS\" $SWEEP_PREFIX\n",
    "            already_added.add(k)"
   ]
  },
  {
   "cell_type": "code",
   "execution_count": 12,
   "id": "9b83cd7b",
   "metadata": {},
   "outputs": [],
   "source": [
    "def add_agents_by_list(keys_to_add, already_added, sweep_ids, n_agents=2, gpu=\"gypsum-1080ti\"):\n",
    "    for k in keys_to_add:\n",
    "        model, dataset, seed = k.split('_')\n",
    "        sweep_id = sweep_ids[k]\n",
    "        n_agents = n_agents\n",
    "        gpu_name = gpu\n",
    "        print(f'./add_agent.sh {dataset} {seed} {model} dhdhagar/prob-ent-resolution/{sweep_id} {n_agents} {gpu_name} \"{SWEEP_FLAGS}\" {SWEEP_PREFIX}')\n",
    "        !./add_agent.sh $dataset $seed $model dhdhagar/prob-ent-resolution/$sweep_id $n_agents $gpu_name \"$SWEEP_FLAGS\" $SWEEP_PREFIX\n",
    "        already_added.add(k)"
   ]
  },
  {
   "cell_type": "code",
   "execution_count": 13,
   "id": "d8eb8ddd",
   "metadata": {},
   "outputs": [],
   "source": [
    "def add_sweeps_by_list(keys_to_add, already_added, gpu=\"gypsum-1080ti\"):\n",
    "    for k in keys_to_add:\n",
    "        model, dataset, seed = k.split('_')\n",
    "        gpu_name = gpu\n",
    "        print(f'./add_agent.sh {dataset} {seed} {seed} {model} {gpu_name} \"{SWEEP_FLAGS}\" {SWEEP_PREFIX}')\n",
    "        !./run_sweep.sh $dataset $seed $seed $model $gpu_name \"$SWEEP_FLAGS\" $SWEEP_PREFIX\n",
    "        already_added.add(k)"
   ]
  },
  {
   "cell_type": "code",
   "execution_count": 14,
   "id": "9fae13bd",
   "metadata": {},
   "outputs": [],
   "source": [
    "def resubmit_pending_agents(already_added, sweep_ids, n_agents=2, gpu=\"gypsum-1080ti\"):\n",
    "    pending = !sacct --format=\"JobID,JobName%50,Partition,State\" | grep PENDING\n",
    "    print('\\n'.join(pending))\n",
    "    _pending_agents = set()\n",
    "    _pending_agent_ids = []\n",
    "    for pen in pending:\n",
    "        pen_split = pen.split()\n",
    "        model, dataset, seed, _ = pen_split[1].split('_')\n",
    "        seed_split = seed.split('-')\n",
    "        seed = seed_split[0][-1]\n",
    "        if len(seed_split) == 1:\n",
    "            # Sweep init job is pending\n",
    "            continue\n",
    "        else:\n",
    "            # Sweep agent job is pending\n",
    "            _pending_agents.add(f\"{model}_{dataset}_{seed}\")\n",
    "            _pending_agent_ids.append(pen_split[0])\n",
    "    print(f\"PENDING agents: {_pending_agents}\\n\")\n",
    "    if len(_pending_agents) > 0:\n",
    "        _pending_agent_ids = ' '.join(_pending_agent_ids)\n",
    "        print(f\"!scancel {_pending_agent_ids}\")\n",
    "        !scancel $_pending_agent_ids\n",
    "        add_agents_by_list(keys_to_add=_pending_agents, already_added=already_added,\n",
    "                           sweep_ids=sweep_ids, n_agents=n_agents, gpu=gpu)"
   ]
  },
  {
   "cell_type": "code",
   "execution_count": 15,
   "id": "72453bb9",
   "metadata": {},
   "outputs": [],
   "source": [
    "def resubmit_pending_sweeps(already_added, gpu=\"gypsum-1080ti\"):\n",
    "    pending = !sacct --format=\"JobID,JobName%50,Partition,State\" | grep PENDING\n",
    "    print('\\n'.join(pending))\n",
    "    _pending_sweeps = set()\n",
    "    _pending_sweep_ids = []\n",
    "    for pen in pending:\n",
    "        pen_split = pen.split()\n",
    "        model, dataset, seed, _ = pen_split[1].split('_')\n",
    "        seed_split = seed.split('-')\n",
    "        seed = seed_split[0][-1]\n",
    "        if len(seed_split) == 1:\n",
    "            # Sweep init job is pending\n",
    "            _pending_sweeps.add(f\"{model}_{dataset}_{seed}\")\n",
    "            _pending_sweep_ids.append(pen_split[0])\n",
    "        else:\n",
    "            # Sweep agent job is pending\n",
    "            continue\n",
    "    print(f\"PENDING sweeps: {_pending_sweeps}\\n\")\n",
    "    if len(_pending_sweeps) > 0:\n",
    "        _pending_sweep_ids = ' '.join(_pending_sweep_ids)\n",
    "        print(f\"!scancel {_pending_sweep_ids}\")\n",
    "        !scancel $_pending_sweep_ids\n",
    "        add_sweeps_by_list(keys_to_add=_pending_sweeps, already_added=already_added, gpu=gpu)"
   ]
  },
  {
   "cell_type": "code",
   "execution_count": null,
   "id": "dec2fa98",
   "metadata": {},
   "outputs": [],
   "source": []
  },
  {
   "cell_type": "code",
   "execution_count": null,
   "id": "4514f845",
   "metadata": {},
   "outputs": [],
   "source": []
  },
  {
   "cell_type": "code",
   "execution_count": 36,
   "id": "d160285f",
   "metadata": {},
   "outputs": [],
   "source": [
    "agents_added = set()"
   ]
  },
  {
   "cell_type": "code",
   "execution_count": 37,
   "id": "90230668",
   "metadata": {
    "scrolled": true
   },
   "outputs": [
    {
     "name": "stdout",
     "output_type": "stream",
     "text": [
      "./add_agent.sh pubmed 3 e2e dhdhagar/prob-ent-resolution/nr853f9c 2 cpu \"--keep_feat_idxs=0 --keep_feat_idxs=1 --keep_feat_idxs=2     --keep_feat_idxs=3 --keep_feat_idxs=4 --keep_feat_idxs=5     --keep_feat_idxs=14 --keep_feat_idxs=15\" feats8\n",
      "Submitted batch job 6776831\n",
      "    Logs: jobs/e2e_pubmed_sweep3-agent1_1680985411.err\n",
      "Submitted batch job 6776832\n",
      "    Logs: jobs/e2e_pubmed_sweep3-agent2_1680985411.err\n",
      "./add_agent.sh pubmed 2 e2e dhdhagar/prob-ent-resolution/w46o4bx8 2 cpu \"--keep_feat_idxs=0 --keep_feat_idxs=1 --keep_feat_idxs=2     --keep_feat_idxs=3 --keep_feat_idxs=4 --keep_feat_idxs=5     --keep_feat_idxs=14 --keep_feat_idxs=15\" feats8\n",
      "Submitted batch job 6776833\n",
      "    Logs: jobs/e2e_pubmed_sweep2-agent1_1680985411.err\n",
      "Submitted batch job 6776834\n",
      "    Logs: jobs/e2e_pubmed_sweep2-agent2_1680985411.err\n",
      "./add_agent.sh pubmed 1 frac-nosdp dhdhagar/prob-ent-resolution/mwzvxsd0 2 cpu \"--keep_feat_idxs=0 --keep_feat_idxs=1 --keep_feat_idxs=2     --keep_feat_idxs=3 --keep_feat_idxs=4 --keep_feat_idxs=5     --keep_feat_idxs=14 --keep_feat_idxs=15\" feats8\n",
      "Submitted batch job 6776835\n",
      "    Logs: jobs/frac-nosdp_pubmed_sweep1-agent1_1680985411.err\n",
      "Submitted batch job 6776836\n",
      "    Logs: jobs/frac-nosdp_pubmed_sweep1-agent2_1680985411.err\n",
      "./add_agent.sh pubmed 4 e2e dhdhagar/prob-ent-resolution/11b62vqp 2 cpu \"--keep_feat_idxs=0 --keep_feat_idxs=1 --keep_feat_idxs=2     --keep_feat_idxs=3 --keep_feat_idxs=4 --keep_feat_idxs=5     --keep_feat_idxs=14 --keep_feat_idxs=15\" feats8\n",
      "Submitted batch job 6776838\n",
      "    Logs: jobs/e2e_pubmed_sweep4-agent1_1680985412.err\n",
      "Submitted batch job 6776839\n",
      "    Logs: jobs/e2e_pubmed_sweep4-agent2_1680985412.err\n",
      "./add_agent.sh arnetminer 2 e2e dhdhagar/prob-ent-resolution/l4in1nqy 2 cpu \"--keep_feat_idxs=0 --keep_feat_idxs=1 --keep_feat_idxs=2     --keep_feat_idxs=3 --keep_feat_idxs=4 --keep_feat_idxs=5     --keep_feat_idxs=14 --keep_feat_idxs=15\" feats8\n",
      "Submitted batch job 6776840\n",
      "    Logs: jobs/e2e_arnetminer_sweep2-agent1_1680985412.err\n",
      "Submitted batch job 6776841\n",
      "    Logs: jobs/e2e_arnetminer_sweep2-agent2_1680985412.err\n",
      "./add_agent.sh qian 5 e2e dhdhagar/prob-ent-resolution/65vw99kk 2 cpu \"--keep_feat_idxs=0 --keep_feat_idxs=1 --keep_feat_idxs=2     --keep_feat_idxs=3 --keep_feat_idxs=4 --keep_feat_idxs=5     --keep_feat_idxs=14 --keep_feat_idxs=15\" feats8\n",
      "Submitted batch job 6776842\n",
      "    Logs: jobs/e2e_qian_sweep5-agent1_1680985412.err\n",
      "Submitted batch job 6776843\n",
      "    Logs: jobs/e2e_qian_sweep5-agent2_1680985412.err\n",
      "./add_agent.sh qian 3 e2e dhdhagar/prob-ent-resolution/pqlvo8xs 2 cpu \"--keep_feat_idxs=0 --keep_feat_idxs=1 --keep_feat_idxs=2     --keep_feat_idxs=3 --keep_feat_idxs=4 --keep_feat_idxs=5     --keep_feat_idxs=14 --keep_feat_idxs=15\" feats8\n",
      "Submitted batch job 6776844\n",
      "    Logs: jobs/e2e_qian_sweep3-agent1_1680985412.err\n",
      "Submitted batch job 6776845\n",
      "    Logs: jobs/e2e_qian_sweep3-agent2_1680985412.err\n",
      "./add_agent.sh qian 2 e2e-nosdp dhdhagar/prob-ent-resolution/q11txitq 2 cpu \"--keep_feat_idxs=0 --keep_feat_idxs=1 --keep_feat_idxs=2     --keep_feat_idxs=3 --keep_feat_idxs=4 --keep_feat_idxs=5     --keep_feat_idxs=14 --keep_feat_idxs=15\" feats8\n",
      "Submitted batch job 6776846\n",
      "    Logs: jobs/e2e-nosdp_qian_sweep2-agent1_1680985413.err\n",
      "Submitted batch job 6776847\n",
      "    Logs: jobs/e2e-nosdp_qian_sweep2-agent2_1680985413.err\n",
      "./add_agent.sh arnetminer 3 e2e-nosdp dhdhagar/prob-ent-resolution/4mawury2 2 cpu \"--keep_feat_idxs=0 --keep_feat_idxs=1 --keep_feat_idxs=2     --keep_feat_idxs=3 --keep_feat_idxs=4 --keep_feat_idxs=5     --keep_feat_idxs=14 --keep_feat_idxs=15\" feats8\n",
      "Submitted batch job 6776848\n",
      "    Logs: jobs/e2e-nosdp_arnetminer_sweep3-agent1_1680985413.err\n",
      "Submitted batch job 6776849\n",
      "    Logs: jobs/e2e-nosdp_arnetminer_sweep3-agent2_1680985413.err\n",
      "./add_agent.sh arnetminer 5 e2e dhdhagar/prob-ent-resolution/w9yys3oy 2 cpu \"--keep_feat_idxs=0 --keep_feat_idxs=1 --keep_feat_idxs=2     --keep_feat_idxs=3 --keep_feat_idxs=4 --keep_feat_idxs=5     --keep_feat_idxs=14 --keep_feat_idxs=15\" feats8\n",
      "Submitted batch job 6776850\n",
      "    Logs: jobs/e2e_arnetminer_sweep5-agent1_1680985413.err\n",
      "Submitted batch job 6776852\n",
      "    Logs: jobs/e2e_arnetminer_sweep5-agent2_1680985413.err\n",
      "./add_agent.sh arnetminer 3 frac-nosdp dhdhagar/prob-ent-resolution/t3zpvzr2 2 cpu \"--keep_feat_idxs=0 --keep_feat_idxs=1 --keep_feat_idxs=2     --keep_feat_idxs=3 --keep_feat_idxs=4 --keep_feat_idxs=5     --keep_feat_idxs=14 --keep_feat_idxs=15\" feats8\n",
      "Submitted batch job 6776853\n",
      "    Logs: jobs/frac-nosdp_arnetminer_sweep3-agent1_1680985414.err\n",
      "Submitted batch job 6776854\n",
      "    Logs: jobs/frac-nosdp_arnetminer_sweep3-agent2_1680985414.err\n",
      "./add_agent.sh qian 2 e2e dhdhagar/prob-ent-resolution/cfwnm7do 2 cpu \"--keep_feat_idxs=0 --keep_feat_idxs=1 --keep_feat_idxs=2     --keep_feat_idxs=3 --keep_feat_idxs=4 --keep_feat_idxs=5     --keep_feat_idxs=14 --keep_feat_idxs=15\" feats8\n",
      "Submitted batch job 6776855\n",
      "    Logs: jobs/e2e_qian_sweep2-agent1_1680985414.err\n",
      "Submitted batch job 6776856\n",
      "    Logs: jobs/e2e_qian_sweep2-agent2_1680985414.err\n",
      "./add_agent.sh qian 1 e2e dhdhagar/prob-ent-resolution/gdey3qwe 2 cpu \"--keep_feat_idxs=0 --keep_feat_idxs=1 --keep_feat_idxs=2     --keep_feat_idxs=3 --keep_feat_idxs=4 --keep_feat_idxs=5     --keep_feat_idxs=14 --keep_feat_idxs=15\" feats8\n",
      "Submitted batch job 6776857\n",
      "    Logs: jobs/e2e_qian_sweep1-agent1_1680985414.err\n",
      "Submitted batch job 6776858\n",
      "    Logs: jobs/e2e_qian_sweep1-agent2_1680985414.err\n",
      "./add_agent.sh arnetminer 3 e2e dhdhagar/prob-ent-resolution/a12j0iz6 2 cpu \"--keep_feat_idxs=0 --keep_feat_idxs=1 --keep_feat_idxs=2     --keep_feat_idxs=3 --keep_feat_idxs=4 --keep_feat_idxs=5     --keep_feat_idxs=14 --keep_feat_idxs=15\" feats8\n",
      "Submitted batch job 6776859\n",
      "    Logs: jobs/e2e_arnetminer_sweep3-agent1_1680985415.err\n",
      "Submitted batch job 6776860\n",
      "    Logs: jobs/e2e_arnetminer_sweep3-agent2_1680985415.err\n",
      "./add_agent.sh qian 4 e2e dhdhagar/prob-ent-resolution/bfke5kn9 2 cpu \"--keep_feat_idxs=0 --keep_feat_idxs=1 --keep_feat_idxs=2     --keep_feat_idxs=3 --keep_feat_idxs=4 --keep_feat_idxs=5     --keep_feat_idxs=14 --keep_feat_idxs=15\" feats8\n",
      "Submitted batch job 6776861\n",
      "    Logs: jobs/e2e_qian_sweep4-agent1_1680985415.err\n",
      "Submitted batch job 6776862\n",
      "    Logs: jobs/e2e_qian_sweep4-agent2_1680985415.err\n",
      "./add_agent.sh arnetminer 1 frac-nosdp dhdhagar/prob-ent-resolution/0lc3ddpr 2 cpu \"--keep_feat_idxs=0 --keep_feat_idxs=1 --keep_feat_idxs=2     --keep_feat_idxs=3 --keep_feat_idxs=4 --keep_feat_idxs=5     --keep_feat_idxs=14 --keep_feat_idxs=15\" feats8\n",
      "Submitted batch job 6776863\n",
      "    Logs: jobs/frac-nosdp_arnetminer_sweep1-agent1_1680985415.err\n",
      "Submitted batch job 6776864\n",
      "    Logs: jobs/frac-nosdp_arnetminer_sweep1-agent2_1680985415.err\n",
      "./add_agent.sh arnetminer 3 frac dhdhagar/prob-ent-resolution/vptzi17b 2 cpu \"--keep_feat_idxs=0 --keep_feat_idxs=1 --keep_feat_idxs=2     --keep_feat_idxs=3 --keep_feat_idxs=4 --keep_feat_idxs=5     --keep_feat_idxs=14 --keep_feat_idxs=15\" feats8\n",
      "Submitted batch job 6776865\n",
      "    Logs: jobs/frac_arnetminer_sweep3-agent1_1680985416.err\n",
      "Submitted batch job 6776867\n",
      "    Logs: jobs/frac_arnetminer_sweep3-agent2_1680985416.err\n",
      "./add_agent.sh arnetminer 1 e2e dhdhagar/prob-ent-resolution/hj0e3hvn 2 cpu \"--keep_feat_idxs=0 --keep_feat_idxs=1 --keep_feat_idxs=2     --keep_feat_idxs=3 --keep_feat_idxs=4 --keep_feat_idxs=5     --keep_feat_idxs=14 --keep_feat_idxs=15\" feats8\n",
      "Submitted batch job 6776868\n",
      "    Logs: jobs/e2e_arnetminer_sweep1-agent1_1680985416.err\n",
      "Submitted batch job 6776869\n",
      "    Logs: jobs/e2e_arnetminer_sweep1-agent2_1680985416.err\n",
      "./add_agent.sh arnetminer 4 e2e dhdhagar/prob-ent-resolution/tm73ql7r 2 cpu \"--keep_feat_idxs=0 --keep_feat_idxs=1 --keep_feat_idxs=2     --keep_feat_idxs=3 --keep_feat_idxs=4 --keep_feat_idxs=5     --keep_feat_idxs=14 --keep_feat_idxs=15\" feats8\n",
      "Submitted batch job 6776870\n",
      "    Logs: jobs/e2e_arnetminer_sweep4-agent1_1680985416.err\n",
      "Submitted batch job 6776871\n",
      "    Logs: jobs/e2e_arnetminer_sweep4-agent2_1680985417.err\n",
      "./add_agent.sh arnetminer 3 mlp dhdhagar/prob-ent-resolution/yglwu3bl 2 cpu \"--keep_feat_idxs=0 --keep_feat_idxs=1 --keep_feat_idxs=2     --keep_feat_idxs=3 --keep_feat_idxs=4 --keep_feat_idxs=5     --keep_feat_idxs=14 --keep_feat_idxs=15\" feats8\n",
      "Submitted batch job 6776872\n",
      "    Logs: jobs/mlp_arnetminer_sweep3-agent1_1680985417.err\n"
     ]
    },
    {
     "name": "stdout",
     "output_type": "stream",
     "text": [
      "Submitted batch job 6776873\r\n",
      "    Logs: jobs/mlp_arnetminer_sweep3-agent2_1680985417.err\r\n"
     ]
    }
   ],
   "source": [
    "add_agents(max_run_count_filter=60, already_added=agents_added, \n",
    "           sweep_finished_count=finished_runs, sweep_ids=all_sweeps, \n",
    "           n_agents=2, gpu=\"cpu\")"
   ]
  },
  {
   "cell_type": "code",
   "execution_count": null,
   "id": "52393409",
   "metadata": {},
   "outputs": [],
   "source": [
    "add_agents(max_run_count_filter=30, already_added=agents_added, \n",
    "           sweep_finished_count=finished_runs, sweep_ids=all_sweeps, \n",
    "           n_agents=2, gpu=\"gypsum-1080ti\")"
   ]
  },
  {
   "cell_type": "code",
   "execution_count": 29,
   "id": "cc9fc3ac",
   "metadata": {
    "scrolled": true
   },
   "outputs": [
    {
     "name": "stdout",
     "output_type": "stream",
     "text": [
      "./add_agent.sh pubmed 3 e2e dhdhagar/prob-ent-resolution/nr853f9c 2 gypsum-2080ti \"--keep_feat_idxs=0 --keep_feat_idxs=1 --keep_feat_idxs=2     --keep_feat_idxs=3 --keep_feat_idxs=4 --keep_feat_idxs=5     --keep_feat_idxs=14 --keep_feat_idxs=15\" feats8\n",
      "Submitted batch job 6748713\n",
      "    Logs: jobs/e2e_pubmed_sweep3-agent1_1680933250.err\n",
      "Submitted batch job 6748714\n",
      "    Logs: jobs/e2e_pubmed_sweep3-agent2_1680933250.err\n",
      "./add_agent.sh pubmed 1 e2e dhdhagar/prob-ent-resolution/bg6l5u1j 2 gypsum-2080ti \"--keep_feat_idxs=0 --keep_feat_idxs=1 --keep_feat_idxs=2     --keep_feat_idxs=3 --keep_feat_idxs=4 --keep_feat_idxs=5     --keep_feat_idxs=14 --keep_feat_idxs=15\" feats8\n",
      "Submitted batch job 6748715\n",
      "    Logs: jobs/e2e_pubmed_sweep1-agent1_1680933250.err\n",
      "Submitted batch job 6748716\n",
      "    Logs: jobs/e2e_pubmed_sweep1-agent2_1680933250.err\n",
      "./add_agent.sh pubmed 2 e2e dhdhagar/prob-ent-resolution/w46o4bx8 2 gypsum-2080ti \"--keep_feat_idxs=0 --keep_feat_idxs=1 --keep_feat_idxs=2     --keep_feat_idxs=3 --keep_feat_idxs=4 --keep_feat_idxs=5     --keep_feat_idxs=14 --keep_feat_idxs=15\" feats8\n",
      "Submitted batch job 6748717\n",
      "    Logs: jobs/e2e_pubmed_sweep2-agent1_1680933250.err\n",
      "Submitted batch job 6748718\n",
      "    Logs: jobs/e2e_pubmed_sweep2-agent2_1680933251.err\n",
      "./add_agent.sh qian 5 frac dhdhagar/prob-ent-resolution/h9yehprj 2 gypsum-2080ti \"--keep_feat_idxs=0 --keep_feat_idxs=1 --keep_feat_idxs=2     --keep_feat_idxs=3 --keep_feat_idxs=4 --keep_feat_idxs=5     --keep_feat_idxs=14 --keep_feat_idxs=15\" feats8\n",
      "Submitted batch job 6748720\n",
      "    Logs: jobs/frac_qian_sweep5-agent1_1680933251.err\n",
      "Submitted batch job 6748721\n",
      "    Logs: jobs/frac_qian_sweep5-agent2_1680933251.err\n",
      "./add_agent.sh pubmed 5 e2e dhdhagar/prob-ent-resolution/tpb657t0 2 gypsum-2080ti \"--keep_feat_idxs=0 --keep_feat_idxs=1 --keep_feat_idxs=2     --keep_feat_idxs=3 --keep_feat_idxs=4 --keep_feat_idxs=5     --keep_feat_idxs=14 --keep_feat_idxs=15\" feats8\n",
      "Submitted batch job 6748722\n",
      "    Logs: jobs/e2e_pubmed_sweep5-agent1_1680933251.err\n",
      "Submitted batch job 6748723\n",
      "    Logs: jobs/e2e_pubmed_sweep5-agent2_1680933251.err\n",
      "./add_agent.sh arnetminer 5 frac dhdhagar/prob-ent-resolution/y05a1y3c 2 gypsum-2080ti \"--keep_feat_idxs=0 --keep_feat_idxs=1 --keep_feat_idxs=2     --keep_feat_idxs=3 --keep_feat_idxs=4 --keep_feat_idxs=5     --keep_feat_idxs=14 --keep_feat_idxs=15\" feats8\n",
      "Submitted batch job 6748724\n",
      "    Logs: jobs/frac_arnetminer_sweep5-agent1_1680933251.err\n",
      "Submitted batch job 6748725\n",
      "    Logs: jobs/frac_arnetminer_sweep5-agent2_1680933251.err\n",
      "./add_agent.sh arnetminer 4 frac dhdhagar/prob-ent-resolution/48iujzqq 2 gypsum-2080ti \"--keep_feat_idxs=0 --keep_feat_idxs=1 --keep_feat_idxs=2     --keep_feat_idxs=3 --keep_feat_idxs=4 --keep_feat_idxs=5     --keep_feat_idxs=14 --keep_feat_idxs=15\" feats8\n",
      "Submitted batch job 6748726\n",
      "    Logs: jobs/frac_arnetminer_sweep4-agent1_1680933251.err\n",
      "Submitted batch job 6748727\n",
      "    Logs: jobs/frac_arnetminer_sweep4-agent2_1680933251.err\n"
     ]
    }
   ],
   "source": [
    "add_agents(max_run_count_filter=30, already_added=agents_added, \n",
    "           sweep_finished_count=finished_runs, sweep_ids=all_sweeps, \n",
    "           n_agents=2, gpu=\"gypsum-2080ti\")"
   ]
  },
  {
   "cell_type": "code",
   "execution_count": 30,
   "id": "6255c6fe",
   "metadata": {
    "scrolled": true
   },
   "outputs": [
    {
     "name": "stdout",
     "output_type": "stream",
     "text": [
      "./add_agent.sh pubmed 3 frac dhdhagar/prob-ent-resolution/3j18jnrp 2 gypsum-titanx \"--keep_feat_idxs=0 --keep_feat_idxs=1 --keep_feat_idxs=2     --keep_feat_idxs=3 --keep_feat_idxs=4 --keep_feat_idxs=5     --keep_feat_idxs=14 --keep_feat_idxs=15\" feats8\n",
      "Submitted batch job 6748729\n",
      "    Logs: jobs/frac_pubmed_sweep3-agent1_1680933253.err\n",
      "Submitted batch job 6748730\n",
      "    Logs: jobs/frac_pubmed_sweep3-agent2_1680933253.err\n",
      "./add_agent.sh pubmed 2 frac dhdhagar/prob-ent-resolution/1py4a59t 2 gypsum-titanx \"--keep_feat_idxs=0 --keep_feat_idxs=1 --keep_feat_idxs=2     --keep_feat_idxs=3 --keep_feat_idxs=4 --keep_feat_idxs=5     --keep_feat_idxs=14 --keep_feat_idxs=15\" feats8\n",
      "Submitted batch job 6748731\n",
      "    Logs: jobs/frac_pubmed_sweep2-agent1_1680933253.err\n",
      "Submitted batch job 6748732\n",
      "    Logs: jobs/frac_pubmed_sweep2-agent2_1680933253.err\n",
      "./add_agent.sh pubmed 4 frac dhdhagar/prob-ent-resolution/uuruuipk 2 gypsum-titanx \"--keep_feat_idxs=0 --keep_feat_idxs=1 --keep_feat_idxs=2     --keep_feat_idxs=3 --keep_feat_idxs=4 --keep_feat_idxs=5     --keep_feat_idxs=14 --keep_feat_idxs=15\" feats8\n",
      "Submitted batch job 6748733\n",
      "    Logs: jobs/frac_pubmed_sweep4-agent1_1680933254.err\n",
      "Submitted batch job 6748734\n",
      "    Logs: jobs/frac_pubmed_sweep4-agent2_1680933254.err\n",
      "./add_agent.sh qian 3 e2e-nosdp dhdhagar/prob-ent-resolution/e6c8yxxh 2 gypsum-titanx \"--keep_feat_idxs=0 --keep_feat_idxs=1 --keep_feat_idxs=2     --keep_feat_idxs=3 --keep_feat_idxs=4 --keep_feat_idxs=5     --keep_feat_idxs=14 --keep_feat_idxs=15\" feats8\n",
      "Submitted batch job 6748735\n",
      "    Logs: jobs/e2e-nosdp_qian_sweep3-agent1_1680933254.err\n",
      "Submitted batch job 6748736\n",
      "    Logs: jobs/e2e-nosdp_qian_sweep3-agent2_1680933254.err\n",
      "./add_agent.sh qian 2 frac-nosdp dhdhagar/prob-ent-resolution/tpa4521e 2 gypsum-titanx \"--keep_feat_idxs=0 --keep_feat_idxs=1 --keep_feat_idxs=2     --keep_feat_idxs=3 --keep_feat_idxs=4 --keep_feat_idxs=5     --keep_feat_idxs=14 --keep_feat_idxs=15\" feats8\n",
      "Submitted batch job 6748737\n",
      "    Logs: jobs/frac-nosdp_qian_sweep2-agent1_1680933254.err\n",
      "Submitted batch job 6748738\n",
      "    Logs: jobs/frac-nosdp_qian_sweep2-agent2_1680933254.err\n",
      "./add_agent.sh qian 4 e2e-nosdp dhdhagar/prob-ent-resolution/mqlxmip7 2 gypsum-titanx \"--keep_feat_idxs=0 --keep_feat_idxs=1 --keep_feat_idxs=2     --keep_feat_idxs=3 --keep_feat_idxs=4 --keep_feat_idxs=5     --keep_feat_idxs=14 --keep_feat_idxs=15\" feats8\n",
      "Submitted batch job 6748739\n",
      "    Logs: jobs/e2e-nosdp_qian_sweep4-agent1_1680933254.err\n",
      "Submitted batch job 6748740\n",
      "    Logs: jobs/e2e-nosdp_qian_sweep4-agent2_1680933254.err\n",
      "./add_agent.sh qian 2 frac dhdhagar/prob-ent-resolution/hgwd9q2u 2 gypsum-titanx \"--keep_feat_idxs=0 --keep_feat_idxs=1 --keep_feat_idxs=2     --keep_feat_idxs=3 --keep_feat_idxs=4 --keep_feat_idxs=5     --keep_feat_idxs=14 --keep_feat_idxs=15\" feats8\n",
      "Submitted batch job 6748741\n",
      "    Logs: jobs/frac_qian_sweep2-agent1_1680933254.err\n",
      "Submitted batch job 6748742\n",
      "    Logs: jobs/frac_qian_sweep2-agent2_1680933254.err\n",
      "./add_agent.sh qian 1 frac dhdhagar/prob-ent-resolution/uruem2yn 2 gypsum-titanx \"--keep_feat_idxs=0 --keep_feat_idxs=1 --keep_feat_idxs=2     --keep_feat_idxs=3 --keep_feat_idxs=4 --keep_feat_idxs=5     --keep_feat_idxs=14 --keep_feat_idxs=15\" feats8\n",
      "Submitted batch job 6748743\n",
      "    Logs: jobs/frac_qian_sweep1-agent1_1680933255.err\n",
      "Submitted batch job 6748744\n",
      "    Logs: jobs/frac_qian_sweep1-agent2_1680933255.err\n",
      "./add_agent.sh qian 1 frac-nosdp dhdhagar/prob-ent-resolution/s4d3gvd6 2 gypsum-titanx \"--keep_feat_idxs=0 --keep_feat_idxs=1 --keep_feat_idxs=2     --keep_feat_idxs=3 --keep_feat_idxs=4 --keep_feat_idxs=5     --keep_feat_idxs=14 --keep_feat_idxs=15\" feats8\n",
      "Submitted batch job 6748745\n",
      "    Logs: jobs/frac-nosdp_qian_sweep1-agent1_1680933255.err\n",
      "Submitted batch job 6748746\n",
      "    Logs: jobs/frac-nosdp_qian_sweep1-agent2_1680933255.err\n",
      "./add_agent.sh qian 4 frac dhdhagar/prob-ent-resolution/7nk6xj32 2 gypsum-titanx \"--keep_feat_idxs=0 --keep_feat_idxs=1 --keep_feat_idxs=2     --keep_feat_idxs=3 --keep_feat_idxs=4 --keep_feat_idxs=5     --keep_feat_idxs=14 --keep_feat_idxs=15\" feats8\n",
      "Submitted batch job 6748748\n",
      "    Logs: jobs/frac_qian_sweep4-agent1_1680933255.err\n",
      "Submitted batch job 6748749\n",
      "    Logs: jobs/frac_qian_sweep4-agent2_1680933255.err\n",
      "./add_agent.sh arnetminer 1 frac dhdhagar/prob-ent-resolution/dhpzhae4 2 gypsum-titanx \"--keep_feat_idxs=0 --keep_feat_idxs=1 --keep_feat_idxs=2     --keep_feat_idxs=3 --keep_feat_idxs=4 --keep_feat_idxs=5     --keep_feat_idxs=14 --keep_feat_idxs=15\" feats8\n",
      "Submitted batch job 6748750\n",
      "    Logs: jobs/frac_arnetminer_sweep1-agent1_1680933255.err\n",
      "Submitted batch job 6748751\n",
      "    Logs: jobs/frac_arnetminer_sweep1-agent2_1680933255.err\n"
     ]
    }
   ],
   "source": [
    "add_agents(max_run_count_filter=40, already_added=agents_added, \n",
    "           sweep_finished_count=finished_runs, sweep_ids=all_sweeps, \n",
    "           n_agents=2, gpu=\"gypsum-titanx\")"
   ]
  },
  {
   "cell_type": "code",
   "execution_count": 31,
   "id": "d41cd8a7",
   "metadata": {
    "scrolled": true
   },
   "outputs": [
    {
     "name": "stdout",
     "output_type": "stream",
     "text": [
      "./add_agent.sh pubmed 2 frac-nosdp dhdhagar/prob-ent-resolution/uvjk8ltp 2 gpu \"--keep_feat_idxs=0 --keep_feat_idxs=1 --keep_feat_idxs=2     --keep_feat_idxs=3 --keep_feat_idxs=4 --keep_feat_idxs=5     --keep_feat_idxs=14 --keep_feat_idxs=15\" feats8\n",
      "Submitted batch job 6748752\n",
      "    Logs: jobs/frac-nosdp_pubmed_sweep2-agent1_1680933256.err\n",
      "Submitted batch job 6748753\n",
      "    Logs: jobs/frac-nosdp_pubmed_sweep2-agent2_1680933256.err\n",
      "./add_agent.sh pubmed 1 frac dhdhagar/prob-ent-resolution/79z8xtk8 2 gpu \"--keep_feat_idxs=0 --keep_feat_idxs=1 --keep_feat_idxs=2     --keep_feat_idxs=3 --keep_feat_idxs=4 --keep_feat_idxs=5     --keep_feat_idxs=14 --keep_feat_idxs=15\" feats8\n",
      "Submitted batch job 6748754\n",
      "    Logs: jobs/frac_pubmed_sweep1-agent1_1680933257.err\n",
      "Submitted batch job 6748755\n",
      "    Logs: jobs/frac_pubmed_sweep1-agent2_1680933257.err\n",
      "./add_agent.sh arnetminer 2 frac dhdhagar/prob-ent-resolution/cl1bjd96 2 gpu \"--keep_feat_idxs=0 --keep_feat_idxs=1 --keep_feat_idxs=2     --keep_feat_idxs=3 --keep_feat_idxs=4 --keep_feat_idxs=5     --keep_feat_idxs=14 --keep_feat_idxs=15\" feats8\n",
      "Submitted batch job 6748756\n",
      "    Logs: jobs/frac_arnetminer_sweep2-agent1_1680933257.err\n",
      "Submitted batch job 6748757\n",
      "    Logs: jobs/frac_arnetminer_sweep2-agent2_1680933257.err\n",
      "./add_agent.sh qian 5 e2e-nosdp dhdhagar/prob-ent-resolution/gi1xmv66 2 gpu \"--keep_feat_idxs=0 --keep_feat_idxs=1 --keep_feat_idxs=2     --keep_feat_idxs=3 --keep_feat_idxs=4 --keep_feat_idxs=5     --keep_feat_idxs=14 --keep_feat_idxs=15\" feats8\n",
      "Submitted batch job 6748758\n",
      "    Logs: jobs/e2e-nosdp_qian_sweep5-agent1_1680933257.err\n",
      "Submitted batch job 6748760\n",
      "    Logs: jobs/e2e-nosdp_qian_sweep5-agent2_1680933257.err\n",
      "./add_agent.sh pubmed 5 frac dhdhagar/prob-ent-resolution/308gl6xw 2 gpu \"--keep_feat_idxs=0 --keep_feat_idxs=1 --keep_feat_idxs=2     --keep_feat_idxs=3 --keep_feat_idxs=4 --keep_feat_idxs=5     --keep_feat_idxs=14 --keep_feat_idxs=15\" feats8\n",
      "Submitted batch job 6748761\n",
      "    Logs: jobs/frac_pubmed_sweep5-agent1_1680933257.err\n",
      "Submitted batch job 6748762\n",
      "    Logs: jobs/frac_pubmed_sweep5-agent2_1680933257.err\n",
      "./add_agent.sh qian 3 frac dhdhagar/prob-ent-resolution/3qehp5l2 2 gpu \"--keep_feat_idxs=0 --keep_feat_idxs=1 --keep_feat_idxs=2     --keep_feat_idxs=3 --keep_feat_idxs=4 --keep_feat_idxs=5     --keep_feat_idxs=14 --keep_feat_idxs=15\" feats8\n",
      "Submitted batch job 6748763\n",
      "    Logs: jobs/frac_qian_sweep3-agent1_1680933257.err\n",
      "Submitted batch job 6748764\n",
      "    Logs: jobs/frac_qian_sweep3-agent2_1680933257.err\n",
      "./add_agent.sh qian 5 mlp dhdhagar/prob-ent-resolution/i90wby7q 2 gpu \"--keep_feat_idxs=0 --keep_feat_idxs=1 --keep_feat_idxs=2     --keep_feat_idxs=3 --keep_feat_idxs=4 --keep_feat_idxs=5     --keep_feat_idxs=14 --keep_feat_idxs=15\" feats8\n",
      "Submitted batch job 6748765\n",
      "    Logs: jobs/mlp_qian_sweep5-agent1_1680933258.err\n",
      "Submitted batch job 6748766\n",
      "    Logs: jobs/mlp_qian_sweep5-agent2_1680933258.err\n",
      "./add_agent.sh qian 4 mlp dhdhagar/prob-ent-resolution/nun2vs6d 2 gpu \"--keep_feat_idxs=0 --keep_feat_idxs=1 --keep_feat_idxs=2     --keep_feat_idxs=3 --keep_feat_idxs=4 --keep_feat_idxs=5     --keep_feat_idxs=14 --keep_feat_idxs=15\" feats8\n",
      "Submitted batch job 6748767\n",
      "    Logs: jobs/mlp_qian_sweep4-agent1_1680933258.err\n",
      "Submitted batch job 6748768\n",
      "    Logs: jobs/mlp_qian_sweep4-agent2_1680933258.err\n",
      "./add_agent.sh pubmed 5 mlp dhdhagar/prob-ent-resolution/rrmodmoc 2 gpu \"--keep_feat_idxs=0 --keep_feat_idxs=1 --keep_feat_idxs=2     --keep_feat_idxs=3 --keep_feat_idxs=4 --keep_feat_idxs=5     --keep_feat_idxs=14 --keep_feat_idxs=15\" feats8\n",
      "Submitted batch job 6748769\n",
      "    Logs: jobs/mlp_pubmed_sweep5-agent1_1680933258.err\n",
      "Submitted batch job 6748770\n",
      "    Logs: jobs/mlp_pubmed_sweep5-agent2_1680933258.err\n",
      "./add_agent.sh qian 3 mlp dhdhagar/prob-ent-resolution/6j25xh4w 2 gpu \"--keep_feat_idxs=0 --keep_feat_idxs=1 --keep_feat_idxs=2     --keep_feat_idxs=3 --keep_feat_idxs=4 --keep_feat_idxs=5     --keep_feat_idxs=14 --keep_feat_idxs=15\" feats8\n",
      "Submitted batch job 6748771\n",
      "    Logs: jobs/mlp_qian_sweep3-agent1_1680933258.err\n",
      "Submitted batch job 6748772\n",
      "    Logs: jobs/mlp_qian_sweep3-agent2_1680933258.err\n",
      "./add_agent.sh qian 2 mlp dhdhagar/prob-ent-resolution/gcteakms 2 gpu \"--keep_feat_idxs=0 --keep_feat_idxs=1 --keep_feat_idxs=2     --keep_feat_idxs=3 --keep_feat_idxs=4 --keep_feat_idxs=5     --keep_feat_idxs=14 --keep_feat_idxs=15\" feats8\n",
      "Submitted batch job 6748773\n",
      "    Logs: jobs/mlp_qian_sweep2-agent1_1680933258.err\n",
      "Submitted batch job 6748774\n",
      "    Logs: jobs/mlp_qian_sweep2-agent2_1680933258.err\n",
      "./add_agent.sh qian 1 mlp dhdhagar/prob-ent-resolution/72g02mo5 2 gpu \"--keep_feat_idxs=0 --keep_feat_idxs=1 --keep_feat_idxs=2     --keep_feat_idxs=3 --keep_feat_idxs=4 --keep_feat_idxs=5     --keep_feat_idxs=14 --keep_feat_idxs=15\" feats8\n",
      "Submitted batch job 6748775\n",
      "    Logs: jobs/mlp_qian_sweep1-agent1_1680933259.err\n",
      "Submitted batch job 6748776\n",
      "    Logs: jobs/mlp_qian_sweep1-agent2_1680933259.err\n"
     ]
    }
   ],
   "source": [
    "add_agents(max_run_count_filter=50, already_added=agents_added, \n",
    "           sweep_finished_count=finished_runs, sweep_ids=all_sweeps, \n",
    "           n_agents=2, gpu=\"gpu\")"
   ]
  },
  {
   "cell_type": "code",
   "execution_count": 32,
   "id": "c402488e",
   "metadata": {},
   "outputs": [
    {
     "name": "stdout",
     "output_type": "stream",
     "text": [
      "6748771                       mlp_qian_sweep3-agent1_1680933258        gpu    PENDING \n",
      "6748772                       mlp_qian_sweep3-agent2_1680933258        gpu    PENDING \n",
      "6748773                       mlp_qian_sweep2-agent1_1680933258        gpu    PENDING \n",
      "6748774                       mlp_qian_sweep2-agent2_1680933258        gpu    PENDING \n",
      "6748775                       mlp_qian_sweep1-agent1_1680933259        gpu    PENDING \n",
      "6748776                       mlp_qian_sweep1-agent2_1680933259        gpu    PENDING \n",
      "PENDING agents: {'mlp_qian_2', 'mlp_qian_1', 'mlp_qian_3'}\n",
      "!scancel 6748771 6748772 6748773 6748774 6748775 6748776\n",
      "./add_agent.sh qian 2 mlp dhdhagar/prob-ent-resolution/gcteakms 2 gypsum-titanx \"--keep_feat_idxs=0 --keep_feat_idxs=1 --keep_feat_idxs=2     --keep_feat_idxs=3 --keep_feat_idxs=4 --keep_feat_idxs=5     --keep_feat_idxs=14 --keep_feat_idxs=15\" feats8\n",
      "Submitted batch job 6748851\n",
      "    Logs: jobs/mlp_qian_sweep2-agent1_1680933409.err\n",
      "Submitted batch job 6748852\n",
      "    Logs: jobs/mlp_qian_sweep2-agent2_1680933409.err\n",
      "./add_agent.sh qian 1 mlp dhdhagar/prob-ent-resolution/72g02mo5 2 gypsum-titanx \"--keep_feat_idxs=0 --keep_feat_idxs=1 --keep_feat_idxs=2     --keep_feat_idxs=3 --keep_feat_idxs=4 --keep_feat_idxs=5     --keep_feat_idxs=14 --keep_feat_idxs=15\" feats8\n",
      "Submitted batch job 6748853\n",
      "    Logs: jobs/mlp_qian_sweep1-agent1_1680933409.err\n",
      "Submitted batch job 6748854\n",
      "    Logs: jobs/mlp_qian_sweep1-agent2_1680933409.err\n",
      "./add_agent.sh qian 3 mlp dhdhagar/prob-ent-resolution/6j25xh4w 2 gypsum-titanx \"--keep_feat_idxs=0 --keep_feat_idxs=1 --keep_feat_idxs=2     --keep_feat_idxs=3 --keep_feat_idxs=4 --keep_feat_idxs=5     --keep_feat_idxs=14 --keep_feat_idxs=15\" feats8\n",
      "Submitted batch job 6748855\n",
      "    Logs: jobs/mlp_qian_sweep3-agent1_1680933409.err\n",
      "Submitted batch job 6748856\n",
      "    Logs: jobs/mlp_qian_sweep3-agent2_1680933409.err\n"
     ]
    }
   ],
   "source": [
    "resubmit_pending_agents(already_added=agents_added, sweep_ids=all_sweeps,\n",
    "                 n_agents=2, gpu=\"gypsum-titanx\")"
   ]
  },
  {
   "cell_type": "code",
   "execution_count": 33,
   "id": "5dd69cb0",
   "metadata": {},
   "outputs": [
    {
     "name": "stdout",
     "output_type": "stream",
     "text": [
      "\n",
      "PENDING agents: set()\n"
     ]
    }
   ],
   "source": [
    "resubmit_pending_agents(already_added=agents_added, sweep_ids=all_sweeps,\n",
    "                 n_agents=2, gpu=\"gypsum-titanx\")"
   ]
  },
  {
   "cell_type": "code",
   "execution_count": null,
   "id": "2f124026",
   "metadata": {},
   "outputs": [],
   "source": []
  }
 ],
 "metadata": {
  "kernelspec": {
   "display_name": "Python 3 (ipykernel)",
   "language": "python",
   "name": "python3"
  },
  "language_info": {
   "codemirror_mode": {
    "name": "ipython",
    "version": 3
   },
   "file_extension": ".py",
   "mimetype": "text/x-python",
   "name": "python",
   "nbconvert_exporter": "python",
   "pygments_lexer": "ipython3",
   "version": "3.7.0"
  }
 },
 "nbformat": 4,
 "nbformat_minor": 5
}
